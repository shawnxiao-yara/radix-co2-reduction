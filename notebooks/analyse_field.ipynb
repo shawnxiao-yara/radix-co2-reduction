{
 "cells": [
  {
   "cell_type": "code",
   "execution_count": 1,
   "id": "0f8215c7",
   "metadata": {},
   "outputs": [
    {
     "name": "stdout",
     "output_type": "stream",
     "text": [
      "/Users/rubenbroekx/Documents/Projects/radix-co2-reduction\n"
     ]
    }
   ],
   "source": [
    "%load_ext autoreload\n",
    "%autoreload 2\n",
    "\n",
    "%cd .."
   ]
  },
  {
   "cell_type": "markdown",
   "id": "c69a0c1e",
   "metadata": {},
   "source": [
    "# Analyse Field\n",
    "\n",
    "Analyse a single field using its coordinates and Google Earth Engine satellite imagery."
   ]
  },
  {
   "cell_type": "code",
   "execution_count": 8,
   "id": "b1c1d78c",
   "metadata": {},
   "outputs": [],
   "source": [
    "import re\n",
    "import ee\n",
    "import json\n",
    "import folium\n",
    "import pandas as pd\n",
    "import matplotlib.pyplot as plt\n",
    "import matplotlib.image as mpimg\n",
    "\n",
    "from datetime import datetime\n",
    "from pathlib import Path\n",
    "\n",
    "from src.radix_co2_reduction.earth_engine.visualisation import create_map, show_polygon, show_point\n",
    "from src.radix_co2_reduction.earth_engine.datasets import CroplandCollection, Landsat7Collection, Landsat8Collection, Sentinel2Collection, NaipCollection\n",
    "from src.radix_co2_reduction.earth_engine.session import start\n",
    "from src.radix_co2_reduction.earth_engine.utils import create_bounding_box, create_polygon, download_as_png, to_polygon"
   ]
  },
  {
   "cell_type": "code",
   "execution_count": 3,
   "id": "2bbc4a91",
   "metadata": {},
   "outputs": [
    {
     "data": {
      "text/html": [
       "<p>To authorize access needed by Earth Engine, open the following\n",
       "        URL in a web browser and follow the instructions:</p>\n",
       "        <p><a href=https://accounts.google.com/o/oauth2/auth?client_id=517222506229-vsmmajv00ul0bs7p89v5m89qs8eb9359.apps.googleusercontent.com&scope=https%3A%2F%2Fwww.googleapis.com%2Fauth%2Fearthengine+https%3A%2F%2Fwww.googleapis.com%2Fauth%2Fdevstorage.full_control&redirect_uri=urn%3Aietf%3Awg%3Aoauth%3A2.0%3Aoob&response_type=code&code_challenge=naCgVFtu4Z1d-L1HEfXw67MT8FgMhVkEczaSu8Go3xY&code_challenge_method=S256>https://accounts.google.com/o/oauth2/auth?client_id=517222506229-vsmmajv00ul0bs7p89v5m89qs8eb9359.apps.googleusercontent.com&scope=https%3A%2F%2Fwww.googleapis.com%2Fauth%2Fearthengine+https%3A%2F%2Fwww.googleapis.com%2Fauth%2Fdevstorage.full_control&redirect_uri=urn%3Aietf%3Awg%3Aoauth%3A2.0%3Aoob&response_type=code&code_challenge=naCgVFtu4Z1d-L1HEfXw67MT8FgMhVkEczaSu8Go3xY&code_challenge_method=S256</a></p>\n",
       "        <p>The authorization workflow will generate a code, which you\n",
       "        should paste in the box below</p>\n",
       "        "
      ],
      "text/plain": [
       "<IPython.core.display.HTML object>"
      ]
     },
     "metadata": {},
     "output_type": "display_data"
    },
    {
     "name": "stdout",
     "output_type": "stream",
     "text": [
      "Enter verification code: 4/1AY0e-g5MTLNm3p0XFa2WWN7aaFQn0shvVujo1Vr1eVWgtKx1KrShqb8_Bic\n",
      "\n",
      "Successfully saved authorization token.\n"
     ]
    }
   ],
   "source": [
    "# Start a Earth Engine session\n",
    "start()"
   ]
  },
  {
   "cell_type": "code",
   "execution_count": 4,
   "id": "f9a8b849",
   "metadata": {},
   "outputs": [],
   "source": [
    "# Load in Beck's data\n",
    "beck = pd.read_csv(Path.cwd() / 'data/beck_corrected.csv')\n",
    "\n",
    "# Load in all field-boundaries\n",
    "with open(Path.cwd() / 'data/polygons.json', 'r') as f:\n",
    "    boundaries = json.load(f)"
   ]
  },
  {
   "cell_type": "code",
   "execution_count": 5,
   "id": "1b9c6e88",
   "metadata": {},
   "outputs": [],
   "source": [
    "def extract_harvest_date(d: str) -> str:\n",
    "    \"\"\"Parse out the harvest date.\"\"\"\n",
    "    d = re.sub(r'[\\n]+', ' ', d)[11:21]\n",
    "    try:\n",
    "        return datetime.strptime(d, '%m/%d/%Y').strftime('%Y-%m-%d')\n",
    "    except ValueError:\n",
    "        return None\n",
    "\n",
    "\n",
    "def extract_planting_date(d: str) -> str:\n",
    "    \"\"\"Parse out the harvest date.\"\"\"\n",
    "    d = re.sub(r'[\\n]+', ' ', d)[9:19]\n",
    "    try:\n",
    "        return datetime.strptime(d, '%m/%d/%Y').strftime('%Y-%m-%d')\n",
    "    except ValueError:\n",
    "        return None"
   ]
  },
  {
   "cell_type": "code",
   "execution_count": 36,
   "id": "e14a8b04",
   "metadata": {},
   "outputs": [],
   "source": [
    "def analyse(field_id):\n",
    "    # Load in field information\n",
    "    field = beck[beck['id'] == field_id].iloc[0]\n",
    "\n",
    "    ID = int(field.id)\n",
    "    YEAR = int(field.year)\n",
    "    print(f\" - Field from year: {YEAR}\")\n",
    "    TILL_TYPE = field.tillage[9:]\n",
    "    print(f\" - Tillage type: {TILL_TYPE}\")\n",
    "    harvest_date = extract_harvest_date(field.harvest_date)\n",
    "    print(f\" - Harvesting date: {harvest_date}\")\n",
    "    planting_date = extract_planting_date(field.planted_date)\n",
    "    print(f\" - Planting date: {planting_date}\")\n",
    "    startdate = f\"{YEAR - 1}-11-01\"\n",
    "    enddate = f\"{YEAR}-06-30\"\n",
    "    print(f\" - Extracting data from {startdate} until {enddate}\")\n",
    "    \n",
    "    # Create bounding box around field and load in field's polygon\n",
    "    bounding_box = to_polygon(create_bounding_box(\n",
    "            lng=field.lng,\n",
    "            lat=field.lat,\n",
    "            offset=1280,\n",
    "    ))\n",
    "    coordinates = boundaries[str(ID)]\n",
    "    field_boundary = create_polygon([coordinates])\n",
    "\n",
    "    # Load in all datasets\n",
    "    landsat7 = Landsat7Collection()\n",
    "    landsat7.load_collection(\n",
    "            region=field_boundary,\n",
    "            startdate=startdate,\n",
    "            enddate=enddate,\n",
    "            filter_clouds=True,\n",
    "            return_masked=False,\n",
    "            filter_perc=.75,\n",
    "            relevant_bands=['B1', 'B2', 'B3', 'B4', 'B5', 'B7', 'pixel_qa'],\n",
    "    )\n",
    "    print(f\" - Number of data samples for {landsat7}: {landsat7.get_size()}\")\n",
    "\n",
    "    # Landsat 8 data: https://developers.google.com/earth-engine/datasets/catalog/LANDSAT_LC08_C01_T1_SR\n",
    "    landsat8 = Landsat8Collection()\n",
    "    landsat8.load_collection(\n",
    "            region=field_boundary,\n",
    "            startdate=startdate,\n",
    "            enddate=enddate,\n",
    "            filter_clouds=True,\n",
    "            return_masked=False,\n",
    "            filter_perc=.25,\n",
    "            relevant_bands=['B2', 'B3', 'B4', 'B5', 'B6', 'B7', 'pixel_qa'],\n",
    "    )\n",
    "    print(f\" - Number of data samples for {landsat8}: {landsat8.get_size()}\")\n",
    "\n",
    "    # # Sentinel-2 L2A data: https://developers.google.com/earth-engine/datasets/catalog/COPERNICUS_S2_SR\n",
    "    sentinel2 = Sentinel2Collection()\n",
    "    sentinel2.load_collection(\n",
    "            region=field_boundary,\n",
    "            startdate=startdate,\n",
    "            enddate=enddate,\n",
    "            filter_clouds=True,\n",
    "            return_masked=False,\n",
    "            filter_perc=.25,\n",
    "            relevant_bands=['B2', 'B3', 'B4', 'B8', 'B11', 'B12', 'QA60', 'SCL'],\n",
    "    )\n",
    "    print(f\" - Number of data samples for {sentinel2}: {sentinel2.get_size()}\")\n",
    "\n",
    "    # USDA Cropland data: https://developers.google.com/earth-engine/datasets/catalog/USDA_NASS_CDL\n",
    "    cropland = CroplandCollection()\n",
    "    cropland.load_collection(\n",
    "            region=field_boundary,\n",
    "            startdate=f'{YEAR}-01-01',\n",
    "            enddate=f'{YEAR}-12-31',\n",
    "    )\n",
    "    \n",
    "    # NAIP data: https://developers.google.com/earth-engine/datasets/catalog/USDA_NAIP_DOQQ\n",
    "    naip = NaipCollection()\n",
    "    naip.load_collection(\n",
    "            region=field_boundary,\n",
    "            startdate=f'2017-01-01',\n",
    "            enddate=f'2020-12-31',\n",
    "    )\n",
    "    \n",
    "    # Show on map\n",
    "    mp = create_map(coordinate=(field.lat, field.lng), zoom=14)\n",
    "#     mp = landsat7.add_to_map(mp, scheme='all')\n",
    "#     mp = landsat8.add_to_map(mp, scheme='all')\n",
    "#     mp = sentinel2.add_to_map(mp, scheme='all')\n",
    "#     mp = cropland.add_to_map(mp, scheme='first')\n",
    "    mp = naip.add_to_map(mp, scheme='last')\n",
    "    mp = show_point(mp, point=ee.Geometry.Point(field.lng, field.lat))\n",
    "    mp = show_polygon(mp, polygon=bounding_box, tag='Bounding Box')\n",
    "    mp = show_polygon(mp, polygon=field_boundary, tag='Field')\n",
    "    mp.add_child(folium.LayerControl())\n",
    "    display(mp)"
   ]
  },
  {
   "cell_type": "code",
   "execution_count": 11,
   "id": "4c2306e0",
   "metadata": {},
   "outputs": [
    {
     "name": "stdout",
     "output_type": "stream",
     "text": [
      " - Field from year: 2020\n",
      " - Tillage type: l\n",
      " - Harvesting date: None\n",
      " - Planting date: None\n",
      " - Extracting data from 2019-11-01 until 2020-06-30\n",
      " - Number of data samples for Landsat 7 SR-T1: 4\n",
      " - Number of data samples for Landsat 8 SR-T1: 8\n",
      " - Number of data samples for Sentinel-2 L2A SR: 21\n"
     ]
    },
    {
     "data": {
      "text/html": [
       "<div style=\"width:100%;\"><div style=\"position:relative;width:100%;height:0;padding-bottom:60%;\"><span style=\"color:#565656\">Make this Notebook Trusted to load map: File -> Trust Notebook</span><iframe src=\"about:blank\" style=\"position:absolute;width:100%;height:100%;left:0;top:0;border:none !important;\" data-html=%3C%21DOCTYPE%20html%3E%0A%3Chead%3E%20%20%20%20%0A%20%20%20%20%3Cmeta%20http-equiv%3D%22content-type%22%20content%3D%22text/html%3B%20charset%3DUTF-8%22%20/%3E%0A%20%20%20%20%0A%20%20%20%20%20%20%20%20%3Cscript%3E%0A%20%20%20%20%20%20%20%20%20%20%20%20L_NO_TOUCH%20%3D%20false%3B%0A%20%20%20%20%20%20%20%20%20%20%20%20L_DISABLE_3D%20%3D%20false%3B%0A%20%20%20%20%20%20%20%20%3C/script%3E%0A%20%20%20%20%0A%20%20%20%20%3Cstyle%3Ehtml%2C%20body%20%7Bwidth%3A%20100%25%3Bheight%3A%20100%25%3Bmargin%3A%200%3Bpadding%3A%200%3B%7D%3C/style%3E%0A%20%20%20%20%3Cstyle%3E%23map%20%7Bposition%3Aabsolute%3Btop%3A0%3Bbottom%3A0%3Bright%3A0%3Bleft%3A0%3B%7D%3C/style%3E%0A%20%20%20%20%3Cscript%20src%3D%22https%3A//cdn.jsdelivr.net/npm/leaflet%401.6.0/dist/leaflet.js%22%3E%3C/script%3E%0A%20%20%20%20%3Cscript%20src%3D%22https%3A//code.jquery.com/jquery-1.12.4.min.js%22%3E%3C/script%3E%0A%20%20%20%20%3Cscript%20src%3D%22https%3A//maxcdn.bootstrapcdn.com/bootstrap/3.2.0/js/bootstrap.min.js%22%3E%3C/script%3E%0A%20%20%20%20%3Cscript%20src%3D%22https%3A//cdnjs.cloudflare.com/ajax/libs/Leaflet.awesome-markers/2.0.2/leaflet.awesome-markers.js%22%3E%3C/script%3E%0A%20%20%20%20%3Clink%20rel%3D%22stylesheet%22%20href%3D%22https%3A//cdn.jsdelivr.net/npm/leaflet%401.6.0/dist/leaflet.css%22/%3E%0A%20%20%20%20%3Clink%20rel%3D%22stylesheet%22%20href%3D%22https%3A//maxcdn.bootstrapcdn.com/bootstrap/3.2.0/css/bootstrap.min.css%22/%3E%0A%20%20%20%20%3Clink%20rel%3D%22stylesheet%22%20href%3D%22https%3A//maxcdn.bootstrapcdn.com/bootstrap/3.2.0/css/bootstrap-theme.min.css%22/%3E%0A%20%20%20%20%3Clink%20rel%3D%22stylesheet%22%20href%3D%22https%3A//maxcdn.bootstrapcdn.com/font-awesome/4.6.3/css/font-awesome.min.css%22/%3E%0A%20%20%20%20%3Clink%20rel%3D%22stylesheet%22%20href%3D%22https%3A//cdnjs.cloudflare.com/ajax/libs/Leaflet.awesome-markers/2.0.2/leaflet.awesome-markers.css%22/%3E%0A%20%20%20%20%3Clink%20rel%3D%22stylesheet%22%20href%3D%22https%3A//cdn.jsdelivr.net/gh/python-visualization/folium/folium/templates/leaflet.awesome.rotate.min.css%22/%3E%0A%20%20%20%20%0A%20%20%20%20%20%20%20%20%20%20%20%20%3Cmeta%20name%3D%22viewport%22%20content%3D%22width%3Ddevice-width%2C%0A%20%20%20%20%20%20%20%20%20%20%20%20%20%20%20%20initial-scale%3D1.0%2C%20maximum-scale%3D1.0%2C%20user-scalable%3Dno%22%20/%3E%0A%20%20%20%20%20%20%20%20%20%20%20%20%3Cstyle%3E%0A%20%20%20%20%20%20%20%20%20%20%20%20%20%20%20%20%23map_75d42e35fdd14372838e4c79a412bec3%20%7B%0A%20%20%20%20%20%20%20%20%20%20%20%20%20%20%20%20%20%20%20%20position%3A%20relative%3B%0A%20%20%20%20%20%20%20%20%20%20%20%20%20%20%20%20%20%20%20%20width%3A%20100.0%25%3B%0A%20%20%20%20%20%20%20%20%20%20%20%20%20%20%20%20%20%20%20%20height%3A%20100.0%25%3B%0A%20%20%20%20%20%20%20%20%20%20%20%20%20%20%20%20%20%20%20%20left%3A%200.0%25%3B%0A%20%20%20%20%20%20%20%20%20%20%20%20%20%20%20%20%20%20%20%20top%3A%200.0%25%3B%0A%20%20%20%20%20%20%20%20%20%20%20%20%20%20%20%20%7D%0A%20%20%20%20%20%20%20%20%20%20%20%20%3C/style%3E%0A%20%20%20%20%20%20%20%20%0A%3C/head%3E%0A%3Cbody%3E%20%20%20%20%0A%20%20%20%20%0A%20%20%20%20%20%20%20%20%20%20%20%20%3Cdiv%20class%3D%22folium-map%22%20id%3D%22map_75d42e35fdd14372838e4c79a412bec3%22%20%3E%3C/div%3E%0A%20%20%20%20%20%20%20%20%0A%3C/body%3E%0A%3Cscript%3E%20%20%20%20%0A%20%20%20%20%0A%20%20%20%20%20%20%20%20%20%20%20%20var%20map_75d42e35fdd14372838e4c79a412bec3%20%3D%20L.map%28%0A%20%20%20%20%20%20%20%20%20%20%20%20%20%20%20%20%22map_75d42e35fdd14372838e4c79a412bec3%22%2C%0A%20%20%20%20%20%20%20%20%20%20%20%20%20%20%20%20%7B%0A%20%20%20%20%20%20%20%20%20%20%20%20%20%20%20%20%20%20%20%20center%3A%20%5B43.3216247563628%2C%20-83.5853737938962%5D%2C%0A%20%20%20%20%20%20%20%20%20%20%20%20%20%20%20%20%20%20%20%20crs%3A%20L.CRS.EPSG3857%2C%0A%20%20%20%20%20%20%20%20%20%20%20%20%20%20%20%20%20%20%20%20zoom%3A%2014%2C%0A%20%20%20%20%20%20%20%20%20%20%20%20%20%20%20%20%20%20%20%20zoomControl%3A%20true%2C%0A%20%20%20%20%20%20%20%20%20%20%20%20%20%20%20%20%20%20%20%20preferCanvas%3A%20false%2C%0A%20%20%20%20%20%20%20%20%20%20%20%20%20%20%20%20%7D%0A%20%20%20%20%20%20%20%20%20%20%20%20%29%3B%0A%0A%20%20%20%20%20%20%20%20%20%20%20%20%0A%0A%20%20%20%20%20%20%20%20%0A%20%20%20%20%0A%20%20%20%20%20%20%20%20%20%20%20%20var%20tile_layer_25515fe9911f416aa9836bebf9eb180d%20%3D%20L.tileLayer%28%0A%20%20%20%20%20%20%20%20%20%20%20%20%20%20%20%20%22https%3A//%7Bs%7D.tile.openstreetmap.org/%7Bz%7D/%7Bx%7D/%7By%7D.png%22%2C%0A%20%20%20%20%20%20%20%20%20%20%20%20%20%20%20%20%7B%22attribution%22%3A%20%22Data%20by%20%5Cu0026copy%3B%20%5Cu003ca%20href%3D%5C%22http%3A//openstreetmap.org%5C%22%5Cu003eOpenStreetMap%5Cu003c/a%5Cu003e%2C%20under%20%5Cu003ca%20href%3D%5C%22http%3A//www.openstreetmap.org/copyright%5C%22%5Cu003eODbL%5Cu003c/a%5Cu003e.%22%2C%20%22detectRetina%22%3A%20false%2C%20%22maxNativeZoom%22%3A%2018%2C%20%22maxZoom%22%3A%2018%2C%20%22minZoom%22%3A%200%2C%20%22noWrap%22%3A%20false%2C%20%22opacity%22%3A%201%2C%20%22subdomains%22%3A%20%22abc%22%2C%20%22tms%22%3A%20false%7D%0A%20%20%20%20%20%20%20%20%20%20%20%20%29.addTo%28map_75d42e35fdd14372838e4c79a412bec3%29%3B%0A%20%20%20%20%20%20%20%20%0A%20%20%20%20%0A%20%20%20%20%20%20%20%20%20%20%20%20var%20tile_layer_9509fb4a5bb0484190ea6a66b04dd433%20%3D%20L.tileLayer%28%0A%20%20%20%20%20%20%20%20%20%20%20%20%20%20%20%20%22https%3A//earthengine.googleapis.com/v1alpha/projects/earthengine-legacy/maps/006bbdf212c6c75079d212c00468f5a1-68baca7f9a737a6168e999030aa823b4/tiles/%7Bz%7D/%7Bx%7D/%7By%7D%22%2C%0A%20%20%20%20%20%20%20%20%20%20%20%20%20%20%20%20%7B%22attribution%22%3A%20%22Google%20Earth%20Engine%22%2C%20%22detectRetina%22%3A%20false%2C%20%22maxNativeZoom%22%3A%2018%2C%20%22maxZoom%22%3A%2018%2C%20%22minZoom%22%3A%200%2C%20%22noWrap%22%3A%20false%2C%20%22opacity%22%3A%201%2C%20%22subdomains%22%3A%20%22abc%22%2C%20%22tms%22%3A%20false%7D%0A%20%20%20%20%20%20%20%20%20%20%20%20%29.addTo%28map_75d42e35fdd14372838e4c79a412bec3%29%3B%0A%20%20%20%20%20%20%20%20%0A%20%20%20%20%0A%20%20%20%20%20%20%20%20function%20geo_json_c4aaab6e286d4c02bf6a0b17f4afdc5d_styler%28feature%29%20%7B%0A%20%20%20%20%20%20%20%20%20%20%20%20switch%28feature.id%29%20%7B%0A%20%20%20%20%20%20%20%20%20%20%20%20%20%20%20%20default%3A%0A%20%20%20%20%20%20%20%20%20%20%20%20%20%20%20%20%20%20%20%20return%20%7B%22color%22%3A%20%22%23ff0000%22%7D%3B%0A%20%20%20%20%20%20%20%20%20%20%20%20%7D%0A%20%20%20%20%20%20%20%20%7D%0A%0A%20%20%20%20%20%20%20%20function%20geo_json_c4aaab6e286d4c02bf6a0b17f4afdc5d_onEachFeature%28feature%2C%20layer%29%20%7B%0A%20%20%20%20%20%20%20%20%20%20%20%20layer.on%28%7B%0A%20%20%20%20%20%20%20%20%20%20%20%20%7D%29%3B%0A%20%20%20%20%20%20%20%20%7D%3B%0A%20%20%20%20%20%20%20%20var%20geo_json_c4aaab6e286d4c02bf6a0b17f4afdc5d%20%3D%20L.geoJson%28null%2C%20%7B%0A%20%20%20%20%20%20%20%20%20%20%20%20%20%20%20%20onEachFeature%3A%20geo_json_c4aaab6e286d4c02bf6a0b17f4afdc5d_onEachFeature%2C%0A%20%20%20%20%20%20%20%20%20%20%20%20%0A%20%20%20%20%20%20%20%20%20%20%20%20%20%20%20%20style%3A%20geo_json_c4aaab6e286d4c02bf6a0b17f4afdc5d_styler%2C%0A%20%20%20%20%20%20%20%20%7D%29%3B%0A%0A%20%20%20%20%20%20%20%20function%20geo_json_c4aaab6e286d4c02bf6a0b17f4afdc5d_add%20%28data%29%20%7B%0A%20%20%20%20%20%20%20%20%20%20%20%20geo_json_c4aaab6e286d4c02bf6a0b17f4afdc5d%0A%20%20%20%20%20%20%20%20%20%20%20%20%20%20%20%20.addData%28data%29%0A%20%20%20%20%20%20%20%20%20%20%20%20%20%20%20%20.addTo%28map_75d42e35fdd14372838e4c79a412bec3%29%3B%0A%20%20%20%20%20%20%20%20%7D%0A%20%20%20%20%20%20%20%20%20%20%20%20geo_json_c4aaab6e286d4c02bf6a0b17f4afdc5d_add%28%7B%22features%22%3A%20%5B%7B%22geometry%22%3A%20%7B%22coordinates%22%3A%20%5B-83.5853737938962%2C%2043.3216247563628%5D%2C%20%22type%22%3A%20%22Point%22%7D%2C%20%22id%22%3A%20%220%22%2C%20%22type%22%3A%20%22Feature%22%7D%5D%2C%20%22type%22%3A%20%22FeatureCollection%22%7D%29%3B%0A%0A%20%20%20%20%20%20%20%20%0A%20%20%20%20%0A%20%20%20%20%20%20%20%20function%20geo_json_cd20a38c698741e39a5bdbc0c086f774_styler%28feature%29%20%7B%0A%20%20%20%20%20%20%20%20%20%20%20%20switch%28feature.id%29%20%7B%0A%20%20%20%20%20%20%20%20%20%20%20%20%20%20%20%20default%3A%0A%20%20%20%20%20%20%20%20%20%20%20%20%20%20%20%20%20%20%20%20return%20%7B%22color%22%3A%20%22%23ff0000%22%2C%20%22fillOpacity%22%3A%200%7D%3B%0A%20%20%20%20%20%20%20%20%20%20%20%20%7D%0A%20%20%20%20%20%20%20%20%7D%0A%0A%20%20%20%20%20%20%20%20function%20geo_json_cd20a38c698741e39a5bdbc0c086f774_onEachFeature%28feature%2C%20layer%29%20%7B%0A%20%20%20%20%20%20%20%20%20%20%20%20layer.on%28%7B%0A%20%20%20%20%20%20%20%20%20%20%20%20%7D%29%3B%0A%20%20%20%20%20%20%20%20%7D%3B%0A%20%20%20%20%20%20%20%20var%20geo_json_cd20a38c698741e39a5bdbc0c086f774%20%3D%20L.geoJson%28null%2C%20%7B%0A%20%20%20%20%20%20%20%20%20%20%20%20%20%20%20%20onEachFeature%3A%20geo_json_cd20a38c698741e39a5bdbc0c086f774_onEachFeature%2C%0A%20%20%20%20%20%20%20%20%20%20%20%20%0A%20%20%20%20%20%20%20%20%20%20%20%20%20%20%20%20style%3A%20geo_json_cd20a38c698741e39a5bdbc0c086f774_styler%2C%0A%20%20%20%20%20%20%20%20%7D%29%3B%0A%0A%20%20%20%20%20%20%20%20function%20geo_json_cd20a38c698741e39a5bdbc0c086f774_add%20%28data%29%20%7B%0A%20%20%20%20%20%20%20%20%20%20%20%20geo_json_cd20a38c698741e39a5bdbc0c086f774%0A%20%20%20%20%20%20%20%20%20%20%20%20%20%20%20%20.addData%28data%29%0A%20%20%20%20%20%20%20%20%20%20%20%20%20%20%20%20.addTo%28map_75d42e35fdd14372838e4c79a412bec3%29%3B%0A%20%20%20%20%20%20%20%20%7D%0A%20%20%20%20%20%20%20%20%20%20%20%20geo_json_cd20a38c698741e39a5bdbc0c086f774_add%28%7B%22features%22%3A%20%5B%7B%22geometry%22%3A%20%7B%22coordinates%22%3A%20%5B%5B%5B-83.59772153503148%2C%2043.312641603521605%5D%2C%20%5B-83.57302605276091%2C%2043.312641603521605%5D%2C%20%5B-83.57302605276091%2C%2043.330607909204%5D%2C%20%5B-83.59772153503148%2C%2043.330607909204%5D%2C%20%5B-83.59772153503148%2C%2043.312641603521605%5D%5D%5D%2C%20%22type%22%3A%20%22Polygon%22%7D%2C%20%22id%22%3A%20%220%22%2C%20%22type%22%3A%20%22Feature%22%7D%5D%2C%20%22type%22%3A%20%22FeatureCollection%22%7D%29%3B%0A%0A%20%20%20%20%20%20%20%20%0A%20%20%20%20%0A%20%20%20%20%20%20%20%20function%20geo_json_12f8dc3e0423458f9815593332a27d76_styler%28feature%29%20%7B%0A%20%20%20%20%20%20%20%20%20%20%20%20switch%28feature.id%29%20%7B%0A%20%20%20%20%20%20%20%20%20%20%20%20%20%20%20%20default%3A%0A%20%20%20%20%20%20%20%20%20%20%20%20%20%20%20%20%20%20%20%20return%20%7B%22color%22%3A%20%22%23ff0000%22%2C%20%22fillOpacity%22%3A%200%7D%3B%0A%20%20%20%20%20%20%20%20%20%20%20%20%7D%0A%20%20%20%20%20%20%20%20%7D%0A%0A%20%20%20%20%20%20%20%20function%20geo_json_12f8dc3e0423458f9815593332a27d76_onEachFeature%28feature%2C%20layer%29%20%7B%0A%20%20%20%20%20%20%20%20%20%20%20%20layer.on%28%7B%0A%20%20%20%20%20%20%20%20%20%20%20%20%7D%29%3B%0A%20%20%20%20%20%20%20%20%7D%3B%0A%20%20%20%20%20%20%20%20var%20geo_json_12f8dc3e0423458f9815593332a27d76%20%3D%20L.geoJson%28null%2C%20%7B%0A%20%20%20%20%20%20%20%20%20%20%20%20%20%20%20%20onEachFeature%3A%20geo_json_12f8dc3e0423458f9815593332a27d76_onEachFeature%2C%0A%20%20%20%20%20%20%20%20%20%20%20%20%0A%20%20%20%20%20%20%20%20%20%20%20%20%20%20%20%20style%3A%20geo_json_12f8dc3e0423458f9815593332a27d76_styler%2C%0A%20%20%20%20%20%20%20%20%7D%29%3B%0A%0A%20%20%20%20%20%20%20%20function%20geo_json_12f8dc3e0423458f9815593332a27d76_add%20%28data%29%20%7B%0A%20%20%20%20%20%20%20%20%20%20%20%20geo_json_12f8dc3e0423458f9815593332a27d76%0A%20%20%20%20%20%20%20%20%20%20%20%20%20%20%20%20.addData%28data%29%0A%20%20%20%20%20%20%20%20%20%20%20%20%20%20%20%20.addTo%28map_75d42e35fdd14372838e4c79a412bec3%29%3B%0A%20%20%20%20%20%20%20%20%7D%0A%20%20%20%20%20%20%20%20%20%20%20%20geo_json_12f8dc3e0423458f9815593332a27d76_add%28%7B%22features%22%3A%20%5B%7B%22geometry%22%3A%20%7B%22coordinates%22%3A%20%5B%5B%5B-83.58581831257706%2C%2043.32166068897417%5D%2C%20%5B-83.58586770354161%2C%2043.321642722668486%5D%2C%20%5B-83.58589239902388%2C%2043.321642722668486%5D%2C%20%5B-83.58591709450614%2C%2043.32160679005712%5D%2C%20%5B-83.58591709450614%2C%2043.32157085744576%5D%2C%20%5B-83.58594178998842%2C%2043.32153492483439%5D%2C%20%5B-83.58594178998842%2C%2043.32148102591734%5D%2C%20%5B-83.58591709450614%2C%2043.321445093305975%5D%2C%20%5B-83.58591709450614%2C%2043.32122949763779%5D%2C%20%5B-83.58589239902388%2C%2043.32119356502643%5D%2C%20%5B-83.58589239902388%2C%2043.32074440738437%5D%2C%20%5B-83.58591709450614%2C%2043.320708474773%5D%2C%20%5B-83.58591709450614%2C%2043.32056474432754%5D%2C%20%5B-83.58594178998842%2C%2043.32052881171617%5D%2C%20%5B-83.58594178998842%2C%2043.318947776816124%5D%2C%20%5B-83.58591709450614%2C%2043.31891184420476%5D%2C%20%5B-83.58591709450614%2C%2043.31844472025702%5D%2C%20%5B-83.58589239902388%2C%2043.31840878764565%5D%2C%20%5B-83.58589239902388%2C%2043.31837285503429%5D%2C%20%5B-83.58586770354161%2C%2043.31833692242292%5D%2C%20%5B-83.58586770354161%2C%2043.31831895611724%5D%2C%20%5B-83.58571953064798%2C%2043.31831895611724%5D%2C%20%5B-83.58567013968344%2C%2043.31830098981156%5D%2C%20%5B-83.58475640683943%2C%2043.31830098981156%5D%2C%20%5B-83.58470701587488%2C%2043.31831895611724%5D%2C%20%5B-83.58460823394581%2C%2043.31831895611724%5D%2C%20%5B-83.58455884298127%2C%2043.31835488872861%5D%2C%20%5B-83.58450945201673%2C%2043.318390821339975%5D%2C%20%5B-83.58446006105218%2C%2043.318426753951336%5D%2C%20%5B-83.58441067008765%2C%2043.31848065286838%5D%2C%20%5B-83.58441067008765%2C%2043.31853455178543%5D%2C%20%5B-83.58438597460537%2C%2043.318570484396794%5D%2C%20%5B-83.58438597460537%2C%2043.31867828223089%5D%2C%20%5B-83.5843612791231%2C%2043.31871421484225%5D%2C%20%5B-83.5843612791231%2C%2043.320690508467315%5D%2C%20%5B-83.58438597460537%2C%2043.32072644107868%5D%2C%20%5B-83.58438597460537%2C%2043.320995935663916%5D%2C%20%5B-83.58441067008765%2C%2043.321031868275284%5D%2C%20%5B-83.58441067008765%2C%2043.321516958528704%5D%2C%20%5B-83.58448475653445%2C%2043.32155289114007%5D%2C%20%5B-83.584534147499%2C%2043.32157085744576%5D%2C%20%5B-83.58458353846353%2C%2043.32158882375143%5D%2C%20%5B-83.58465762491035%2C%2043.3216247563628%5D%2C%20%5B-83.58470701587488%2C%2043.321642722668486%5D%2C%20%5B-83.58480579780397%2C%2043.321642722668486%5D%2C%20%5B-83.58485518876851%2C%2043.32166068897417%5D%2C%20%5B-83.5857936170948%2C%2043.32166068897417%5D%2C%20%5B-83.58581831257706%2C%2043.32166068897417%5D%5D%5D%2C%20%22type%22%3A%20%22Polygon%22%7D%2C%20%22id%22%3A%20%220%22%2C%20%22type%22%3A%20%22Feature%22%7D%5D%2C%20%22type%22%3A%20%22FeatureCollection%22%7D%29%3B%0A%0A%20%20%20%20%20%20%20%20%0A%20%20%20%20%0A%20%20%20%20%20%20%20%20%20%20%20%20var%20layer_control_48cd17bffb164c83b3d4bdd41375e0f0%20%3D%20%7B%0A%20%20%20%20%20%20%20%20%20%20%20%20%20%20%20%20base_layers%20%3A%20%7B%0A%20%20%20%20%20%20%20%20%20%20%20%20%20%20%20%20%20%20%20%20%22openstreetmap%22%20%3A%20tile_layer_25515fe9911f416aa9836bebf9eb180d%2C%0A%20%20%20%20%20%20%20%20%20%20%20%20%20%20%20%20%7D%2C%0A%20%20%20%20%20%20%20%20%20%20%20%20%20%20%20%20overlays%20%3A%20%20%7B%0A%20%20%20%20%20%20%20%20%20%20%20%20%20%20%20%20%20%20%20%20%22NAIP%20%282018-07-03%29%22%20%3A%20tile_layer_9509fb4a5bb0484190ea6a66b04dd433%2C%0A%20%20%20%20%20%20%20%20%20%20%20%20%20%20%20%20%20%20%20%20%22Point%22%20%3A%20geo_json_c4aaab6e286d4c02bf6a0b17f4afdc5d%2C%0A%20%20%20%20%20%20%20%20%20%20%20%20%20%20%20%20%20%20%20%20%22Bounding%20Box%22%20%3A%20geo_json_cd20a38c698741e39a5bdbc0c086f774%2C%0A%20%20%20%20%20%20%20%20%20%20%20%20%20%20%20%20%20%20%20%20%22Field%22%20%3A%20geo_json_12f8dc3e0423458f9815593332a27d76%2C%0A%20%20%20%20%20%20%20%20%20%20%20%20%20%20%20%20%7D%2C%0A%20%20%20%20%20%20%20%20%20%20%20%20%7D%3B%0A%20%20%20%20%20%20%20%20%20%20%20%20L.control.layers%28%0A%20%20%20%20%20%20%20%20%20%20%20%20%20%20%20%20layer_control_48cd17bffb164c83b3d4bdd41375e0f0.base_layers%2C%0A%20%20%20%20%20%20%20%20%20%20%20%20%20%20%20%20layer_control_48cd17bffb164c83b3d4bdd41375e0f0.overlays%2C%0A%20%20%20%20%20%20%20%20%20%20%20%20%20%20%20%20%7B%22autoZIndex%22%3A%20true%2C%20%22collapsed%22%3A%20true%2C%20%22position%22%3A%20%22topright%22%7D%0A%20%20%20%20%20%20%20%20%20%20%20%20%29.addTo%28map_75d42e35fdd14372838e4c79a412bec3%29%3B%0A%20%20%20%20%20%20%20%20%0A%3C/script%3E onload=\"this.contentDocument.open();this.contentDocument.write(    decodeURIComponent(this.getAttribute('data-html')));this.contentDocument.close();\" allowfullscreen webkitallowfullscreen mozallowfullscreen></iframe></div></div>"
      ],
      "text/plain": [
       "<folium.folium.Map at 0x7ffdd7383190>"
      ]
     },
     "metadata": {},
     "output_type": "display_data"
    }
   ],
   "source": [
    "analyse(103956)"
   ]
  },
  {
   "cell_type": "code",
   "execution_count": 37,
   "id": "317a0e8c",
   "metadata": {
    "scrolled": false
   },
   "outputs": [
    {
     "name": "stdout",
     "output_type": "stream",
     "text": [
      " - Field from year: 2020\n",
      " - Tillage type: Min.-Till\n",
      " - Harvesting date: 2020-09-17\n",
      " - Planting date: 2020-04-21\n",
      " - Extracting data from 2019-11-01 until 2020-06-30\n",
      " - Number of data samples for Landsat 7 SR-T1: 7\n",
      " - Number of data samples for Landsat 8 SR-T1: 7\n",
      " - Number of data samples for Sentinel-2 L2A SR: 21\n"
     ]
    },
    {
     "data": {
      "text/html": [
       "<div style=\"width:100%;\"><div style=\"position:relative;width:100%;height:0;padding-bottom:60%;\"><span style=\"color:#565656\">Make this Notebook Trusted to load map: File -> Trust Notebook</span><iframe src=\"about:blank\" style=\"position:absolute;width:100%;height:100%;left:0;top:0;border:none !important;\" data-html=%3C%21DOCTYPE%20html%3E%0A%3Chead%3E%20%20%20%20%0A%20%20%20%20%3Cmeta%20http-equiv%3D%22content-type%22%20content%3D%22text/html%3B%20charset%3DUTF-8%22%20/%3E%0A%20%20%20%20%0A%20%20%20%20%20%20%20%20%3Cscript%3E%0A%20%20%20%20%20%20%20%20%20%20%20%20L_NO_TOUCH%20%3D%20false%3B%0A%20%20%20%20%20%20%20%20%20%20%20%20L_DISABLE_3D%20%3D%20false%3B%0A%20%20%20%20%20%20%20%20%3C/script%3E%0A%20%20%20%20%0A%20%20%20%20%3Cstyle%3Ehtml%2C%20body%20%7Bwidth%3A%20100%25%3Bheight%3A%20100%25%3Bmargin%3A%200%3Bpadding%3A%200%3B%7D%3C/style%3E%0A%20%20%20%20%3Cstyle%3E%23map%20%7Bposition%3Aabsolute%3Btop%3A0%3Bbottom%3A0%3Bright%3A0%3Bleft%3A0%3B%7D%3C/style%3E%0A%20%20%20%20%3Cscript%20src%3D%22https%3A//cdn.jsdelivr.net/npm/leaflet%401.6.0/dist/leaflet.js%22%3E%3C/script%3E%0A%20%20%20%20%3Cscript%20src%3D%22https%3A//code.jquery.com/jquery-1.12.4.min.js%22%3E%3C/script%3E%0A%20%20%20%20%3Cscript%20src%3D%22https%3A//maxcdn.bootstrapcdn.com/bootstrap/3.2.0/js/bootstrap.min.js%22%3E%3C/script%3E%0A%20%20%20%20%3Cscript%20src%3D%22https%3A//cdnjs.cloudflare.com/ajax/libs/Leaflet.awesome-markers/2.0.2/leaflet.awesome-markers.js%22%3E%3C/script%3E%0A%20%20%20%20%3Clink%20rel%3D%22stylesheet%22%20href%3D%22https%3A//cdn.jsdelivr.net/npm/leaflet%401.6.0/dist/leaflet.css%22/%3E%0A%20%20%20%20%3Clink%20rel%3D%22stylesheet%22%20href%3D%22https%3A//maxcdn.bootstrapcdn.com/bootstrap/3.2.0/css/bootstrap.min.css%22/%3E%0A%20%20%20%20%3Clink%20rel%3D%22stylesheet%22%20href%3D%22https%3A//maxcdn.bootstrapcdn.com/bootstrap/3.2.0/css/bootstrap-theme.min.css%22/%3E%0A%20%20%20%20%3Clink%20rel%3D%22stylesheet%22%20href%3D%22https%3A//maxcdn.bootstrapcdn.com/font-awesome/4.6.3/css/font-awesome.min.css%22/%3E%0A%20%20%20%20%3Clink%20rel%3D%22stylesheet%22%20href%3D%22https%3A//cdnjs.cloudflare.com/ajax/libs/Leaflet.awesome-markers/2.0.2/leaflet.awesome-markers.css%22/%3E%0A%20%20%20%20%3Clink%20rel%3D%22stylesheet%22%20href%3D%22https%3A//cdn.jsdelivr.net/gh/python-visualization/folium/folium/templates/leaflet.awesome.rotate.min.css%22/%3E%0A%20%20%20%20%0A%20%20%20%20%20%20%20%20%20%20%20%20%3Cmeta%20name%3D%22viewport%22%20content%3D%22width%3Ddevice-width%2C%0A%20%20%20%20%20%20%20%20%20%20%20%20%20%20%20%20initial-scale%3D1.0%2C%20maximum-scale%3D1.0%2C%20user-scalable%3Dno%22%20/%3E%0A%20%20%20%20%20%20%20%20%20%20%20%20%3Cstyle%3E%0A%20%20%20%20%20%20%20%20%20%20%20%20%20%20%20%20%23map_4f89ba5dfa034d4884384aae0e31270a%20%7B%0A%20%20%20%20%20%20%20%20%20%20%20%20%20%20%20%20%20%20%20%20position%3A%20relative%3B%0A%20%20%20%20%20%20%20%20%20%20%20%20%20%20%20%20%20%20%20%20width%3A%20100.0%25%3B%0A%20%20%20%20%20%20%20%20%20%20%20%20%20%20%20%20%20%20%20%20height%3A%20100.0%25%3B%0A%20%20%20%20%20%20%20%20%20%20%20%20%20%20%20%20%20%20%20%20left%3A%200.0%25%3B%0A%20%20%20%20%20%20%20%20%20%20%20%20%20%20%20%20%20%20%20%20top%3A%200.0%25%3B%0A%20%20%20%20%20%20%20%20%20%20%20%20%20%20%20%20%7D%0A%20%20%20%20%20%20%20%20%20%20%20%20%3C/style%3E%0A%20%20%20%20%20%20%20%20%0A%3C/head%3E%0A%3Cbody%3E%20%20%20%20%0A%20%20%20%20%0A%20%20%20%20%20%20%20%20%20%20%20%20%3Cdiv%20class%3D%22folium-map%22%20id%3D%22map_4f89ba5dfa034d4884384aae0e31270a%22%20%3E%3C/div%3E%0A%20%20%20%20%20%20%20%20%0A%3C/body%3E%0A%3Cscript%3E%20%20%20%20%0A%20%20%20%20%0A%20%20%20%20%20%20%20%20%20%20%20%20var%20map_4f89ba5dfa034d4884384aae0e31270a%20%3D%20L.map%28%0A%20%20%20%20%20%20%20%20%20%20%20%20%20%20%20%20%22map_4f89ba5dfa034d4884384aae0e31270a%22%2C%0A%20%20%20%20%20%20%20%20%20%20%20%20%20%20%20%20%7B%0A%20%20%20%20%20%20%20%20%20%20%20%20%20%20%20%20%20%20%20%20center%3A%20%5B37.2292207864713%2C%20-86.8936640526172%5D%2C%0A%20%20%20%20%20%20%20%20%20%20%20%20%20%20%20%20%20%20%20%20crs%3A%20L.CRS.EPSG3857%2C%0A%20%20%20%20%20%20%20%20%20%20%20%20%20%20%20%20%20%20%20%20zoom%3A%2014%2C%0A%20%20%20%20%20%20%20%20%20%20%20%20%20%20%20%20%20%20%20%20zoomControl%3A%20true%2C%0A%20%20%20%20%20%20%20%20%20%20%20%20%20%20%20%20%20%20%20%20preferCanvas%3A%20false%2C%0A%20%20%20%20%20%20%20%20%20%20%20%20%20%20%20%20%7D%0A%20%20%20%20%20%20%20%20%20%20%20%20%29%3B%0A%0A%20%20%20%20%20%20%20%20%20%20%20%20%0A%0A%20%20%20%20%20%20%20%20%0A%20%20%20%20%0A%20%20%20%20%20%20%20%20%20%20%20%20var%20tile_layer_e8cc21b827694058bc6c0bb524608126%20%3D%20L.tileLayer%28%0A%20%20%20%20%20%20%20%20%20%20%20%20%20%20%20%20%22https%3A//%7Bs%7D.tile.openstreetmap.org/%7Bz%7D/%7Bx%7D/%7By%7D.png%22%2C%0A%20%20%20%20%20%20%20%20%20%20%20%20%20%20%20%20%7B%22attribution%22%3A%20%22Data%20by%20%5Cu0026copy%3B%20%5Cu003ca%20href%3D%5C%22http%3A//openstreetmap.org%5C%22%5Cu003eOpenStreetMap%5Cu003c/a%5Cu003e%2C%20under%20%5Cu003ca%20href%3D%5C%22http%3A//www.openstreetmap.org/copyright%5C%22%5Cu003eODbL%5Cu003c/a%5Cu003e.%22%2C%20%22detectRetina%22%3A%20false%2C%20%22maxNativeZoom%22%3A%2018%2C%20%22maxZoom%22%3A%2018%2C%20%22minZoom%22%3A%200%2C%20%22noWrap%22%3A%20false%2C%20%22opacity%22%3A%201%2C%20%22subdomains%22%3A%20%22abc%22%2C%20%22tms%22%3A%20false%7D%0A%20%20%20%20%20%20%20%20%20%20%20%20%29.addTo%28map_4f89ba5dfa034d4884384aae0e31270a%29%3B%0A%20%20%20%20%20%20%20%20%0A%20%20%20%20%0A%20%20%20%20%20%20%20%20%20%20%20%20var%20tile_layer_55f13dc4d4b14ba69d8f5cd063985cca%20%3D%20L.tileLayer%28%0A%20%20%20%20%20%20%20%20%20%20%20%20%20%20%20%20%22https%3A//earthengine.googleapis.com/v1alpha/projects/earthengine-legacy/maps/0aca31058bed26e38725ea732e2575d2-9d8f172b98c6b23a8d584814756da1bf/tiles/%7Bz%7D/%7Bx%7D/%7By%7D%22%2C%0A%20%20%20%20%20%20%20%20%20%20%20%20%20%20%20%20%7B%22attribution%22%3A%20%22Google%20Earth%20Engine%22%2C%20%22detectRetina%22%3A%20false%2C%20%22maxNativeZoom%22%3A%2018%2C%20%22maxZoom%22%3A%2018%2C%20%22minZoom%22%3A%200%2C%20%22noWrap%22%3A%20false%2C%20%22opacity%22%3A%201%2C%20%22subdomains%22%3A%20%22abc%22%2C%20%22tms%22%3A%20false%7D%0A%20%20%20%20%20%20%20%20%20%20%20%20%29.addTo%28map_4f89ba5dfa034d4884384aae0e31270a%29%3B%0A%20%20%20%20%20%20%20%20%0A%20%20%20%20%0A%20%20%20%20%20%20%20%20function%20geo_json_ce0381ce543d49428cc6beb24e85fb65_styler%28feature%29%20%7B%0A%20%20%20%20%20%20%20%20%20%20%20%20switch%28feature.id%29%20%7B%0A%20%20%20%20%20%20%20%20%20%20%20%20%20%20%20%20default%3A%0A%20%20%20%20%20%20%20%20%20%20%20%20%20%20%20%20%20%20%20%20return%20%7B%22color%22%3A%20%22%23ff0000%22%7D%3B%0A%20%20%20%20%20%20%20%20%20%20%20%20%7D%0A%20%20%20%20%20%20%20%20%7D%0A%0A%20%20%20%20%20%20%20%20function%20geo_json_ce0381ce543d49428cc6beb24e85fb65_onEachFeature%28feature%2C%20layer%29%20%7B%0A%20%20%20%20%20%20%20%20%20%20%20%20layer.on%28%7B%0A%20%20%20%20%20%20%20%20%20%20%20%20%7D%29%3B%0A%20%20%20%20%20%20%20%20%7D%3B%0A%20%20%20%20%20%20%20%20var%20geo_json_ce0381ce543d49428cc6beb24e85fb65%20%3D%20L.geoJson%28null%2C%20%7B%0A%20%20%20%20%20%20%20%20%20%20%20%20%20%20%20%20onEachFeature%3A%20geo_json_ce0381ce543d49428cc6beb24e85fb65_onEachFeature%2C%0A%20%20%20%20%20%20%20%20%20%20%20%20%0A%20%20%20%20%20%20%20%20%20%20%20%20%20%20%20%20style%3A%20geo_json_ce0381ce543d49428cc6beb24e85fb65_styler%2C%0A%20%20%20%20%20%20%20%20%7D%29%3B%0A%0A%20%20%20%20%20%20%20%20function%20geo_json_ce0381ce543d49428cc6beb24e85fb65_add%20%28data%29%20%7B%0A%20%20%20%20%20%20%20%20%20%20%20%20geo_json_ce0381ce543d49428cc6beb24e85fb65%0A%20%20%20%20%20%20%20%20%20%20%20%20%20%20%20%20.addData%28data%29%0A%20%20%20%20%20%20%20%20%20%20%20%20%20%20%20%20.addTo%28map_4f89ba5dfa034d4884384aae0e31270a%29%3B%0A%20%20%20%20%20%20%20%20%7D%0A%20%20%20%20%20%20%20%20%20%20%20%20geo_json_ce0381ce543d49428cc6beb24e85fb65_add%28%7B%22features%22%3A%20%5B%7B%22geometry%22%3A%20%7B%22coordinates%22%3A%20%5B-86.8936640526172%2C%2037.2292207864713%5D%2C%20%22type%22%3A%20%22Point%22%7D%2C%20%22id%22%3A%20%220%22%2C%20%22type%22%3A%20%22Feature%22%7D%5D%2C%20%22type%22%3A%20%22FeatureCollection%22%7D%29%3B%0A%0A%20%20%20%20%20%20%20%20%0A%20%20%20%20%0A%20%20%20%20%20%20%20%20function%20geo_json_aecd28d9e3844dcc9f8a51088c3d411c_styler%28feature%29%20%7B%0A%20%20%20%20%20%20%20%20%20%20%20%20switch%28feature.id%29%20%7B%0A%20%20%20%20%20%20%20%20%20%20%20%20%20%20%20%20default%3A%0A%20%20%20%20%20%20%20%20%20%20%20%20%20%20%20%20%20%20%20%20return%20%7B%22color%22%3A%20%22%23ff0000%22%2C%20%22fillOpacity%22%3A%200%7D%3B%0A%20%20%20%20%20%20%20%20%20%20%20%20%7D%0A%20%20%20%20%20%20%20%20%7D%0A%0A%20%20%20%20%20%20%20%20function%20geo_json_aecd28d9e3844dcc9f8a51088c3d411c_onEachFeature%28feature%2C%20layer%29%20%7B%0A%20%20%20%20%20%20%20%20%20%20%20%20layer.on%28%7B%0A%20%20%20%20%20%20%20%20%20%20%20%20%7D%29%3B%0A%20%20%20%20%20%20%20%20%7D%3B%0A%20%20%20%20%20%20%20%20var%20geo_json_aecd28d9e3844dcc9f8a51088c3d411c%20%3D%20L.geoJson%28null%2C%20%7B%0A%20%20%20%20%20%20%20%20%20%20%20%20%20%20%20%20onEachFeature%3A%20geo_json_aecd28d9e3844dcc9f8a51088c3d411c_onEachFeature%2C%0A%20%20%20%20%20%20%20%20%20%20%20%20%0A%20%20%20%20%20%20%20%20%20%20%20%20%20%20%20%20style%3A%20geo_json_aecd28d9e3844dcc9f8a51088c3d411c_styler%2C%0A%20%20%20%20%20%20%20%20%7D%29%3B%0A%0A%20%20%20%20%20%20%20%20function%20geo_json_aecd28d9e3844dcc9f8a51088c3d411c_add%20%28data%29%20%7B%0A%20%20%20%20%20%20%20%20%20%20%20%20geo_json_aecd28d9e3844dcc9f8a51088c3d411c%0A%20%20%20%20%20%20%20%20%20%20%20%20%20%20%20%20.addData%28data%29%0A%20%20%20%20%20%20%20%20%20%20%20%20%20%20%20%20.addTo%28map_4f89ba5dfa034d4884384aae0e31270a%29%3B%0A%20%20%20%20%20%20%20%20%7D%0A%20%20%20%20%20%20%20%20%20%20%20%20geo_json_aecd28d9e3844dcc9f8a51088c3d411c_add%28%7B%22features%22%3A%20%5B%7B%22geometry%22%3A%20%7B%22coordinates%22%3A%20%5B%5B%5B-86.90810530555565%2C%2037.21772235083457%5D%2C%20%5B-86.87922279967874%2C%2037.21772235083457%5D%2C%20%5B-86.87922279967874%2C%2037.240719222108034%5D%2C%20%5B-86.90810530555565%2C%2037.240719222108034%5D%2C%20%5B-86.90810530555565%2C%2037.21772235083457%5D%5D%5D%2C%20%22type%22%3A%20%22Polygon%22%7D%2C%20%22id%22%3A%20%220%22%2C%20%22type%22%3A%20%22Feature%22%7D%5D%2C%20%22type%22%3A%20%22FeatureCollection%22%7D%29%3B%0A%0A%20%20%20%20%20%20%20%20%0A%20%20%20%20%0A%20%20%20%20%20%20%20%20function%20geo_json_d990ea45ac614da9a4740c03ec38b848_styler%28feature%29%20%7B%0A%20%20%20%20%20%20%20%20%20%20%20%20switch%28feature.id%29%20%7B%0A%20%20%20%20%20%20%20%20%20%20%20%20%20%20%20%20default%3A%0A%20%20%20%20%20%20%20%20%20%20%20%20%20%20%20%20%20%20%20%20return%20%7B%22color%22%3A%20%22%23ff0000%22%2C%20%22fillOpacity%22%3A%200%7D%3B%0A%20%20%20%20%20%20%20%20%20%20%20%20%7D%0A%20%20%20%20%20%20%20%20%7D%0A%0A%20%20%20%20%20%20%20%20function%20geo_json_d990ea45ac614da9a4740c03ec38b848_onEachFeature%28feature%2C%20layer%29%20%7B%0A%20%20%20%20%20%20%20%20%20%20%20%20layer.on%28%7B%0A%20%20%20%20%20%20%20%20%20%20%20%20%7D%29%3B%0A%20%20%20%20%20%20%20%20%7D%3B%0A%20%20%20%20%20%20%20%20var%20geo_json_d990ea45ac614da9a4740c03ec38b848%20%3D%20L.geoJson%28null%2C%20%7B%0A%20%20%20%20%20%20%20%20%20%20%20%20%20%20%20%20onEachFeature%3A%20geo_json_d990ea45ac614da9a4740c03ec38b848_onEachFeature%2C%0A%20%20%20%20%20%20%20%20%20%20%20%20%0A%20%20%20%20%20%20%20%20%20%20%20%20%20%20%20%20style%3A%20geo_json_d990ea45ac614da9a4740c03ec38b848_styler%2C%0A%20%20%20%20%20%20%20%20%7D%29%3B%0A%0A%20%20%20%20%20%20%20%20function%20geo_json_d990ea45ac614da9a4740c03ec38b848_add%20%28data%29%20%7B%0A%20%20%20%20%20%20%20%20%20%20%20%20geo_json_d990ea45ac614da9a4740c03ec38b848%0A%20%20%20%20%20%20%20%20%20%20%20%20%20%20%20%20.addData%28data%29%0A%20%20%20%20%20%20%20%20%20%20%20%20%20%20%20%20.addTo%28map_4f89ba5dfa034d4884384aae0e31270a%29%3B%0A%20%20%20%20%20%20%20%20%7D%0A%20%20%20%20%20%20%20%20%20%20%20%20geo_json_d990ea45ac614da9a4740c03ec38b848_add%28%7B%22features%22%3A%20%5B%7B%22geometry%22%3A%20%7B%22coordinates%22%3A%20%5B%5B%5B-86.89966619836974%2C%2037.231268945319094%5D%2C%20%5B-86.89971132728517%2C%2037.23125097901341%5D%2C%20%5B-86.89991440740462%2C%2037.23125097901341%5D%2C%20%5B-86.89995953632005%2C%2037.23121504640205%5D%2C%20%5B-86.90000466523549%2C%2037.23117911379068%5D%2C%20%5B-86.90004979415092%2C%2037.23114318117932%5D%2C%20%5B-86.90009492306635%2C%2037.231125214873636%5D%2C%20%5B-86.90014005198178%2C%2037.231125214873636%5D%2C%20%5B-86.90018518089721%2C%2037.23110724856795%5D%2C%20%5B-86.90023030981266%2C%2037.23108928226227%5D%2C%20%5B-86.90032056764352%2C%2037.23108928226227%5D%2C%20%5B-86.90036569655895%2C%2037.23105334965091%5D%2C%20%5B-86.90041082547438%2C%2037.23099945073386%5D%2C%20%5B-86.90045595438981%2C%2037.23096351812249%5D%2C%20%5B-86.90052364776297%2C%2037.23092758551113%5D%2C%20%5B-86.9005687766784%2C%2037.23090961920545%5D%2C%20%5B-86.90061390559383%2C%2037.230891652899764%5D%2C%20%5B-86.90065903450926%2C%2037.23087368659408%5D%2C%20%5B-86.90072672788241%2C%2037.23083775398272%5D%2C%20%5B-86.90077185679785%2C%2037.23080182137135%5D%2C%20%5B-86.90081698571328%2C%2037.23076588875999%5D%2C%20%5B-86.90086211462871%2C%2037.23072995614862%5D%2C%20%5B-86.90088467908642%2C%2037.23069402353726%5D%2C%20%5B-86.90090724354414%2C%2037.23065809092589%5D%2C%20%5B-86.90092980800186%2C%2037.23062215831453%5D%2C%20%5B-86.9009749369173%2C%2037.23056825939748%5D%2C%20%5B-86.90102006583272%2C%2037.230514360480434%5D%2C%20%5B-86.90108775920586%2C%2037.230478427869066%5D%2C%20%5B-86.90113288812131%2C%2037.230442495257705%5D%2C%20%5B-86.90117801703674%2C%2037.23040656264634%5D%2C%20%5B-86.90122314595217%2C%2037.230370630034976%5D%2C%20%5B-86.90124571040988%2C%2037.23033469742361%5D%2C%20%5B-86.90129083932531%2C%2037.23028079850656%5D%2C%20%5B-86.90133596824074%2C%2037.2302448658952%5D%2C%20%5B-86.9014036616139%2C%2037.23020893328383%5D%2C%20%5B-86.90144879052933%2C%2037.23019096697815%5D%2C%20%5B-86.90149391944476%2C%2037.230173000672465%5D%2C%20%5B-86.90153904836019%2C%2037.230137068061104%5D%2C%20%5B-86.90160674173335%2C%2037.230101135449736%5D%2C%20%5B-86.9016744351065%2C%2037.230065202838375%5D%2C%20%5B-86.90171956402193%2C%2037.23004723653269%5D%2C%20%5B-86.90176469293736%2C%2037.23002927022701%5D%2C%20%5B-86.90183238631052%2C%2037.23002927022701%5D%2C%20%5B-86.90187751522595%2C%2037.23001130392133%5D%2C%20%5B-86.90192264414138%2C%2037.22997537130996%5D%2C%20%5B-86.90196777305681%2C%2037.2299394386986%5D%2C%20%5B-86.90201290197224%2C%2037.22990350608723%5D%2C%20%5B-86.9020805953454%2C%2037.229867573475865%5D%2C%20%5B-86.90214828871854%2C%2037.229831640864504%5D%2C%20%5B-86.90221598209169%2C%2037.229795708253135%5D%2C%20%5B-86.90226111100712%2C%2037.22977774194746%5D%2C%20%5B-86.90232880438028%2C%2037.22974180933609%5D%2C%20%5B-86.9023739332957%2C%2037.229687910419045%5D%2C%20%5B-86.90239649775341%2C%2037.22965197780768%5D%2C%20%5B-86.90239649775341%2C%2037.22959807889063%5D%2C%20%5B-86.90241906221114%2C%2037.22956214627927%5D%2C%20%5B-86.90241906221114%2C%2037.2295262136679%5D%2C%20%5B-86.90244162666885%2C%2037.229490281056535%5D%2C%20%5B-86.90244162666885%2C%2037.229454348445174%5D%2C%20%5B-86.90248675558428%2C%2037.22940044952813%5D%2C%20%5B-86.90253188449972%2C%2037.229346550611076%5D%2C%20%5B-86.90255444895743%2C%2037.229310617999715%5D%2C%20%5B-86.90255444895743%2C%2037.22913095494289%5D%2C%20%5B-86.90259957787286%2C%2037.229077056025844%5D%2C%20%5B-86.9026447067883%2C%2037.2290231571088%5D%2C%20%5B-86.90268983570373%2C%2037.22898722449743%5D%2C%20%5B-86.90271240016145%2C%2037.22895129188607%5D%2C%20%5B-86.90271240016145%2C%2037.22878959513493%5D%2C%20%5B-86.90273496461916%2C%2037.22875366252356%5D%2C%20%5B-86.90273496461916%2C%2037.2287177299122%5D%2C%20%5B-86.90275752907688%2C%2037.22868179730083%5D%2C%20%5B-86.9027800935346%2C%2037.22864586468947%5D%2C%20%5B-86.9027800935346%2C%2037.22859196577242%5D%2C%20%5B-86.90280265799231%2C%2037.228556033161055%5D%2C%20%5B-86.90280265799231%2C%2037.22852010054969%5D%2C%20%5B-86.90282522245003%2C%2037.228484167938326%5D%2C%20%5B-86.90284778690774%2C%2037.22844823532696%5D%2C%20%5B-86.90284778690774%2C%2037.2284123027156%5D%2C%20%5B-86.90289291582317%2C%2037.228358403798545%5D%2C%20%5B-86.90289291582317%2C%2037.228322471187184%5D%2C%20%5B-86.9029380447386%2C%2037.22826857227014%5D%2C%20%5B-86.90296060919633%2C%2037.22823263965877%5D%2C%20%5B-86.90296060919633%2C%2037.2281967070474%5D%2C%20%5B-86.90298317365404%2C%2037.22816077443604%5D%2C%20%5B-86.90300573811176%2C%2037.22812484182467%5D%2C%20%5B-86.90302830256948%2C%2037.22808890921331%5D%2C%20%5B-86.90302830256948%2C%2037.22801704399058%5D%2C%20%5B-86.90305086702719%2C%2037.227981111379215%5D%2C%20%5B-86.90305086702719%2C%2037.22792721246217%5D%2C%20%5B-86.90305086702719%2C%2037.22785534723944%5D%2C%20%5B-86.90302830256948%2C%2037.22781941462807%5D%2C%20%5B-86.90300573811176%2C%2037.22778348201671%5D%2C%20%5B-86.90300573811176%2C%2037.22774754940534%5D%2C%20%5B-86.90296060919633%2C%2037.22771161679398%5D%2C%20%5B-86.9029154802809%2C%2037.22765771787694%5D%2C%20%5B-86.90287035136546%2C%2037.227603818959885%5D%2C%20%5B-86.90284778690774%2C%2037.227567886348524%5D%2C%20%5B-86.90282522245003%2C%2037.227531953737156%5D%2C%20%5B-86.90280265799231%2C%2037.227496021125795%5D%2C%20%5B-86.90280265799231%2C%2037.22746008851443%5D%2C%20%5B-86.9027800935346%2C%2037.227424155903066%5D%2C%20%5B-86.9027800935346%2C%2037.2273882232917%5D%2C%20%5B-86.90273496461916%2C%2037.22733432437465%5D%2C%20%5B-86.90268983570373%2C%2037.22728042545761%5D%2C%20%5B-86.9026447067883%2C%2037.22724449284624%5D%2C%20%5B-86.90259957787286%2C%2037.22720856023487%5D%2C%20%5B-86.90253188449972%2C%2037.22717262762351%5D%2C%20%5B-86.90248675558428%2C%2037.227118728706465%5D%2C%20%5B-86.90244162666885%2C%2037.22706482978941%5D%2C%20%5B-86.90241906221114%2C%2037.22702889717805%5D%2C%20%5B-86.9023739332957%2C%2037.22697499826101%5D%2C%20%5B-86.90232880438028%2C%2037.226921099343954%5D%2C%20%5B-86.90230623992255%2C%2037.22688516673259%5D%2C%20%5B-86.90226111100712%2C%2037.226849234121225%5D%2C%20%5B-86.90221598209169%2C%2037.226849234121225%5D%2C%20%5B-86.90217085317626%2C%2037.22683126781554%5D%2C%20%5B-86.90212572426083%2C%2037.226813301509864%5D%2C%20%5B-86.9020805953454%2C%2037.22679533520418%5D%2C%20%5B-86.90203546642995%2C%2037.226777368898496%5D%2C%20%5B-86.90196777305681%2C%2037.226741436287135%5D%2C%20%5B-86.90192264414138%2C%2037.22670550367577%5D%2C%20%5B-86.90187751522595%2C%2037.22668753737008%5D%2C%20%5B-86.90178725739507%2C%2037.22668753737008%5D%2C%20%5B-86.90174212847964%2C%2037.226669571064406%5D%2C%20%5B-86.9001626164395%2C%2037.226669571064406%5D%2C%20%5B-86.90011748752407%2C%2037.22668753737008%5D%2C%20%5B-86.90007235860864%2C%2037.22668753737008%5D%2C%20%5B-86.90002722969321%2C%2037.22670550367577%5D%2C%20%5B-86.89998210077778%2C%2037.22670550367577%5D%2C%20%5B-86.89993697186233%2C%2037.22672346998145%5D%2C%20%5B-86.8997338917429%2C%2037.22672346998145%5D%2C%20%5B-86.89968876282745%2C%2037.22670550367577%5D%2C%20%5B-86.899485682708%2C%2037.22670550367577%5D%2C%20%5B-86.89944055379257%2C%2037.22672346998145%5D%2C%20%5B-86.89939542487714%2C%2037.22672346998145%5D%2C%20%5B-86.89935029596171%2C%2037.226741436287135%5D%2C%20%5B-86.89923747367313%2C%2037.226741436287135%5D%2C%20%5B-86.8991923447577%2C%2037.22675940259281%5D%2C%20%5B-86.89869592668794%2C%2037.22675940259281%5D%2C%20%5B-86.8986507977725%2C%2037.226777368898496%5D%2C%20%5B-86.89849284656849%2C%2037.226777368898496%5D%2C%20%5B-86.89844771765306%2C%2037.22679533520418%5D%2C%20%5B-86.89801899295645%2C%2037.22679533520418%5D%2C%20%5B-86.89797386404102%2C%2037.226813301509864%5D%2C%20%5B-86.89761283271756%2C%2037.226813301509864%5D%2C%20%5B-86.89756770380212%2C%2037.22683126781554%5D%2C%20%5B-86.89686820561292%2C%2037.22683126781554%5D%2C%20%5B-86.89682307669749%2C%2037.226849234121225%5D%2C%20%5B-86.8962815297123%2C%2037.226849234121225%5D%2C%20%5B-86.89623640079687%2C%2037.22686720042691%5D%2C%20%5B-86.89619127188142%2C%2037.22688516673259%5D%2C%20%5B-86.89612357850828%2C%2037.22688516673259%5D%2C%20%5B-86.89607844959285%2C%2037.22690313303827%5D%2C%20%5B-86.8960107562197%2C%2037.22690313303827%5D%2C%20%5B-86.89596562730426%2C%2037.226921099343954%5D%2C%20%5B-86.8958753694734%2C%2037.226921099343954%5D%2C%20%5B-86.89583024055797%2C%2037.22693906564964%5D%2C%20%5B-86.89571741826938%2C%2037.22693906564964%5D%2C%20%5B-86.89567228935395%2C%2037.22695703195532%5D%2C%20%5B-86.89553690260766%2C%2037.22695703195532%5D%2C%20%5B-86.89549177369221%2C%2037.22697499826101%5D%2C%20%5B-86.89542408031907%2C%2037.22697499826101%5D%2C%20%5B-86.89537895140364%2C%2037.22699296456668%5D%2C%20%5B-86.89528869357277%2C%2037.22699296456668%5D%2C%20%5B-86.89524356465733%2C%2037.22701093087237%5D%2C%20%5B-86.89510817791104%2C%2037.22701093087237%5D%2C%20%5B-86.89506304899561%2C%2037.22702889717805%5D%2C%20%5B-86.89483740441845%2C%2037.22702889717805%5D%2C%20%5B-86.89479227550301%2C%2037.227046863483736%5D%2C%20%5B-86.89472458212987%2C%2037.2270827960951%5D%2C%20%5B-86.89467945321444%2C%2037.22710076240078%5D%2C%20%5B-86.894634324299%2C%2037.227118728706465%5D%2C%20%5B-86.89458919538356%2C%2037.22713669501214%5D%2C%20%5B-86.89452150201042%2C%2037.22713669501214%5D%2C%20%5B-86.89447637309499%2C%2037.227154661317826%5D%2C%20%5B-86.89434098634868%2C%2037.227154661317826%5D%2C%20%5B-86.89429585743325%2C%2037.22717262762351%5D%2C%20%5B-86.89359635924404%2C%2037.22717262762351%5D%2C%20%5B-86.89355123032861%2C%2037.227190593929194%5D%2C%20%5B-86.8933932791246%2C%2037.227190593929194%5D%2C%20%5B-86.89334815020916%2C%2037.22720856023487%5D%2C%20%5B-86.89328045683602%2C%2037.22720856023487%5D%2C%20%5B-86.89323532792059%2C%2037.227226526540555%5D%2C%20%5B-86.89319019900515%2C%2037.22724449284624%5D%2C%20%5B-86.89314507008972%2C%2037.22724449284624%5D%2C%20%5B-86.89307737671658%2C%2037.22728042545761%5D%2C%20%5B-86.89303224780114%2C%2037.22728042545761%5D%2C%20%5B-86.89298711888571%2C%2037.227298391763284%5D%2C%20%5B-86.89294198997027%2C%2037.22731635806897%5D%2C%20%5B-86.89289686105484%2C%2037.22731635806897%5D%2C%20%5B-86.8928517321394%2C%2037.22733432437465%5D%2C%20%5B-86.89280660322397%2C%2037.22735229068034%5D%2C%20%5B-86.89278403876627%2C%2037.22735229068034%5D%2C%20%5B-86.89276147430854%2C%2037.2273882232917%5D%2C%20%5B-86.89276147430854%2C%2037.22744212220874%5D%2C%20%5B-86.89273890985083%2C%2037.22747805482011%5D%2C%20%5B-86.89271634539311%2C%2037.22751398743147%5D%2C%20%5B-86.89271634539311%2C%2037.22778348201671%5D%2C%20%5B-86.89269378093539%2C%2037.22781941462807%5D%2C%20%5B-86.89269378093539%2C%2037.228106875518996%5D%2C%20%5B-86.89267121647768%2C%2037.22814280813036%5D%2C%20%5B-86.89267121647768%2C%2037.22823263965877%5D%2C%20%5B-86.89264865201996%2C%2037.22826857227014%5D%2C%20%5B-86.89264865201996%2C%2037.228322471187184%5D%2C%20%5B-86.89262608756225%2C%2037.228358403798545%5D%2C%20%5B-86.89262608756225%2C%2037.22839433640991%5D%2C%20%5B-86.89260352310453%2C%2037.228430269021274%5D%2C%20%5B-86.89258095864682%2C%2037.22846620163264%5D%2C%20%5B-86.89258095864682%2C%2037.22852010054969%5D%2C%20%5B-86.8925583941891%2C%2037.228556033161055%5D%2C%20%5B-86.89253582973139%2C%2037.22859196577242%5D%2C%20%5B-86.89251326527366%2C%2037.228627898383785%5D%2C%20%5B-86.89249070081594%2C%2037.228663830995146%5D%2C%20%5B-86.89246813635823%2C%2037.228699763606514%5D%2C%20%5B-86.89244557190051%2C%2037.228735696217875%5D%2C%20%5B-86.89240044298508%2C%2037.22878959513493%5D%2C%20%5B-86.89240044298508%2C%2037.22898722449743%5D%2C%20%5B-86.89237787852737%2C%2037.2290231571088%5D%2C%20%5B-86.89237787852737%2C%2037.22947231475086%5D%2C%20%5B-86.89237787852737%2C%2037.22954417997359%5D%2C%20%5B-86.89240044298508%2C%2037.22958011258495%5D%2C%20%5B-86.89244557190051%2C%2037.229634011502%5D%2C%20%5B-86.89251326527366%2C%2037.22966994411336%5D%2C%20%5B-86.8925583941891%2C%2037.22966994411336%5D%2C%20%5B-86.89260352310453%2C%2037.229687910419045%5D%2C%20%5B-86.89264865201996%2C%2037.229687910419045%5D%2C%20%5B-86.89269378093539%2C%2037.22970587672473%5D%2C%20%5B-86.89273890985083%2C%2037.229723843030406%5D%2C%20%5B-86.89280660322397%2C%2037.229723843030406%5D%2C%20%5B-86.8928517321394%2C%2037.22974180933609%5D%2C%20%5B-86.89289686105484%2C%2037.22974180933609%5D%2C%20%5B-86.89294198997027%2C%2037.229759775641774%5D%2C%20%5B-86.89298711888571%2C%2037.22977774194746%5D%2C%20%5B-86.89303224780114%2C%2037.229795708253135%5D%2C%20%5B-86.89307737671658%2C%2037.22981367455882%5D%2C%20%5B-86.89312250563201%2C%2037.229831640864504%5D%2C%20%5B-86.89316763454744%2C%2037.22984960717019%5D%2C%20%5B-86.89350610141318%2C%2037.22984960717019%5D%2C%20%5B-86.89355123032861%2C%2037.229867573475865%5D%2C%20%5B-86.89397995502523%2C%2037.229867573475865%5D%2C%20%5B-86.89402508394066%2C%2037.22988553978155%5D%2C%20%5B-86.89434098634868%2C%2037.22988553978155%5D%2C%20%5B-86.89438611526413%2C%2037.22990350608723%5D%2C%20%5B-86.89470201767215%2C%2037.22990350608723%5D%2C%20%5B-86.89474714658758%2C%2037.22992147239292%5D%2C%20%5B-86.89580767610025%2C%2037.22992147239292%5D%2C%20%5B-86.89585280501568%2C%2037.22990350608723%5D%2C%20%5B-86.89603332067742%2C%2037.22990350608723%5D%2C%20%5B-86.89607844959285%2C%2037.22992147239292%5D%2C%20%5B-86.89634922308544%2C%2037.22992147239292%5D%2C%20%5B-86.89639435200087%2C%2037.2299394386986%5D%2C%20%5B-86.89646204537402%2C%2037.2299394386986%5D%2C%20%5B-86.89650717428945%2C%2037.22995740500428%5D%2C%20%5B-86.89655230320488%2C%2037.22997537130996%5D%2C%20%5B-86.89659743212032%2C%2037.22997537130996%5D%2C%20%5B-86.89666512549347%2C%2037.23001130392133%5D%2C%20%5B-86.89673281886662%2C%2037.23001130392133%5D%2C%20%5B-86.89677794778206%2C%2037.23002927022701%5D%2C%20%5B-86.89686820561292%2C%2037.23002927022701%5D%2C%20%5B-86.89691333452835%2C%2037.23004723653269%5D%2C%20%5B-86.89695846344378%2C%2037.230065202838375%5D%2C%20%5B-86.89700359235921%2C%2037.230065202838375%5D%2C%20%5B-86.89707128573237%2C%2037.230101135449736%5D%2C%20%5B-86.8971389791055%2C%2037.230137068061104%5D%2C%20%5B-86.89720667247866%2C%2037.230173000672465%5D%2C%20%5B-86.89725180139409%2C%2037.23019096697815%5D%2C%20%5B-86.89729693030952%2C%2037.23020893328383%5D%2C%20%5B-86.89736462368268%2C%2037.2302448658952%5D%2C%20%5B-86.89740975259811%2C%2037.23028079850656%5D%2C%20%5B-86.89745488151354%2C%2037.23033469742361%5D%2C%20%5B-86.89747744597126%2C%2037.230370630034976%5D%2C%20%5B-86.8975225748867%2C%2037.23042452895202%5D%2C%20%5B-86.89759026825983%2C%2037.23046046156339%5D%2C%20%5B-86.89763539717528%2C%2037.23046046156339%5D%2C%20%5B-86.89770309054842%2C%2037.23049639417475%5D%2C%20%5B-86.89774821946385%2C%2037.23049639417475%5D%2C%20%5B-86.89779334837928%2C%2037.23053232678612%5D%2C%20%5B-86.89783847729471%2C%2037.2305502930918%5D%2C%20%5B-86.89790617066787%2C%2037.2305502930918%5D%2C%20%5B-86.8979512995833%2C%2037.23056825939748%5D%2C%20%5B-86.89799642849873%2C%2037.23056825939748%5D%2C%20%5B-86.89804155741416%2C%2037.23058622570316%5D%2C%20%5B-86.89808668632959%2C%2037.23060419200885%5D%2C%20%5B-86.89813181524504%2C%2037.23062215831453%5D%2C%20%5B-86.89819950861818%2C%2037.23065809092589%5D%2C%20%5B-86.89824463753361%2C%2037.23069402353726%5D%2C%20%5B-86.89828976644904%2C%2037.23072995614862%5D%2C%20%5B-86.8983574598222%2C%2037.23076588875999%5D%2C%20%5B-86.89840258873762%2C%2037.23076588875999%5D%2C%20%5B-86.89844771765306%2C%2037.23078385506567%5D%2C%20%5B-86.89849284656849%2C%2037.23080182137135%5D%2C%20%5B-86.89856053994164%2C%2037.23083775398272%5D%2C%20%5B-86.89860566885707%2C%2037.23087368659408%5D%2C%20%5B-86.8986507977725%2C%2037.23092758551113%5D%2C%20%5B-86.89869592668794%2C%2037.23096351812249%5D%2C%20%5B-86.89871849114566%2C%2037.23099945073386%5D%2C%20%5B-86.89876362006109%2C%2037.23105334965091%5D%2C%20%5B-86.89880874897652%2C%2037.23107131595659%5D%2C%20%5B-86.89885387789195%2C%2037.23107131595659%5D%2C%20%5B-86.8989215712651%2C%2037.23110724856795%5D%2C%20%5B-86.89896670018054%2C%2037.23110724856795%5D%2C%20%5B-86.89903439355369%2C%2037.23114318117932%5D%2C%20%5B-86.89907952246912%2C%2037.23117911379068%5D%2C%20%5B-86.89912465138455%2C%2037.23121504640205%5D%2C%20%5B-86.89916978029999%2C%2037.23123301270773%5D%2C%20%5B-86.89921490921542%2C%2037.23125097901341%5D%2C%20%5B-86.89939542487714%2C%2037.23125097901341%5D%2C%20%5B-86.89944055379257%2C%2037.231268945319094%5D%2C%20%5B-86.89964363391202%2C%2037.231268945319094%5D%2C%20%5B-86.89966619836974%2C%2037.231268945319094%5D%5D%5D%2C%20%22type%22%3A%20%22Polygon%22%7D%2C%20%22id%22%3A%20%220%22%2C%20%22type%22%3A%20%22Feature%22%7D%5D%2C%20%22type%22%3A%20%22FeatureCollection%22%7D%29%3B%0A%0A%20%20%20%20%20%20%20%20%0A%20%20%20%20%0A%20%20%20%20%20%20%20%20%20%20%20%20var%20layer_control_482cce2dca9e47959f37c430a8aa2b91%20%3D%20%7B%0A%20%20%20%20%20%20%20%20%20%20%20%20%20%20%20%20base_layers%20%3A%20%7B%0A%20%20%20%20%20%20%20%20%20%20%20%20%20%20%20%20%20%20%20%20%22openstreetmap%22%20%3A%20tile_layer_e8cc21b827694058bc6c0bb524608126%2C%0A%20%20%20%20%20%20%20%20%20%20%20%20%20%20%20%20%7D%2C%0A%20%20%20%20%20%20%20%20%20%20%20%20%20%20%20%20overlays%20%3A%20%20%7B%0A%20%20%20%20%20%20%20%20%20%20%20%20%20%20%20%20%20%20%20%20%22NAIP%20%282018-09-19%29%22%20%3A%20tile_layer_55f13dc4d4b14ba69d8f5cd063985cca%2C%0A%20%20%20%20%20%20%20%20%20%20%20%20%20%20%20%20%20%20%20%20%22Point%22%20%3A%20geo_json_ce0381ce543d49428cc6beb24e85fb65%2C%0A%20%20%20%20%20%20%20%20%20%20%20%20%20%20%20%20%20%20%20%20%22Bounding%20Box%22%20%3A%20geo_json_aecd28d9e3844dcc9f8a51088c3d411c%2C%0A%20%20%20%20%20%20%20%20%20%20%20%20%20%20%20%20%20%20%20%20%22Field%22%20%3A%20geo_json_d990ea45ac614da9a4740c03ec38b848%2C%0A%20%20%20%20%20%20%20%20%20%20%20%20%20%20%20%20%7D%2C%0A%20%20%20%20%20%20%20%20%20%20%20%20%7D%3B%0A%20%20%20%20%20%20%20%20%20%20%20%20L.control.layers%28%0A%20%20%20%20%20%20%20%20%20%20%20%20%20%20%20%20layer_control_482cce2dca9e47959f37c430a8aa2b91.base_layers%2C%0A%20%20%20%20%20%20%20%20%20%20%20%20%20%20%20%20layer_control_482cce2dca9e47959f37c430a8aa2b91.overlays%2C%0A%20%20%20%20%20%20%20%20%20%20%20%20%20%20%20%20%7B%22autoZIndex%22%3A%20true%2C%20%22collapsed%22%3A%20true%2C%20%22position%22%3A%20%22topright%22%7D%0A%20%20%20%20%20%20%20%20%20%20%20%20%29.addTo%28map_4f89ba5dfa034d4884384aae0e31270a%29%3B%0A%20%20%20%20%20%20%20%20%0A%3C/script%3E onload=\"this.contentDocument.open();this.contentDocument.write(    decodeURIComponent(this.getAttribute('data-html')));this.contentDocument.close();\" allowfullscreen webkitallowfullscreen mozallowfullscreen></iframe></div></div>"
      ],
      "text/plain": [
       "<folium.folium.Map at 0x7ffdd982c3d0>"
      ]
     },
     "metadata": {},
     "output_type": "display_data"
    }
   ],
   "source": [
    "analyse(104400)"
   ]
  },
  {
   "cell_type": "code",
   "execution_count": null,
   "id": "95591218",
   "metadata": {},
   "outputs": [],
   "source": []
  },
  {
   "cell_type": "code",
   "execution_count": null,
   "id": "d5241573",
   "metadata": {},
   "outputs": [],
   "source": []
  },
  {
   "cell_type": "code",
   "execution_count": 23,
   "id": "fb60b6ec",
   "metadata": {},
   "outputs": [],
   "source": [
    "beck = pd.read_csv(Path.cwd() / 'data/beck_corn_data.csv', index_col=0)\n",
    "d = {}\n",
    "for i in beck.id:\n",
    "    sdf = beck[beck.id == i].iloc[0]\n",
    "    d[int(i)] = f\"{sdf.lat}-{sdf.lng}\""
   ]
  },
  {
   "cell_type": "code",
   "execution_count": 39,
   "id": "3eed8509",
   "metadata": {},
   "outputs": [],
   "source": [
    "ids = [104394,\n",
    " 104402,\n",
    " 104400,\n",
    " 104373,\n",
    " 104404,\n",
    " 104550,\n",
    " 104406,\n",
    " 104403,\n",
    " 104405,\n",
    " 104551,\n",
    " 102759,\n",
    " 102764,\n",
    " 102797,\n",
    " 102802,\n",
    " 102816,\n",
    " 102819,\n",
    " 102823,\n",
    " 102828,\n",
    " 102832,\n",
    " 102846,\n",
    " 102849,\n",
    " 102860,\n",
    " 102871,\n",
    " 102878,\n",
    " 102921,\n",
    " 102959,\n",
    " 102968,\n",
    " 102977,\n",
    " 102979,\n",
    " 102990,\n",
    " 103910,\n",
    " 103956,\n",
    " 103912,\n",
    " 103916,\n",
    " 103914,\n",
    " 103917,\n",
    " 103911,\n",
    " 103902,\n",
    " 103915,\n",
    " 103900]"
   ]
  },
  {
   "cell_type": "code",
   "execution_count": 40,
   "id": "6995bad7",
   "metadata": {},
   "outputs": [
    {
     "data": {
      "text/plain": [
       "{104394: '39.6679328199836--95.4287818841267',\n",
       " 104402: '41.8049052687692--89.9462267030189',\n",
       " 104400: '37.2292207864713--86.8936640526172',\n",
       " 104373: '40.5537664309943--86.5148327618408',\n",
       " 104404: '41.2411259521817--82.9936408996582',\n",
       " 104550: '38.8381287601523--95.04570706051',\n",
       " 104406: '40.7992566200523--81.7018890380859',\n",
       " 104403: '41.3497073605845--89.8826967564129',\n",
       " 104405: '41.2705736167006--82.6459836959839',\n",
       " 104551: '39.2359428773568--91.8431282043457',\n",
       " 102759: '40.7503130678784--87.0291101932526',\n",
       " 102764: '40.6059378740043--87.0167398452759',\n",
       " 102797: '38.2517293230358--87.4965763092041',\n",
       " 102802: '44.0346771143346--93.8702092820737',\n",
       " 102816: '43.7839925305993--92.4227786633144',\n",
       " 102819: '35.3087866338525--87.4896240234375',\n",
       " 102823: '44.6139945188537--95.4755313826988',\n",
       " 102828: '39.2794239182597--87.6673579216003',\n",
       " 102832: '43.9847601324212--96.5876326807513',\n",
       " 102846: '39.5487283498371--88.3416438102722',\n",
       " 102849: '43.0237255888202--95.8220672607422',\n",
       " 102860: '44.6865684420587--95.1789462817575',\n",
       " 102871: '38.3291691862964--94.2903909307831',\n",
       " 102878: '39.3615770325675--95.5014896392822',\n",
       " 102921: '42.9690988503875--95.4876632009886',\n",
       " 102959: '44.1797418457552--90.9213924407959',\n",
       " 102968: '39.0444531994565--91.1161752981612',\n",
       " 102977: '41.9954135672096--93.7356090545654',\n",
       " 102979: '43.6806599655222--94.4537973403931',\n",
       " 102990: '43.2991036523063--94.9715709686279',\n",
       " 103910: '43.3076215923193--83.6174134101217',\n",
       " 103956: '43.3216247563628--83.5853737938962',\n",
       " 103912: '45.3400283876709--93.7965417477249',\n",
       " 103916: '45.6151016151883--95.0171869813459',\n",
       " 103914: '43.2768273988623--85.8880524000559',\n",
       " 103917: '43.4066311779089--83.6220222827469',\n",
       " 103911: '43.4089390406588--83.6679532051476',\n",
       " 103902: '40.2255287534228--88.8321466181766',\n",
       " 103915: '38.7482309848128--89.6548676255029',\n",
       " 103900: '40.1637887986809--89.9943351745605'}"
      ]
     },
     "execution_count": 40,
     "metadata": {},
     "output_type": "execute_result"
    }
   ],
   "source": [
    "d_relevant = {}\n",
    "for i in ids:\n",
    "    d_relevant[i] = d[i]\n",
    "d_relevant"
   ]
  },
  {
   "cell_type": "code",
   "execution_count": null,
   "id": "8b6f15dc",
   "metadata": {},
   "outputs": [],
   "source": []
  },
  {
   "cell_type": "code",
   "execution_count": null,
   "id": "d980d256",
   "metadata": {},
   "outputs": [],
   "source": []
  },
  {
   "cell_type": "code",
   "execution_count": null,
   "id": "f91225ce",
   "metadata": {},
   "outputs": [],
   "source": []
  },
  {
   "cell_type": "code",
   "execution_count": 141,
   "id": "dcc54b0b",
   "metadata": {},
   "outputs": [
    {
     "name": "stderr",
     "output_type": "stream",
     "text": [
      "Sampling Landsat 7 SR-T1: 100%|██████████| 5/5 [00:02<00:00,  2.21it/s]\n",
      "Sampling Landsat 8 SR-T1: 100%|██████████| 4/4 [00:01<00:00,  2.26it/s]\n",
      "Sampling Sentinel-2 L2A SR: 100%|██████████| 14/14 [00:17<00:00,  1.26s/it]\n"
     ]
    }
   ],
   "source": [
    "s_landsat7 = landsat7.sample(\n",
    "    region=field_boundary,\n",
    ")\n",
    "s_landsat8 = landsat8.sample(\n",
    "    region=field_boundary,\n",
    ")\n",
    "s_sentinel2 = sentinel2.sample(\n",
    "    region=field_boundary,\n",
    ")"
   ]
  },
  {
   "cell_type": "markdown",
   "id": "f7ca1013",
   "metadata": {},
   "source": [
    "## Collect Cloud Data\n",
    "\n",
    "The following script is used to collect data for the cloud-filter."
   ]
  },
  {
   "cell_type": "code",
   "execution_count": 34,
   "id": "4ae2ed60",
   "metadata": {},
   "outputs": [],
   "source": [
    "# cloud_data = {'cloudy':{}, 'clear':{}}  # TODO: comment for precaution"
   ]
  },
  {
   "cell_type": "code",
   "execution_count": 145,
   "id": "d436ae6b",
   "metadata": {},
   "outputs": [
    {
     "data": {
      "text/plain": [
       "(38, 395)"
      ]
     },
     "execution_count": 145,
     "metadata": {},
     "output_type": "execute_result"
    }
   ],
   "source": [
    "# Add as clouds\n",
    "dataset = 'sentinel2'\n",
    "date = '2020-05-26'\n",
    "\n",
    "if dataset == 'landsat7':\n",
    "    samples = s_landsat7\n",
    "elif dataset == 'landsat8':\n",
    "    samples = s_landsat8\n",
    "elif dataset == 'sentinel2':\n",
    "    samples = s_sentinel2\n",
    "else:\n",
    "    raise Exception\n",
    "assert date in samples\n",
    "cloud_data['cloudy'][f\"{FIELD_ID}-{date}-{dataset}\"] = samples[date]\n",
    "\n",
    "len(cloud_data['cloudy']),len(cloud_data['clear'])"
   ]
  },
  {
   "cell_type": "code",
   "execution_count": 146,
   "id": "f1960635",
   "metadata": {},
   "outputs": [
    {
     "data": {
      "text/plain": [
       "(38, 414)"
      ]
     },
     "execution_count": 146,
     "metadata": {},
     "output_type": "execute_result"
    }
   ],
   "source": [
    "# Add all the others as none-clouds\n",
    "for dataset in ('landsat7', 'landsat8', 'sentinel2'):\n",
    "    if dataset == 'landsat7':\n",
    "        samples = s_landsat7\n",
    "    elif dataset == 'landsat8':\n",
    "        samples = s_landsat8\n",
    "    elif dataset == 'sentinel2':\n",
    "        samples = s_sentinel2\n",
    "    for date, sample in samples.items():\n",
    "        if f\"{FIELD_ID}-{date}-{dataset}\" in cloud_data['cloudy']: continue\n",
    "        cloud_data['clear'][f\"{FIELD_ID}-{date}-{dataset}\"] = sample\n",
    "    \n",
    "len(cloud_data['cloudy']),len(cloud_data['clear'])"
   ]
  },
  {
   "cell_type": "code",
   "execution_count": 147,
   "id": "9b0c62a1",
   "metadata": {},
   "outputs": [],
   "source": [
    "# with open(Path.cwd() / 'data/cloud_data.json', 'w') as f:\n",
    "#     json.dump(cloud_data, f)"
   ]
  },
  {
   "cell_type": "code",
   "execution_count": null,
   "id": "7700be82",
   "metadata": {},
   "outputs": [],
   "source": []
  }
 ],
 "metadata": {
  "hide_input": false,
  "kernelspec": {
   "display_name": "Python 3",
   "language": "python",
   "name": "python3"
  },
  "language_info": {
   "codemirror_mode": {
    "name": "ipython",
    "version": 3
   },
   "file_extension": ".py",
   "mimetype": "text/x-python",
   "name": "python",
   "nbconvert_exporter": "python",
   "pygments_lexer": "ipython3",
   "version": "3.8.8"
  }
 },
 "nbformat": 4,
 "nbformat_minor": 5
}
