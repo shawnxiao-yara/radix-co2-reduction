{
 "cells": [
  {
   "cell_type": "code",
   "execution_count": 1,
   "id": "0f8215c7",
   "metadata": {},
   "outputs": [
    {
     "name": "stdout",
     "output_type": "stream",
     "text": [
      "/Users/rubenbroekx/Documents/Projects/radix-co2-reduction\n"
     ]
    }
   ],
   "source": [
    "%load_ext autoreload\n",
    "%autoreload 2\n",
    "\n",
    "%cd .."
   ]
  },
  {
   "cell_type": "markdown",
   "id": "c69a0c1e",
   "metadata": {},
   "source": [
    "# Analyse Field\n",
    "\n",
    "Analyse a single field using its coordinates and Google Earth Engine satellite imagery."
   ]
  },
  {
   "cell_type": "code",
   "execution_count": 2,
   "id": "b1c1d78c",
   "metadata": {},
   "outputs": [],
   "source": [
    "import re\n",
    "import ee\n",
    "import json\n",
    "import folium\n",
    "import pandas as pd\n",
    "import matplotlib.pyplot as plt\n",
    "import matplotlib.image as mpimg\n",
    "\n",
    "from datetime import datetime\n",
    "from pathlib import Path\n",
    "\n",
    "from src.radix_co2_reduction.earth_engine.visualisation import create_map, show_polygon, show_point\n",
    "from src.radix_co2_reduction.earth_engine.datasets import CroplandCollection, Landsat7Collection, Landsat8Collection, Sentinel2Collection\n",
    "from src.radix_co2_reduction.earth_engine.session import start\n",
    "from src.radix_co2_reduction.earth_engine.utils import create_bounding_box, create_polygon, download_as_png, to_polygon"
   ]
  },
  {
   "cell_type": "code",
   "execution_count": 3,
   "id": "2bbc4a91",
   "metadata": {},
   "outputs": [
    {
     "data": {
      "text/html": [
       "<p>To authorize access needed by Earth Engine, open the following\n",
       "        URL in a web browser and follow the instructions:</p>\n",
       "        <p><a href=https://accounts.google.com/o/oauth2/auth?client_id=517222506229-vsmmajv00ul0bs7p89v5m89qs8eb9359.apps.googleusercontent.com&scope=https%3A%2F%2Fwww.googleapis.com%2Fauth%2Fearthengine+https%3A%2F%2Fwww.googleapis.com%2Fauth%2Fdevstorage.full_control&redirect_uri=urn%3Aietf%3Awg%3Aoauth%3A2.0%3Aoob&response_type=code&code_challenge=NjT_1yiehV-cVoNBXzHZb6L17n90WjtX7h2HbkNfZD0&code_challenge_method=S256>https://accounts.google.com/o/oauth2/auth?client_id=517222506229-vsmmajv00ul0bs7p89v5m89qs8eb9359.apps.googleusercontent.com&scope=https%3A%2F%2Fwww.googleapis.com%2Fauth%2Fearthengine+https%3A%2F%2Fwww.googleapis.com%2Fauth%2Fdevstorage.full_control&redirect_uri=urn%3Aietf%3Awg%3Aoauth%3A2.0%3Aoob&response_type=code&code_challenge=NjT_1yiehV-cVoNBXzHZb6L17n90WjtX7h2HbkNfZD0&code_challenge_method=S256</a></p>\n",
       "        <p>The authorization workflow will generate a code, which you\n",
       "        should paste in the box below</p>\n",
       "        "
      ],
      "text/plain": [
       "<IPython.core.display.HTML object>"
      ]
     },
     "metadata": {},
     "output_type": "display_data"
    },
    {
     "name": "stdout",
     "output_type": "stream",
     "text": [
      "Enter verification code: 4/1AY0e-g7pBzJF-HY0IZA4m3XAXNMhTyHRvGa1fxggJVipUhWjuUZQr89Y5nM\n",
      "\n",
      "Successfully saved authorization token.\n"
     ]
    }
   ],
   "source": [
    "# Start a Earth Engine session\n",
    "start()"
   ]
  },
  {
   "cell_type": "code",
   "execution_count": 4,
   "id": "f9a8b849",
   "metadata": {},
   "outputs": [],
   "source": [
    "# Load in Beck's data\n",
    "beck = pd.read_csv(Path.cwd() / 'data/beck_corn_data.csv', index_col=0)\n",
    "\n",
    "# Load in all field-boundaries\n",
    "with open(Path.cwd() / 'data/polygons.json', 'r') as f:\n",
    "    boundaries = json.load(f)"
   ]
  },
  {
   "cell_type": "code",
   "execution_count": 5,
   "id": "1b9c6e88",
   "metadata": {},
   "outputs": [],
   "source": [
    "def extract_harvest_date(d: str) -> str:\n",
    "    \"\"\"Parse out the harvest date.\"\"\"\n",
    "    d = re.sub(r'[\\n]+', ' ', d)[11:21]\n",
    "    try:\n",
    "        return datetime.strptime(d, '%m/%d/%Y').strftime('%Y-%m-%d')\n",
    "    except ValueError:\n",
    "        return None\n",
    "\n",
    "\n",
    "def extract_planting_date(d: str) -> str:\n",
    "    \"\"\"Parse out the harvest date.\"\"\"\n",
    "    d = re.sub(r'[\\n]+', ' ', d)[9:19]\n",
    "    try:\n",
    "        return datetime.strptime(d, '%m/%d/%Y').strftime('%Y-%m-%d')\n",
    "    except ValueError:\n",
    "        return None"
   ]
  },
  {
   "cell_type": "code",
   "execution_count": 6,
   "id": "e14a8b04",
   "metadata": {},
   "outputs": [],
   "source": [
    "def analyse(field_id):\n",
    "    # Load in field information\n",
    "    field = beck[beck['id'] == field_id].iloc[0]\n",
    "\n",
    "    ID = int(field.id)\n",
    "    YEAR = int(field.year)\n",
    "    print(f\" - Field from year: {YEAR}\")\n",
    "    TILL_TYPE = field.tillage[9:]\n",
    "    print(f\" - Tillage type: {TILL_TYPE}\")\n",
    "    harvest_date = extract_harvest_date(field.harvest_date)\n",
    "    print(f\" - Harvesting date: {harvest_date}\")\n",
    "    planting_date = extract_planting_date(field.planted_date)\n",
    "    print(f\" - Planting date: {planting_date}\")\n",
    "    startdate = f\"{YEAR - 1}-11-01\"\n",
    "    enddate = f\"{YEAR}-06-30\"\n",
    "    print(f\" - Extracting data from {startdate} until {enddate}\")\n",
    "    \n",
    "    # Create bounding box around field and load in field's polygon\n",
    "    bounding_box = to_polygon(create_bounding_box(\n",
    "            lng=field.lng,\n",
    "            lat=field.lat,\n",
    "            offset=1000,\n",
    "    ))\n",
    "    coordinates = boundaries[str(ID)]\n",
    "    field_boundary = create_polygon([coordinates])\n",
    "\n",
    "    # Load in all datasets\n",
    "    landsat7 = Landsat7Collection()\n",
    "    landsat7.load_collection(\n",
    "            region=field_boundary,\n",
    "            startdate=startdate,\n",
    "            enddate=enddate,\n",
    "            filter_clouds=True,\n",
    "            return_masked=False,\n",
    "            filter_perc=.75,\n",
    "            relevant_bands=['B1', 'B2', 'B3', 'B4', 'B5', 'B7', 'pixel_qa'],\n",
    "    )\n",
    "    print(f\" - Number of data samples for {landsat7}: {landsat7.get_size()}\")\n",
    "\n",
    "    # Landsat 8 data: https://developers.google.com/earth-engine/datasets/catalog/LANDSAT_LC08_C01_T1_SR\n",
    "    landsat8 = Landsat8Collection()\n",
    "    landsat8.load_collection(\n",
    "            region=field_boundary,\n",
    "            startdate=startdate,\n",
    "            enddate=enddate,\n",
    "            filter_clouds=True,\n",
    "            return_masked=False,\n",
    "            filter_perc=.25,\n",
    "            relevant_bands=['B2', 'B3', 'B4', 'B5', 'B6', 'B7', 'pixel_qa'],\n",
    "    )\n",
    "    print(f\" - Number of data samples for {landsat8}: {landsat8.get_size()}\")\n",
    "\n",
    "    # # Sentinel-2 L2A data: https://developers.google.com/earth-engine/datasets/catalog/COPERNICUS_S2_SR\n",
    "    sentinel2 = Sentinel2Collection()\n",
    "    sentinel2.load_collection(\n",
    "            region=field_boundary,\n",
    "            startdate=startdate,\n",
    "            enddate=enddate,\n",
    "            filter_clouds=True,\n",
    "            return_masked=False,\n",
    "            filter_perc=.25,\n",
    "            relevant_bands=['B2', 'B3', 'B4', 'B8', 'B11', 'B12', 'QA60', 'SCL'],\n",
    "    )\n",
    "    print(f\" - Number of data samples for {sentinel2}: {sentinel2.get_size()}\")\n",
    "\n",
    "    # USDA Cropland data: https://developers.google.com/earth-engine/datasets/catalog/USDA_NASS_CDL?hl=en\n",
    "    cropland = CroplandCollection()\n",
    "    cropland.load_collection(\n",
    "            region=field_boundary,\n",
    "            startdate=f'{YEAR}-01-01',\n",
    "            enddate=f'{YEAR}-12-31',\n",
    "    )\n",
    "    \n",
    "    # Show on map\n",
    "    mp = create_map(coordinate=(field.lat, field.lng), zoom=14)\n",
    "    mp = landsat7.add_to_map(mp, scheme='all')\n",
    "    mp = landsat8.add_to_map(mp, scheme='all')\n",
    "    mp = sentinel2.add_to_map(mp, scheme='all')\n",
    "    # mp = cropland.add_to_map(mp, scheme='first')\n",
    "    mp = show_point(mp, point=ee.Geometry.Point(field.lng, field.lat))\n",
    "    mp = show_polygon(mp, polygon=field_boundary, tag='Field')\n",
    "    mp.add_child(folium.LayerControl())\n",
    "    display(mp)"
   ]
  },
  {
   "cell_type": "code",
   "execution_count": null,
   "id": "882d83a5",
   "metadata": {},
   "outputs": [],
   "source": []
  },
  {
   "cell_type": "code",
   "execution_count": null,
   "id": "02e20044",
   "metadata": {},
   "outputs": [],
   "source": []
  },
  {
   "cell_type": "code",
   "execution_count": null,
   "id": "d980d256",
   "metadata": {},
   "outputs": [],
   "source": []
  },
  {
   "cell_type": "code",
   "execution_count": null,
   "id": "f91225ce",
   "metadata": {},
   "outputs": [],
   "source": []
  },
  {
   "cell_type": "code",
   "execution_count": 141,
   "id": "dcc54b0b",
   "metadata": {},
   "outputs": [
    {
     "name": "stderr",
     "output_type": "stream",
     "text": [
      "Sampling Landsat 7 SR-T1: 100%|██████████| 5/5 [00:02<00:00,  2.21it/s]\n",
      "Sampling Landsat 8 SR-T1: 100%|██████████| 4/4 [00:01<00:00,  2.26it/s]\n",
      "Sampling Sentinel-2 L2A SR: 100%|██████████| 14/14 [00:17<00:00,  1.26s/it]\n"
     ]
    }
   ],
   "source": [
    "s_landsat7 = landsat7.sample(\n",
    "    region=field_boundary,\n",
    ")\n",
    "s_landsat8 = landsat8.sample(\n",
    "    region=field_boundary,\n",
    ")\n",
    "s_sentinel2 = sentinel2.sample(\n",
    "    region=field_boundary,\n",
    ")"
   ]
  },
  {
   "cell_type": "markdown",
   "id": "f7ca1013",
   "metadata": {},
   "source": [
    "## Collect Cloud Data\n",
    "\n",
    "The following script is used to collect data for the cloud-filter."
   ]
  },
  {
   "cell_type": "code",
   "execution_count": 34,
   "id": "4ae2ed60",
   "metadata": {},
   "outputs": [],
   "source": [
    "# cloud_data = {'cloudy':{}, 'clear':{}}  # TODO: comment for precaution"
   ]
  },
  {
   "cell_type": "code",
   "execution_count": 145,
   "id": "d436ae6b",
   "metadata": {},
   "outputs": [
    {
     "data": {
      "text/plain": [
       "(38, 395)"
      ]
     },
     "execution_count": 145,
     "metadata": {},
     "output_type": "execute_result"
    }
   ],
   "source": [
    "# Add as clouds\n",
    "dataset = 'sentinel2'\n",
    "date = '2020-05-26'\n",
    "\n",
    "if dataset == 'landsat7':\n",
    "    samples = s_landsat7\n",
    "elif dataset == 'landsat8':\n",
    "    samples = s_landsat8\n",
    "elif dataset == 'sentinel2':\n",
    "    samples = s_sentinel2\n",
    "else:\n",
    "    raise Exception\n",
    "assert date in samples\n",
    "cloud_data['cloudy'][f\"{FIELD_ID}-{date}-{dataset}\"] = samples[date]\n",
    "\n",
    "len(cloud_data['cloudy']),len(cloud_data['clear'])"
   ]
  },
  {
   "cell_type": "code",
   "execution_count": 146,
   "id": "f1960635",
   "metadata": {},
   "outputs": [
    {
     "data": {
      "text/plain": [
       "(38, 414)"
      ]
     },
     "execution_count": 146,
     "metadata": {},
     "output_type": "execute_result"
    }
   ],
   "source": [
    "# Add all the others as none-clouds\n",
    "for dataset in ('landsat7', 'landsat8', 'sentinel2'):\n",
    "    if dataset == 'landsat7':\n",
    "        samples = s_landsat7\n",
    "    elif dataset == 'landsat8':\n",
    "        samples = s_landsat8\n",
    "    elif dataset == 'sentinel2':\n",
    "        samples = s_sentinel2\n",
    "    for date, sample in samples.items():\n",
    "        if f\"{FIELD_ID}-{date}-{dataset}\" in cloud_data['cloudy']: continue\n",
    "        cloud_data['clear'][f\"{FIELD_ID}-{date}-{dataset}\"] = sample\n",
    "    \n",
    "len(cloud_data['cloudy']),len(cloud_data['clear'])"
   ]
  },
  {
   "cell_type": "code",
   "execution_count": 147,
   "id": "9b0c62a1",
   "metadata": {},
   "outputs": [],
   "source": [
    "# with open(Path.cwd() / 'data/cloud_data.json', 'w') as f:\n",
    "#     json.dump(cloud_data, f)"
   ]
  },
  {
   "cell_type": "code",
   "execution_count": null,
   "id": "7700be82",
   "metadata": {},
   "outputs": [],
   "source": []
  }
 ],
 "metadata": {
  "hide_input": false,
  "kernelspec": {
   "display_name": "Python 3",
   "language": "python",
   "name": "python3"
  },
  "language_info": {
   "codemirror_mode": {
    "name": "ipython",
    "version": 3
   },
   "file_extension": ".py",
   "mimetype": "text/x-python",
   "name": "python",
   "nbconvert_exporter": "python",
   "pygments_lexer": "ipython3",
   "version": "3.8.8"
  }
 },
 "nbformat": 4,
 "nbformat_minor": 5
}
