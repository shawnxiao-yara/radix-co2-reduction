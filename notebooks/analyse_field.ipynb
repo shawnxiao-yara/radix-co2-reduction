{
 "cells": [
  {
   "cell_type": "code",
   "execution_count": 1,
   "id": "0f8215c7",
   "metadata": {},
   "outputs": [],
   "source": [
    "%load_ext autoreload\n",
    "%autoreload 2"
   ]
  },
  {
   "cell_type": "code",
   "execution_count": 2,
   "id": "dc4b4ac9",
   "metadata": {},
   "outputs": [
    {
     "name": "stdout",
     "output_type": "stream",
     "text": [
      "/Users/rubenbroekx/Documents/Projects/radix-co2-reduction\n"
     ]
    }
   ],
   "source": [
    "%cd .."
   ]
  },
  {
   "cell_type": "markdown",
   "id": "c69a0c1e",
   "metadata": {},
   "source": [
    "# Analyse Field\n",
    "\n",
    "Analyse a single field using its coordinates and Google Earth Engine satellite imagery."
   ]
  },
  {
   "cell_type": "code",
   "execution_count": 3,
   "id": "b1c1d78c",
   "metadata": {},
   "outputs": [],
   "source": [
    "import re\n",
    "import ee\n",
    "import json\n",
    "import folium\n",
    "import pandas as pd\n",
    "import matplotlib.pyplot as plt\n",
    "import matplotlib.image as mpimg\n",
    "\n",
    "from datetime import datetime\n",
    "from pathlib import Path\n",
    "\n",
    "from src.radix_co2_reduction.earth_engine.visualisation import create_map, show_polygon, show_point\n",
    "from src.radix_co2_reduction.earth_engine.datasets import CroplandCollection, Landsat7Collection, Landsat8Collection, Sentinel2Collection\n",
    "from src.radix_co2_reduction.earth_engine.session import start\n",
    "from src.radix_co2_reduction.earth_engine.utils import create_bounding_box, create_polygon, download_as_png, to_polygon"
   ]
  },
  {
   "cell_type": "code",
   "execution_count": 4,
   "id": "2bbc4a91",
   "metadata": {},
   "outputs": [
    {
     "data": {
      "text/html": [
       "<p>To authorize access needed by Earth Engine, open the following\n",
       "        URL in a web browser and follow the instructions:</p>\n",
       "        <p><a href=https://accounts.google.com/o/oauth2/auth?client_id=517222506229-vsmmajv00ul0bs7p89v5m89qs8eb9359.apps.googleusercontent.com&scope=https%3A%2F%2Fwww.googleapis.com%2Fauth%2Fearthengine+https%3A%2F%2Fwww.googleapis.com%2Fauth%2Fdevstorage.full_control&redirect_uri=urn%3Aietf%3Awg%3Aoauth%3A2.0%3Aoob&response_type=code&code_challenge=m0cFP3RXeXqj2IWcOtn7PbspI44cTpEre1T4GXHndH4&code_challenge_method=S256>https://accounts.google.com/o/oauth2/auth?client_id=517222506229-vsmmajv00ul0bs7p89v5m89qs8eb9359.apps.googleusercontent.com&scope=https%3A%2F%2Fwww.googleapis.com%2Fauth%2Fearthengine+https%3A%2F%2Fwww.googleapis.com%2Fauth%2Fdevstorage.full_control&redirect_uri=urn%3Aietf%3Awg%3Aoauth%3A2.0%3Aoob&response_type=code&code_challenge=m0cFP3RXeXqj2IWcOtn7PbspI44cTpEre1T4GXHndH4&code_challenge_method=S256</a></p>\n",
       "        <p>The authorization workflow will generate a code, which you\n",
       "        should paste in the box below</p>\n",
       "        "
      ],
      "text/plain": [
       "<IPython.core.display.HTML object>"
      ]
     },
     "metadata": {},
     "output_type": "display_data"
    },
    {
     "name": "stdout",
     "output_type": "stream",
     "text": [
      "Enter verification code: 4/1AY0e-g5xxt7vFTciUjwLf5nh9RfWcIIIENFjlChNEK-Kivv7XcWyGp6xVrY\n",
      "\n",
      "Successfully saved authorization token.\n"
     ]
    }
   ],
   "source": [
    "# Start a Earth Engine session\n",
    "start()"
   ]
  },
  {
   "cell_type": "code",
   "execution_count": 5,
   "id": "f9a8b849",
   "metadata": {},
   "outputs": [],
   "source": [
    "# Load in Beck's data\n",
    "beck = pd.read_csv(Path.cwd() / 'data/beck_corn_data.csv', index_col=0)\n",
    "\n",
    "# Load in all field-boundaries\n",
    "with open(Path.cwd() / 'data/polygons.json', 'r') as f:\n",
    "    boundaries = json.load(f)"
   ]
  },
  {
   "cell_type": "code",
   "execution_count": 6,
   "id": "1b9c6e88",
   "metadata": {},
   "outputs": [],
   "source": [
    "def extract_harvest_date(d: str) -> str:\n",
    "    \"\"\"Parse out the harvest date.\"\"\"\n",
    "    d = re.sub(r'[\\n]+', ' ', d)[11:21]\n",
    "    try:\n",
    "        return datetime.strptime(d, '%m/%d/%Y').strftime('%Y-%m-%d')\n",
    "    except ValueError:\n",
    "        return None\n",
    "\n",
    "\n",
    "def extract_planting_date(d: str) -> str:\n",
    "    \"\"\"Parse out the harvest date.\"\"\"\n",
    "    d = re.sub(r'[\\n]+', ' ', d)[9:19]\n",
    "    try:\n",
    "        return datetime.strptime(d, '%m/%d/%Y').strftime('%Y-%m-%d')\n",
    "    except ValueError:\n",
    "        return None"
   ]
  },
  {
   "cell_type": "code",
   "execution_count": 138,
   "id": "869b1b2d",
   "metadata": {},
   "outputs": [
    {
     "name": "stdout",
     "output_type": "stream",
     "text": [
      " - Field from year: 2020\n",
      " - Tillage type: No-Till\n",
      " - Harvesting date: 2020-10-14\n",
      " - Planting date: 2020-05-07\n",
      " - Extracting data from 2019-11-01 until 2020-05-31\n"
     ]
    }
   ],
   "source": [
    "# Field to analyse\n",
    "FIELD_ID = 103207\n",
    "\n",
    "# Load in field information\n",
    "field = beck[beck['id'] == FIELD_ID].iloc[0]\n",
    "\n",
    "ID = int(field.id)\n",
    "YEAR = int(field.year)\n",
    "print(f\" - Field from year: {YEAR}\")\n",
    "TILL_TYPE = field.tillage[9:]\n",
    "print(f\" - Tillage type: {TILL_TYPE}\")\n",
    "harvest_date = extract_harvest_date(field.harvest_date)\n",
    "print(f\" - Harvesting date: {harvest_date}\")\n",
    "planting_date = extract_planting_date(field.planted_date)\n",
    "print(f\" - Planting date: {planting_date}\")\n",
    "startdate = f\"{YEAR - 1}-11-01\"\n",
    "enddate = f\"{YEAR}-05-31\"\n",
    "print(f\" - Extracting data from {startdate} until {enddate}\")"
   ]
  },
  {
   "cell_type": "code",
   "execution_count": 139,
   "id": "a563d5e9",
   "metadata": {},
   "outputs": [
    {
     "name": "stdout",
     "output_type": "stream",
     "text": [
      " - Number of data samples for Landsat 7 SR-T1: 5\n",
      " - Number of data samples for Landsat 8 SR-T1: 4\n",
      " - Number of data samples for Sentinel-2 L2A SR: 14\n"
     ]
    }
   ],
   "source": [
    "# Create bounding box around field and load in field's polygon\n",
    "bounding_box = to_polygon(create_bounding_box(\n",
    "        lng=field.lng,\n",
    "        lat=field.lat,\n",
    "        offset=1000,\n",
    "))\n",
    "coordinates = boundaries[str(ID)]\n",
    "field_boundary = create_polygon([coordinates])\n",
    "\n",
    "# Load in all datasets\n",
    "landsat7 = Landsat7Collection()\n",
    "landsat7.load_collection(\n",
    "        region=field_boundary,\n",
    "        startdate=startdate,\n",
    "        enddate=enddate,\n",
    "        filter_clouds=True,\n",
    "        return_masked=False,\n",
    "        filter_perc=.75,\n",
    "        relevant_bands=['B1', 'B2', 'B3', 'B4', 'B5', 'B7', 'pixel_qa'],\n",
    ")\n",
    "print(f\" - Number of data samples for {landsat7}: {landsat7.get_size()}\")\n",
    "\n",
    "# Landsat 8 data: https://developers.google.com/earth-engine/datasets/catalog/LANDSAT_LC08_C01_T1_SR\n",
    "landsat8 = Landsat8Collection()\n",
    "landsat8.load_collection(\n",
    "        region=field_boundary,\n",
    "        startdate=startdate,\n",
    "        enddate=enddate,\n",
    "        filter_clouds=True,\n",
    "        return_masked=False,\n",
    "        filter_perc=.25,\n",
    "        relevant_bands=['B2', 'B3', 'B4', 'B5', 'B6', 'B7', 'pixel_qa'],\n",
    ")\n",
    "print(f\" - Number of data samples for {landsat8}: {landsat8.get_size()}\")\n",
    "\n",
    "# # Sentinel-2 L2A data: https://developers.google.com/earth-engine/datasets/catalog/COPERNICUS_S2_SR\n",
    "sentinel2 = Sentinel2Collection()\n",
    "sentinel2.load_collection(\n",
    "        region=field_boundary,\n",
    "        startdate=startdate,\n",
    "        enddate=enddate,\n",
    "        filter_clouds=True,\n",
    "        return_masked=False,\n",
    "        filter_perc=.25,\n",
    "        relevant_bands=['B2', 'B3', 'B4', 'B8', 'B11', 'B12', 'QA60', 'SCL'],\n",
    ")\n",
    "print(f\" - Number of data samples for {sentinel2}: {sentinel2.get_size()}\")\n",
    "\n",
    "# USDA Cropland data: https://developers.google.com/earth-engine/datasets/catalog/USDA_NASS_CDL?hl=en\n",
    "cropland = CroplandCollection()\n",
    "cropland.load_collection(\n",
    "        region=field_boundary,\n",
    "        startdate=f'{YEAR}-01-01',\n",
    "        enddate=f'{YEAR}-12-31',\n",
    ")"
   ]
  },
  {
   "cell_type": "code",
   "execution_count": 140,
   "id": "9511b0be",
   "metadata": {},
   "outputs": [
    {
     "name": "stderr",
     "output_type": "stream",
     "text": [
      "Adding images: 100%|██████████| 5/5 [00:06<00:00,  1.30s/it]\n",
      "Adding images: 100%|██████████| 4/4 [00:04<00:00,  1.18s/it]\n",
      "Adding images: 100%|██████████| 14/14 [00:31<00:00,  2.26s/it]\n"
     ]
    },
    {
     "data": {
      "text/html": [
       "<div style=\"width:100%;\"><div style=\"position:relative;width:100%;height:0;padding-bottom:60%;\"><span style=\"color:#565656\">Make this Notebook Trusted to load map: File -> Trust Notebook</span><iframe src=\"about:blank\" style=\"position:absolute;width:100%;height:100%;left:0;top:0;border:none !important;\" data-html=%3C%21DOCTYPE%20html%3E%0A%3Chead%3E%20%20%20%20%0A%20%20%20%20%3Cmeta%20http-equiv%3D%22content-type%22%20content%3D%22text/html%3B%20charset%3DUTF-8%22%20/%3E%0A%20%20%20%20%0A%20%20%20%20%20%20%20%20%3Cscript%3E%0A%20%20%20%20%20%20%20%20%20%20%20%20L_NO_TOUCH%20%3D%20false%3B%0A%20%20%20%20%20%20%20%20%20%20%20%20L_DISABLE_3D%20%3D%20false%3B%0A%20%20%20%20%20%20%20%20%3C/script%3E%0A%20%20%20%20%0A%20%20%20%20%3Cstyle%3Ehtml%2C%20body%20%7Bwidth%3A%20100%25%3Bheight%3A%20100%25%3Bmargin%3A%200%3Bpadding%3A%200%3B%7D%3C/style%3E%0A%20%20%20%20%3Cstyle%3E%23map%20%7Bposition%3Aabsolute%3Btop%3A0%3Bbottom%3A0%3Bright%3A0%3Bleft%3A0%3B%7D%3C/style%3E%0A%20%20%20%20%3Cscript%20src%3D%22https%3A//cdn.jsdelivr.net/npm/leaflet%401.6.0/dist/leaflet.js%22%3E%3C/script%3E%0A%20%20%20%20%3Cscript%20src%3D%22https%3A//code.jquery.com/jquery-1.12.4.min.js%22%3E%3C/script%3E%0A%20%20%20%20%3Cscript%20src%3D%22https%3A//maxcdn.bootstrapcdn.com/bootstrap/3.2.0/js/bootstrap.min.js%22%3E%3C/script%3E%0A%20%20%20%20%3Cscript%20src%3D%22https%3A//cdnjs.cloudflare.com/ajax/libs/Leaflet.awesome-markers/2.0.2/leaflet.awesome-markers.js%22%3E%3C/script%3E%0A%20%20%20%20%3Clink%20rel%3D%22stylesheet%22%20href%3D%22https%3A//cdn.jsdelivr.net/npm/leaflet%401.6.0/dist/leaflet.css%22/%3E%0A%20%20%20%20%3Clink%20rel%3D%22stylesheet%22%20href%3D%22https%3A//maxcdn.bootstrapcdn.com/bootstrap/3.2.0/css/bootstrap.min.css%22/%3E%0A%20%20%20%20%3Clink%20rel%3D%22stylesheet%22%20href%3D%22https%3A//maxcdn.bootstrapcdn.com/bootstrap/3.2.0/css/bootstrap-theme.min.css%22/%3E%0A%20%20%20%20%3Clink%20rel%3D%22stylesheet%22%20href%3D%22https%3A//maxcdn.bootstrapcdn.com/font-awesome/4.6.3/css/font-awesome.min.css%22/%3E%0A%20%20%20%20%3Clink%20rel%3D%22stylesheet%22%20href%3D%22https%3A//cdnjs.cloudflare.com/ajax/libs/Leaflet.awesome-markers/2.0.2/leaflet.awesome-markers.css%22/%3E%0A%20%20%20%20%3Clink%20rel%3D%22stylesheet%22%20href%3D%22https%3A//cdn.jsdelivr.net/gh/python-visualization/folium/folium/templates/leaflet.awesome.rotate.min.css%22/%3E%0A%20%20%20%20%0A%20%20%20%20%20%20%20%20%20%20%20%20%3Cmeta%20name%3D%22viewport%22%20content%3D%22width%3Ddevice-width%2C%0A%20%20%20%20%20%20%20%20%20%20%20%20%20%20%20%20initial-scale%3D1.0%2C%20maximum-scale%3D1.0%2C%20user-scalable%3Dno%22%20/%3E%0A%20%20%20%20%20%20%20%20%20%20%20%20%3Cstyle%3E%0A%20%20%20%20%20%20%20%20%20%20%20%20%20%20%20%20%23map_463a0c0190074e9b9e534a55e7c7e21c%20%7B%0A%20%20%20%20%20%20%20%20%20%20%20%20%20%20%20%20%20%20%20%20position%3A%20relative%3B%0A%20%20%20%20%20%20%20%20%20%20%20%20%20%20%20%20%20%20%20%20width%3A%20100.0%25%3B%0A%20%20%20%20%20%20%20%20%20%20%20%20%20%20%20%20%20%20%20%20height%3A%20100.0%25%3B%0A%20%20%20%20%20%20%20%20%20%20%20%20%20%20%20%20%20%20%20%20left%3A%200.0%25%3B%0A%20%20%20%20%20%20%20%20%20%20%20%20%20%20%20%20%20%20%20%20top%3A%200.0%25%3B%0A%20%20%20%20%20%20%20%20%20%20%20%20%20%20%20%20%7D%0A%20%20%20%20%20%20%20%20%20%20%20%20%3C/style%3E%0A%20%20%20%20%20%20%20%20%0A%3C/head%3E%0A%3Cbody%3E%20%20%20%20%0A%20%20%20%20%0A%20%20%20%20%20%20%20%20%20%20%20%20%3Cdiv%20class%3D%22folium-map%22%20id%3D%22map_463a0c0190074e9b9e534a55e7c7e21c%22%20%3E%3C/div%3E%0A%20%20%20%20%20%20%20%20%0A%3C/body%3E%0A%3Cscript%3E%20%20%20%20%0A%20%20%20%20%0A%20%20%20%20%20%20%20%20%20%20%20%20var%20map_463a0c0190074e9b9e534a55e7c7e21c%20%3D%20L.map%28%0A%20%20%20%20%20%20%20%20%20%20%20%20%20%20%20%20%22map_463a0c0190074e9b9e534a55e7c7e21c%22%2C%0A%20%20%20%20%20%20%20%20%20%20%20%20%20%20%20%20%7B%0A%20%20%20%20%20%20%20%20%20%20%20%20%20%20%20%20%20%20%20%20center%3A%20%5B44.6886099828609%2C%20-92.9857063293457%5D%2C%0A%20%20%20%20%20%20%20%20%20%20%20%20%20%20%20%20%20%20%20%20crs%3A%20L.CRS.EPSG3857%2C%0A%20%20%20%20%20%20%20%20%20%20%20%20%20%20%20%20%20%20%20%20zoom%3A%2014%2C%0A%20%20%20%20%20%20%20%20%20%20%20%20%20%20%20%20%20%20%20%20zoomControl%3A%20true%2C%0A%20%20%20%20%20%20%20%20%20%20%20%20%20%20%20%20%20%20%20%20preferCanvas%3A%20false%2C%0A%20%20%20%20%20%20%20%20%20%20%20%20%20%20%20%20%7D%0A%20%20%20%20%20%20%20%20%20%20%20%20%29%3B%0A%0A%20%20%20%20%20%20%20%20%20%20%20%20%0A%0A%20%20%20%20%20%20%20%20%0A%20%20%20%20%0A%20%20%20%20%20%20%20%20%20%20%20%20var%20tile_layer_e3360f4c48b647f39171eb68f1ccc847%20%3D%20L.tileLayer%28%0A%20%20%20%20%20%20%20%20%20%20%20%20%20%20%20%20%22https%3A//%7Bs%7D.tile.openstreetmap.org/%7Bz%7D/%7Bx%7D/%7By%7D.png%22%2C%0A%20%20%20%20%20%20%20%20%20%20%20%20%20%20%20%20%7B%22attribution%22%3A%20%22Data%20by%20%5Cu0026copy%3B%20%5Cu003ca%20href%3D%5C%22http%3A//openstreetmap.org%5C%22%5Cu003eOpenStreetMap%5Cu003c/a%5Cu003e%2C%20under%20%5Cu003ca%20href%3D%5C%22http%3A//www.openstreetmap.org/copyright%5C%22%5Cu003eODbL%5Cu003c/a%5Cu003e.%22%2C%20%22detectRetina%22%3A%20false%2C%20%22maxNativeZoom%22%3A%2018%2C%20%22maxZoom%22%3A%2018%2C%20%22minZoom%22%3A%200%2C%20%22noWrap%22%3A%20false%2C%20%22opacity%22%3A%201%2C%20%22subdomains%22%3A%20%22abc%22%2C%20%22tms%22%3A%20false%7D%0A%20%20%20%20%20%20%20%20%20%20%20%20%29.addTo%28map_463a0c0190074e9b9e534a55e7c7e21c%29%3B%0A%20%20%20%20%20%20%20%20%0A%20%20%20%20%0A%20%20%20%20%20%20%20%20%20%20%20%20var%20tile_layer_a4a06d9ecce643d2b017f7386032dc1d%20%3D%20L.tileLayer%28%0A%20%20%20%20%20%20%20%20%20%20%20%20%20%20%20%20%22https%3A//earthengine.googleapis.com/v1alpha/projects/earthengine-legacy/maps/89ebe049504d643ea52ccc2e226f2a04-b65b07b9e16e41958833af1aaa73ebb5/tiles/%7Bz%7D/%7Bx%7D/%7By%7D%22%2C%0A%20%20%20%20%20%20%20%20%20%20%20%20%20%20%20%20%7B%22attribution%22%3A%20%22Google%20Earth%20Engine%22%2C%20%22detectRetina%22%3A%20false%2C%20%22maxNativeZoom%22%3A%2018%2C%20%22maxZoom%22%3A%2018%2C%20%22minZoom%22%3A%200%2C%20%22noWrap%22%3A%20false%2C%20%22opacity%22%3A%201%2C%20%22subdomains%22%3A%20%22abc%22%2C%20%22tms%22%3A%20false%7D%0A%20%20%20%20%20%20%20%20%20%20%20%20%29.addTo%28map_463a0c0190074e9b9e534a55e7c7e21c%29%3B%0A%20%20%20%20%20%20%20%20%0A%20%20%20%20%0A%20%20%20%20%20%20%20%20%20%20%20%20var%20tile_layer_4bbd9cde57f94a41acb0393dd501f6ba%20%3D%20L.tileLayer%28%0A%20%20%20%20%20%20%20%20%20%20%20%20%20%20%20%20%22https%3A//earthengine.googleapis.com/v1alpha/projects/earthengine-legacy/maps/522b96aa0cd5be652544c773e0876b34-a7af6085ecdced51dc6712969e26bc36/tiles/%7Bz%7D/%7Bx%7D/%7By%7D%22%2C%0A%20%20%20%20%20%20%20%20%20%20%20%20%20%20%20%20%7B%22attribution%22%3A%20%22Google%20Earth%20Engine%22%2C%20%22detectRetina%22%3A%20false%2C%20%22maxNativeZoom%22%3A%2018%2C%20%22maxZoom%22%3A%2018%2C%20%22minZoom%22%3A%200%2C%20%22noWrap%22%3A%20false%2C%20%22opacity%22%3A%201%2C%20%22subdomains%22%3A%20%22abc%22%2C%20%22tms%22%3A%20false%7D%0A%20%20%20%20%20%20%20%20%20%20%20%20%29.addTo%28map_463a0c0190074e9b9e534a55e7c7e21c%29%3B%0A%20%20%20%20%20%20%20%20%0A%20%20%20%20%0A%20%20%20%20%20%20%20%20%20%20%20%20var%20tile_layer_1af213fc8c744acba77073116b88628e%20%3D%20L.tileLayer%28%0A%20%20%20%20%20%20%20%20%20%20%20%20%20%20%20%20%22https%3A//earthengine.googleapis.com/v1alpha/projects/earthengine-legacy/maps/a95e8d9eb37628751479f5ce101b1b5f-a45bd1d00e1129ff40034430e0ae61d9/tiles/%7Bz%7D/%7Bx%7D/%7By%7D%22%2C%0A%20%20%20%20%20%20%20%20%20%20%20%20%20%20%20%20%7B%22attribution%22%3A%20%22Google%20Earth%20Engine%22%2C%20%22detectRetina%22%3A%20false%2C%20%22maxNativeZoom%22%3A%2018%2C%20%22maxZoom%22%3A%2018%2C%20%22minZoom%22%3A%200%2C%20%22noWrap%22%3A%20false%2C%20%22opacity%22%3A%201%2C%20%22subdomains%22%3A%20%22abc%22%2C%20%22tms%22%3A%20false%7D%0A%20%20%20%20%20%20%20%20%20%20%20%20%29.addTo%28map_463a0c0190074e9b9e534a55e7c7e21c%29%3B%0A%20%20%20%20%20%20%20%20%0A%20%20%20%20%0A%20%20%20%20%20%20%20%20%20%20%20%20var%20tile_layer_6889fe468748461e946fd9d8af69d4b8%20%3D%20L.tileLayer%28%0A%20%20%20%20%20%20%20%20%20%20%20%20%20%20%20%20%22https%3A//earthengine.googleapis.com/v1alpha/projects/earthengine-legacy/maps/a8253438d5a8c433ec6429b90524fcf1-431e91b48b767633b3f1264e71c7633e/tiles/%7Bz%7D/%7Bx%7D/%7By%7D%22%2C%0A%20%20%20%20%20%20%20%20%20%20%20%20%20%20%20%20%7B%22attribution%22%3A%20%22Google%20Earth%20Engine%22%2C%20%22detectRetina%22%3A%20false%2C%20%22maxNativeZoom%22%3A%2018%2C%20%22maxZoom%22%3A%2018%2C%20%22minZoom%22%3A%200%2C%20%22noWrap%22%3A%20false%2C%20%22opacity%22%3A%201%2C%20%22subdomains%22%3A%20%22abc%22%2C%20%22tms%22%3A%20false%7D%0A%20%20%20%20%20%20%20%20%20%20%20%20%29.addTo%28map_463a0c0190074e9b9e534a55e7c7e21c%29%3B%0A%20%20%20%20%20%20%20%20%0A%20%20%20%20%0A%20%20%20%20%20%20%20%20%20%20%20%20var%20tile_layer_d00a84d987394c56b4b3cd7783a70936%20%3D%20L.tileLayer%28%0A%20%20%20%20%20%20%20%20%20%20%20%20%20%20%20%20%22https%3A//earthengine.googleapis.com/v1alpha/projects/earthengine-legacy/maps/9fbdf281891b056d90cff22cd90753e1-be0efa1803900d5da963b154c22dda03/tiles/%7Bz%7D/%7Bx%7D/%7By%7D%22%2C%0A%20%20%20%20%20%20%20%20%20%20%20%20%20%20%20%20%7B%22attribution%22%3A%20%22Google%20Earth%20Engine%22%2C%20%22detectRetina%22%3A%20false%2C%20%22maxNativeZoom%22%3A%2018%2C%20%22maxZoom%22%3A%2018%2C%20%22minZoom%22%3A%200%2C%20%22noWrap%22%3A%20false%2C%20%22opacity%22%3A%201%2C%20%22subdomains%22%3A%20%22abc%22%2C%20%22tms%22%3A%20false%7D%0A%20%20%20%20%20%20%20%20%20%20%20%20%29.addTo%28map_463a0c0190074e9b9e534a55e7c7e21c%29%3B%0A%20%20%20%20%20%20%20%20%0A%20%20%20%20%0A%20%20%20%20%20%20%20%20%20%20%20%20var%20tile_layer_cd5c1ebb46bb4095beaf057f62d9602d%20%3D%20L.tileLayer%28%0A%20%20%20%20%20%20%20%20%20%20%20%20%20%20%20%20%22https%3A//earthengine.googleapis.com/v1alpha/projects/earthengine-legacy/maps/51902ab896e7dc290b54d149dc1563dc-223342f6f288f5de6bf3e992cd75af3d/tiles/%7Bz%7D/%7Bx%7D/%7By%7D%22%2C%0A%20%20%20%20%20%20%20%20%20%20%20%20%20%20%20%20%7B%22attribution%22%3A%20%22Google%20Earth%20Engine%22%2C%20%22detectRetina%22%3A%20false%2C%20%22maxNativeZoom%22%3A%2018%2C%20%22maxZoom%22%3A%2018%2C%20%22minZoom%22%3A%200%2C%20%22noWrap%22%3A%20false%2C%20%22opacity%22%3A%201%2C%20%22subdomains%22%3A%20%22abc%22%2C%20%22tms%22%3A%20false%7D%0A%20%20%20%20%20%20%20%20%20%20%20%20%29.addTo%28map_463a0c0190074e9b9e534a55e7c7e21c%29%3B%0A%20%20%20%20%20%20%20%20%0A%20%20%20%20%0A%20%20%20%20%20%20%20%20%20%20%20%20var%20tile_layer_d6fd869945d74598aca0948b704fdebf%20%3D%20L.tileLayer%28%0A%20%20%20%20%20%20%20%20%20%20%20%20%20%20%20%20%22https%3A//earthengine.googleapis.com/v1alpha/projects/earthengine-legacy/maps/e2893c10c4bd6d9e42ccf7692b7aa70c-6001112da05eefe4bd0e06af1ab91c0c/tiles/%7Bz%7D/%7Bx%7D/%7By%7D%22%2C%0A%20%20%20%20%20%20%20%20%20%20%20%20%20%20%20%20%7B%22attribution%22%3A%20%22Google%20Earth%20Engine%22%2C%20%22detectRetina%22%3A%20false%2C%20%22maxNativeZoom%22%3A%2018%2C%20%22maxZoom%22%3A%2018%2C%20%22minZoom%22%3A%200%2C%20%22noWrap%22%3A%20false%2C%20%22opacity%22%3A%201%2C%20%22subdomains%22%3A%20%22abc%22%2C%20%22tms%22%3A%20false%7D%0A%20%20%20%20%20%20%20%20%20%20%20%20%29.addTo%28map_463a0c0190074e9b9e534a55e7c7e21c%29%3B%0A%20%20%20%20%20%20%20%20%0A%20%20%20%20%0A%20%20%20%20%20%20%20%20%20%20%20%20var%20tile_layer_6a80b16036b94155857f4b4bbaff2b34%20%3D%20L.tileLayer%28%0A%20%20%20%20%20%20%20%20%20%20%20%20%20%20%20%20%22https%3A//earthengine.googleapis.com/v1alpha/projects/earthengine-legacy/maps/a8b6a27b6591c84d400bc554fa014573-3e4518f22d3fb3a4470ac955271302d1/tiles/%7Bz%7D/%7Bx%7D/%7By%7D%22%2C%0A%20%20%20%20%20%20%20%20%20%20%20%20%20%20%20%20%7B%22attribution%22%3A%20%22Google%20Earth%20Engine%22%2C%20%22detectRetina%22%3A%20false%2C%20%22maxNativeZoom%22%3A%2018%2C%20%22maxZoom%22%3A%2018%2C%20%22minZoom%22%3A%200%2C%20%22noWrap%22%3A%20false%2C%20%22opacity%22%3A%201%2C%20%22subdomains%22%3A%20%22abc%22%2C%20%22tms%22%3A%20false%7D%0A%20%20%20%20%20%20%20%20%20%20%20%20%29.addTo%28map_463a0c0190074e9b9e534a55e7c7e21c%29%3B%0A%20%20%20%20%20%20%20%20%0A%20%20%20%20%0A%20%20%20%20%20%20%20%20%20%20%20%20var%20tile_layer_936778b0aeb840e091b2da4ec3209160%20%3D%20L.tileLayer%28%0A%20%20%20%20%20%20%20%20%20%20%20%20%20%20%20%20%22https%3A//earthengine.googleapis.com/v1alpha/projects/earthengine-legacy/maps/f459c44172166ac0da5b0a41baaf1957-4bf3202ae426a99203a578f1d49a62cf/tiles/%7Bz%7D/%7Bx%7D/%7By%7D%22%2C%0A%20%20%20%20%20%20%20%20%20%20%20%20%20%20%20%20%7B%22attribution%22%3A%20%22Google%20Earth%20Engine%22%2C%20%22detectRetina%22%3A%20false%2C%20%22maxNativeZoom%22%3A%2018%2C%20%22maxZoom%22%3A%2018%2C%20%22minZoom%22%3A%200%2C%20%22noWrap%22%3A%20false%2C%20%22opacity%22%3A%201%2C%20%22subdomains%22%3A%20%22abc%22%2C%20%22tms%22%3A%20false%7D%0A%20%20%20%20%20%20%20%20%20%20%20%20%29.addTo%28map_463a0c0190074e9b9e534a55e7c7e21c%29%3B%0A%20%20%20%20%20%20%20%20%0A%20%20%20%20%0A%20%20%20%20%20%20%20%20%20%20%20%20var%20tile_layer_543f5d530ee7407e859e57f695453aed%20%3D%20L.tileLayer%28%0A%20%20%20%20%20%20%20%20%20%20%20%20%20%20%20%20%22https%3A//earthengine.googleapis.com/v1alpha/projects/earthengine-legacy/maps/f7fcc58424154c7c1436a6f0d00bb8bd-fd414c8006179d4940f91257cedf546d/tiles/%7Bz%7D/%7Bx%7D/%7By%7D%22%2C%0A%20%20%20%20%20%20%20%20%20%20%20%20%20%20%20%20%7B%22attribution%22%3A%20%22Google%20Earth%20Engine%22%2C%20%22detectRetina%22%3A%20false%2C%20%22maxNativeZoom%22%3A%2018%2C%20%22maxZoom%22%3A%2018%2C%20%22minZoom%22%3A%200%2C%20%22noWrap%22%3A%20false%2C%20%22opacity%22%3A%201%2C%20%22subdomains%22%3A%20%22abc%22%2C%20%22tms%22%3A%20false%7D%0A%20%20%20%20%20%20%20%20%20%20%20%20%29.addTo%28map_463a0c0190074e9b9e534a55e7c7e21c%29%3B%0A%20%20%20%20%20%20%20%20%0A%20%20%20%20%0A%20%20%20%20%20%20%20%20%20%20%20%20var%20tile_layer_d48f8f34167c4851af677288870ca5d0%20%3D%20L.tileLayer%28%0A%20%20%20%20%20%20%20%20%20%20%20%20%20%20%20%20%22https%3A//earthengine.googleapis.com/v1alpha/projects/earthengine-legacy/maps/5cfd3aeb2087b91a7f439dde421e0892-d093834c9eede6a090f1e7fd3f1d1bc7/tiles/%7Bz%7D/%7Bx%7D/%7By%7D%22%2C%0A%20%20%20%20%20%20%20%20%20%20%20%20%20%20%20%20%7B%22attribution%22%3A%20%22Google%20Earth%20Engine%22%2C%20%22detectRetina%22%3A%20false%2C%20%22maxNativeZoom%22%3A%2018%2C%20%22maxZoom%22%3A%2018%2C%20%22minZoom%22%3A%200%2C%20%22noWrap%22%3A%20false%2C%20%22opacity%22%3A%201%2C%20%22subdomains%22%3A%20%22abc%22%2C%20%22tms%22%3A%20false%7D%0A%20%20%20%20%20%20%20%20%20%20%20%20%29.addTo%28map_463a0c0190074e9b9e534a55e7c7e21c%29%3B%0A%20%20%20%20%20%20%20%20%0A%20%20%20%20%0A%20%20%20%20%20%20%20%20%20%20%20%20var%20tile_layer_f6873e9e6deb4eb68bc30a6e21bdbb8d%20%3D%20L.tileLayer%28%0A%20%20%20%20%20%20%20%20%20%20%20%20%20%20%20%20%22https%3A//earthengine.googleapis.com/v1alpha/projects/earthengine-legacy/maps/866110b2d2daaf52c7953f7b04f27e26-9990e1514654c4dcedc17bb641fbc477/tiles/%7Bz%7D/%7Bx%7D/%7By%7D%22%2C%0A%20%20%20%20%20%20%20%20%20%20%20%20%20%20%20%20%7B%22attribution%22%3A%20%22Google%20Earth%20Engine%22%2C%20%22detectRetina%22%3A%20false%2C%20%22maxNativeZoom%22%3A%2018%2C%20%22maxZoom%22%3A%2018%2C%20%22minZoom%22%3A%200%2C%20%22noWrap%22%3A%20false%2C%20%22opacity%22%3A%201%2C%20%22subdomains%22%3A%20%22abc%22%2C%20%22tms%22%3A%20false%7D%0A%20%20%20%20%20%20%20%20%20%20%20%20%29.addTo%28map_463a0c0190074e9b9e534a55e7c7e21c%29%3B%0A%20%20%20%20%20%20%20%20%0A%20%20%20%20%0A%20%20%20%20%20%20%20%20%20%20%20%20var%20tile_layer_e6cd80f9db674e43ac0d2f03de526d5f%20%3D%20L.tileLayer%28%0A%20%20%20%20%20%20%20%20%20%20%20%20%20%20%20%20%22https%3A//earthengine.googleapis.com/v1alpha/projects/earthengine-legacy/maps/d6a5ecfe73f7795c90bc7b45da518313-7f5bf0a6ceef1d429f3bc91ff11eec2d/tiles/%7Bz%7D/%7Bx%7D/%7By%7D%22%2C%0A%20%20%20%20%20%20%20%20%20%20%20%20%20%20%20%20%7B%22attribution%22%3A%20%22Google%20Earth%20Engine%22%2C%20%22detectRetina%22%3A%20false%2C%20%22maxNativeZoom%22%3A%2018%2C%20%22maxZoom%22%3A%2018%2C%20%22minZoom%22%3A%200%2C%20%22noWrap%22%3A%20false%2C%20%22opacity%22%3A%201%2C%20%22subdomains%22%3A%20%22abc%22%2C%20%22tms%22%3A%20false%7D%0A%20%20%20%20%20%20%20%20%20%20%20%20%29.addTo%28map_463a0c0190074e9b9e534a55e7c7e21c%29%3B%0A%20%20%20%20%20%20%20%20%0A%20%20%20%20%0A%20%20%20%20%20%20%20%20%20%20%20%20var%20tile_layer_55872bfe0b7547098a86e0d67388088c%20%3D%20L.tileLayer%28%0A%20%20%20%20%20%20%20%20%20%20%20%20%20%20%20%20%22https%3A//earthengine.googleapis.com/v1alpha/projects/earthengine-legacy/maps/e3fc002939a0bcd1eea6453ed3f9a079-39d283ab04f7aa6f4ada80a2e77c2561/tiles/%7Bz%7D/%7Bx%7D/%7By%7D%22%2C%0A%20%20%20%20%20%20%20%20%20%20%20%20%20%20%20%20%7B%22attribution%22%3A%20%22Google%20Earth%20Engine%22%2C%20%22detectRetina%22%3A%20false%2C%20%22maxNativeZoom%22%3A%2018%2C%20%22maxZoom%22%3A%2018%2C%20%22minZoom%22%3A%200%2C%20%22noWrap%22%3A%20false%2C%20%22opacity%22%3A%201%2C%20%22subdomains%22%3A%20%22abc%22%2C%20%22tms%22%3A%20false%7D%0A%20%20%20%20%20%20%20%20%20%20%20%20%29.addTo%28map_463a0c0190074e9b9e534a55e7c7e21c%29%3B%0A%20%20%20%20%20%20%20%20%0A%20%20%20%20%0A%20%20%20%20%20%20%20%20%20%20%20%20var%20tile_layer_fb36933e13924ea292f0e9a75dec20bb%20%3D%20L.tileLayer%28%0A%20%20%20%20%20%20%20%20%20%20%20%20%20%20%20%20%22https%3A//earthengine.googleapis.com/v1alpha/projects/earthengine-legacy/maps/1d77034b1ad3a0cc8c6f52304d36fad7-778e98811627b92b41e9c3eec0c1e2ba/tiles/%7Bz%7D/%7Bx%7D/%7By%7D%22%2C%0A%20%20%20%20%20%20%20%20%20%20%20%20%20%20%20%20%7B%22attribution%22%3A%20%22Google%20Earth%20Engine%22%2C%20%22detectRetina%22%3A%20false%2C%20%22maxNativeZoom%22%3A%2018%2C%20%22maxZoom%22%3A%2018%2C%20%22minZoom%22%3A%200%2C%20%22noWrap%22%3A%20false%2C%20%22opacity%22%3A%201%2C%20%22subdomains%22%3A%20%22abc%22%2C%20%22tms%22%3A%20false%7D%0A%20%20%20%20%20%20%20%20%20%20%20%20%29.addTo%28map_463a0c0190074e9b9e534a55e7c7e21c%29%3B%0A%20%20%20%20%20%20%20%20%0A%20%20%20%20%0A%20%20%20%20%20%20%20%20%20%20%20%20var%20tile_layer_37de8f0228d4442aa60c044fc69db51b%20%3D%20L.tileLayer%28%0A%20%20%20%20%20%20%20%20%20%20%20%20%20%20%20%20%22https%3A//earthengine.googleapis.com/v1alpha/projects/earthengine-legacy/maps/1a1634d4078ca03991370509de8c96ef-c717f7375c91900d534cc59dfd007411/tiles/%7Bz%7D/%7Bx%7D/%7By%7D%22%2C%0A%20%20%20%20%20%20%20%20%20%20%20%20%20%20%20%20%7B%22attribution%22%3A%20%22Google%20Earth%20Engine%22%2C%20%22detectRetina%22%3A%20false%2C%20%22maxNativeZoom%22%3A%2018%2C%20%22maxZoom%22%3A%2018%2C%20%22minZoom%22%3A%200%2C%20%22noWrap%22%3A%20false%2C%20%22opacity%22%3A%201%2C%20%22subdomains%22%3A%20%22abc%22%2C%20%22tms%22%3A%20false%7D%0A%20%20%20%20%20%20%20%20%20%20%20%20%29.addTo%28map_463a0c0190074e9b9e534a55e7c7e21c%29%3B%0A%20%20%20%20%20%20%20%20%0A%20%20%20%20%0A%20%20%20%20%20%20%20%20%20%20%20%20var%20tile_layer_b4d69023b11b4ec5bc353d168b630964%20%3D%20L.tileLayer%28%0A%20%20%20%20%20%20%20%20%20%20%20%20%20%20%20%20%22https%3A//earthengine.googleapis.com/v1alpha/projects/earthengine-legacy/maps/f9652ddb676172daf321f2b6fa774558-d31f7ad6cf543253275c4d655db6ce8d/tiles/%7Bz%7D/%7Bx%7D/%7By%7D%22%2C%0A%20%20%20%20%20%20%20%20%20%20%20%20%20%20%20%20%7B%22attribution%22%3A%20%22Google%20Earth%20Engine%22%2C%20%22detectRetina%22%3A%20false%2C%20%22maxNativeZoom%22%3A%2018%2C%20%22maxZoom%22%3A%2018%2C%20%22minZoom%22%3A%200%2C%20%22noWrap%22%3A%20false%2C%20%22opacity%22%3A%201%2C%20%22subdomains%22%3A%20%22abc%22%2C%20%22tms%22%3A%20false%7D%0A%20%20%20%20%20%20%20%20%20%20%20%20%29.addTo%28map_463a0c0190074e9b9e534a55e7c7e21c%29%3B%0A%20%20%20%20%20%20%20%20%0A%20%20%20%20%0A%20%20%20%20%20%20%20%20%20%20%20%20var%20tile_layer_175a189638e84112ae6f7d590b90a40b%20%3D%20L.tileLayer%28%0A%20%20%20%20%20%20%20%20%20%20%20%20%20%20%20%20%22https%3A//earthengine.googleapis.com/v1alpha/projects/earthengine-legacy/maps/81233860adfc4a1ad8f55638b92874ce-7d07333b4a4aa6ca992300c19bd78332/tiles/%7Bz%7D/%7Bx%7D/%7By%7D%22%2C%0A%20%20%20%20%20%20%20%20%20%20%20%20%20%20%20%20%7B%22attribution%22%3A%20%22Google%20Earth%20Engine%22%2C%20%22detectRetina%22%3A%20false%2C%20%22maxNativeZoom%22%3A%2018%2C%20%22maxZoom%22%3A%2018%2C%20%22minZoom%22%3A%200%2C%20%22noWrap%22%3A%20false%2C%20%22opacity%22%3A%201%2C%20%22subdomains%22%3A%20%22abc%22%2C%20%22tms%22%3A%20false%7D%0A%20%20%20%20%20%20%20%20%20%20%20%20%29.addTo%28map_463a0c0190074e9b9e534a55e7c7e21c%29%3B%0A%20%20%20%20%20%20%20%20%0A%20%20%20%20%0A%20%20%20%20%20%20%20%20%20%20%20%20var%20tile_layer_7d1666de37ea4c7da68e201c3eaa3fbf%20%3D%20L.tileLayer%28%0A%20%20%20%20%20%20%20%20%20%20%20%20%20%20%20%20%22https%3A//earthengine.googleapis.com/v1alpha/projects/earthengine-legacy/maps/10dd376a1b3b1b2e9c2f82cdb2597b72-038201cd18ca5b7bd50653a67a835ff0/tiles/%7Bz%7D/%7Bx%7D/%7By%7D%22%2C%0A%20%20%20%20%20%20%20%20%20%20%20%20%20%20%20%20%7B%22attribution%22%3A%20%22Google%20Earth%20Engine%22%2C%20%22detectRetina%22%3A%20false%2C%20%22maxNativeZoom%22%3A%2018%2C%20%22maxZoom%22%3A%2018%2C%20%22minZoom%22%3A%200%2C%20%22noWrap%22%3A%20false%2C%20%22opacity%22%3A%201%2C%20%22subdomains%22%3A%20%22abc%22%2C%20%22tms%22%3A%20false%7D%0A%20%20%20%20%20%20%20%20%20%20%20%20%29.addTo%28map_463a0c0190074e9b9e534a55e7c7e21c%29%3B%0A%20%20%20%20%20%20%20%20%0A%20%20%20%20%0A%20%20%20%20%20%20%20%20%20%20%20%20var%20tile_layer_619afbf2cea34b9390371041051df795%20%3D%20L.tileLayer%28%0A%20%20%20%20%20%20%20%20%20%20%20%20%20%20%20%20%22https%3A//earthengine.googleapis.com/v1alpha/projects/earthengine-legacy/maps/a1967a21ab14f5705cf07ee9a163bb60-9a0b6fb642be521b73bdc8b7bca92058/tiles/%7Bz%7D/%7Bx%7D/%7By%7D%22%2C%0A%20%20%20%20%20%20%20%20%20%20%20%20%20%20%20%20%7B%22attribution%22%3A%20%22Google%20Earth%20Engine%22%2C%20%22detectRetina%22%3A%20false%2C%20%22maxNativeZoom%22%3A%2018%2C%20%22maxZoom%22%3A%2018%2C%20%22minZoom%22%3A%200%2C%20%22noWrap%22%3A%20false%2C%20%22opacity%22%3A%201%2C%20%22subdomains%22%3A%20%22abc%22%2C%20%22tms%22%3A%20false%7D%0A%20%20%20%20%20%20%20%20%20%20%20%20%29.addTo%28map_463a0c0190074e9b9e534a55e7c7e21c%29%3B%0A%20%20%20%20%20%20%20%20%0A%20%20%20%20%0A%20%20%20%20%20%20%20%20%20%20%20%20var%20tile_layer_80a7d252cd6040b7969bad5522c310d5%20%3D%20L.tileLayer%28%0A%20%20%20%20%20%20%20%20%20%20%20%20%20%20%20%20%22https%3A//earthengine.googleapis.com/v1alpha/projects/earthengine-legacy/maps/95e670e459261c5ebe34db3ded2f1d4e-54207d7258e527fad3cb66a2c84fea46/tiles/%7Bz%7D/%7Bx%7D/%7By%7D%22%2C%0A%20%20%20%20%20%20%20%20%20%20%20%20%20%20%20%20%7B%22attribution%22%3A%20%22Google%20Earth%20Engine%22%2C%20%22detectRetina%22%3A%20false%2C%20%22maxNativeZoom%22%3A%2018%2C%20%22maxZoom%22%3A%2018%2C%20%22minZoom%22%3A%200%2C%20%22noWrap%22%3A%20false%2C%20%22opacity%22%3A%201%2C%20%22subdomains%22%3A%20%22abc%22%2C%20%22tms%22%3A%20false%7D%0A%20%20%20%20%20%20%20%20%20%20%20%20%29.addTo%28map_463a0c0190074e9b9e534a55e7c7e21c%29%3B%0A%20%20%20%20%20%20%20%20%0A%20%20%20%20%0A%20%20%20%20%20%20%20%20%20%20%20%20var%20tile_layer_4d864364ceaa4de3be2d94b3992be51b%20%3D%20L.tileLayer%28%0A%20%20%20%20%20%20%20%20%20%20%20%20%20%20%20%20%22https%3A//earthengine.googleapis.com/v1alpha/projects/earthengine-legacy/maps/be96988c12f6593e0519b30685855a47-f6830cfd6f3a876f41deabbf0d91fde9/tiles/%7Bz%7D/%7Bx%7D/%7By%7D%22%2C%0A%20%20%20%20%20%20%20%20%20%20%20%20%20%20%20%20%7B%22attribution%22%3A%20%22Google%20Earth%20Engine%22%2C%20%22detectRetina%22%3A%20false%2C%20%22maxNativeZoom%22%3A%2018%2C%20%22maxZoom%22%3A%2018%2C%20%22minZoom%22%3A%200%2C%20%22noWrap%22%3A%20false%2C%20%22opacity%22%3A%201%2C%20%22subdomains%22%3A%20%22abc%22%2C%20%22tms%22%3A%20false%7D%0A%20%20%20%20%20%20%20%20%20%20%20%20%29.addTo%28map_463a0c0190074e9b9e534a55e7c7e21c%29%3B%0A%20%20%20%20%20%20%20%20%0A%20%20%20%20%0A%20%20%20%20%20%20%20%20%20%20%20%20var%20tile_layer_9918fbcd9e7346ff90af158938ba6c67%20%3D%20L.tileLayer%28%0A%20%20%20%20%20%20%20%20%20%20%20%20%20%20%20%20%22https%3A//earthengine.googleapis.com/v1alpha/projects/earthengine-legacy/maps/f2819a4ae7157d7ece46e152dd85e1fe-1b8f5501ad9c2aef6bfa46a57c272864/tiles/%7Bz%7D/%7Bx%7D/%7By%7D%22%2C%0A%20%20%20%20%20%20%20%20%20%20%20%20%20%20%20%20%7B%22attribution%22%3A%20%22Google%20Earth%20Engine%22%2C%20%22detectRetina%22%3A%20false%2C%20%22maxNativeZoom%22%3A%2018%2C%20%22maxZoom%22%3A%2018%2C%20%22minZoom%22%3A%200%2C%20%22noWrap%22%3A%20false%2C%20%22opacity%22%3A%201%2C%20%22subdomains%22%3A%20%22abc%22%2C%20%22tms%22%3A%20false%7D%0A%20%20%20%20%20%20%20%20%20%20%20%20%29.addTo%28map_463a0c0190074e9b9e534a55e7c7e21c%29%3B%0A%20%20%20%20%20%20%20%20%0A%20%20%20%20%0A%20%20%20%20%20%20%20%20%20%20%20%20var%20tile_layer_de71677bbe114e0998c72496c91e3f9d%20%3D%20L.tileLayer%28%0A%20%20%20%20%20%20%20%20%20%20%20%20%20%20%20%20%22https%3A//earthengine.googleapis.com/v1alpha/projects/earthengine-legacy/maps/234b07c1f55c135657d58362b3135e09-9cfc3f3fb8122510b3609db99e0c2635/tiles/%7Bz%7D/%7Bx%7D/%7By%7D%22%2C%0A%20%20%20%20%20%20%20%20%20%20%20%20%20%20%20%20%7B%22attribution%22%3A%20%22Google%20Earth%20Engine%22%2C%20%22detectRetina%22%3A%20false%2C%20%22maxNativeZoom%22%3A%2018%2C%20%22maxZoom%22%3A%2018%2C%20%22minZoom%22%3A%200%2C%20%22noWrap%22%3A%20false%2C%20%22opacity%22%3A%201%2C%20%22subdomains%22%3A%20%22abc%22%2C%20%22tms%22%3A%20false%7D%0A%20%20%20%20%20%20%20%20%20%20%20%20%29.addTo%28map_463a0c0190074e9b9e534a55e7c7e21c%29%3B%0A%20%20%20%20%20%20%20%20%0A%20%20%20%20%0A%20%20%20%20%20%20%20%20function%20geo_json_a05cd8cab0384f339ac159db55883025_styler%28feature%29%20%7B%0A%20%20%20%20%20%20%20%20%20%20%20%20switch%28feature.id%29%20%7B%0A%20%20%20%20%20%20%20%20%20%20%20%20%20%20%20%20default%3A%0A%20%20%20%20%20%20%20%20%20%20%20%20%20%20%20%20%20%20%20%20return%20%7B%22color%22%3A%20%22%23ff0000%22%7D%3B%0A%20%20%20%20%20%20%20%20%20%20%20%20%7D%0A%20%20%20%20%20%20%20%20%7D%0A%0A%20%20%20%20%20%20%20%20function%20geo_json_a05cd8cab0384f339ac159db55883025_onEachFeature%28feature%2C%20layer%29%20%7B%0A%20%20%20%20%20%20%20%20%20%20%20%20layer.on%28%7B%0A%20%20%20%20%20%20%20%20%20%20%20%20%7D%29%3B%0A%20%20%20%20%20%20%20%20%7D%3B%0A%20%20%20%20%20%20%20%20var%20geo_json_a05cd8cab0384f339ac159db55883025%20%3D%20L.geoJson%28null%2C%20%7B%0A%20%20%20%20%20%20%20%20%20%20%20%20%20%20%20%20onEachFeature%3A%20geo_json_a05cd8cab0384f339ac159db55883025_onEachFeature%2C%0A%20%20%20%20%20%20%20%20%20%20%20%20%0A%20%20%20%20%20%20%20%20%20%20%20%20%20%20%20%20style%3A%20geo_json_a05cd8cab0384f339ac159db55883025_styler%2C%0A%20%20%20%20%20%20%20%20%7D%29%3B%0A%0A%20%20%20%20%20%20%20%20function%20geo_json_a05cd8cab0384f339ac159db55883025_add%20%28data%29%20%7B%0A%20%20%20%20%20%20%20%20%20%20%20%20geo_json_a05cd8cab0384f339ac159db55883025%0A%20%20%20%20%20%20%20%20%20%20%20%20%20%20%20%20.addData%28data%29%0A%20%20%20%20%20%20%20%20%20%20%20%20%20%20%20%20.addTo%28map_463a0c0190074e9b9e534a55e7c7e21c%29%3B%0A%20%20%20%20%20%20%20%20%7D%0A%20%20%20%20%20%20%20%20%20%20%20%20geo_json_a05cd8cab0384f339ac159db55883025_add%28%7B%22features%22%3A%20%5B%7B%22geometry%22%3A%20%7B%22coordinates%22%3A%20%5B-92.9857063293457%2C%2044.6886099828609%5D%2C%20%22type%22%3A%20%22Point%22%7D%2C%20%22id%22%3A%20%220%22%2C%20%22type%22%3A%20%22Feature%22%7D%5D%2C%20%22type%22%3A%20%22FeatureCollection%22%7D%29%3B%0A%0A%20%20%20%20%20%20%20%20%0A%20%20%20%20%0A%20%20%20%20%20%20%20%20function%20geo_json_857ce5748af7410ebe55fd4add709635_styler%28feature%29%20%7B%0A%20%20%20%20%20%20%20%20%20%20%20%20switch%28feature.id%29%20%7B%0A%20%20%20%20%20%20%20%20%20%20%20%20%20%20%20%20default%3A%0A%20%20%20%20%20%20%20%20%20%20%20%20%20%20%20%20%20%20%20%20return%20%7B%22color%22%3A%20%22%23ff0000%22%2C%20%22fillOpacity%22%3A%200%7D%3B%0A%20%20%20%20%20%20%20%20%20%20%20%20%7D%0A%20%20%20%20%20%20%20%20%7D%0A%0A%20%20%20%20%20%20%20%20function%20geo_json_857ce5748af7410ebe55fd4add709635_onEachFeature%28feature%2C%20layer%29%20%7B%0A%20%20%20%20%20%20%20%20%20%20%20%20layer.on%28%7B%0A%20%20%20%20%20%20%20%20%20%20%20%20%7D%29%3B%0A%20%20%20%20%20%20%20%20%7D%3B%0A%20%20%20%20%20%20%20%20var%20geo_json_857ce5748af7410ebe55fd4add709635%20%3D%20L.geoJson%28null%2C%20%7B%0A%20%20%20%20%20%20%20%20%20%20%20%20%20%20%20%20onEachFeature%3A%20geo_json_857ce5748af7410ebe55fd4add709635_onEachFeature%2C%0A%20%20%20%20%20%20%20%20%20%20%20%20%0A%20%20%20%20%20%20%20%20%20%20%20%20%20%20%20%20style%3A%20geo_json_857ce5748af7410ebe55fd4add709635_styler%2C%0A%20%20%20%20%20%20%20%20%7D%29%3B%0A%0A%20%20%20%20%20%20%20%20function%20geo_json_857ce5748af7410ebe55fd4add709635_add%20%28data%29%20%7B%0A%20%20%20%20%20%20%20%20%20%20%20%20geo_json_857ce5748af7410ebe55fd4add709635%0A%20%20%20%20%20%20%20%20%20%20%20%20%20%20%20%20.addData%28data%29%0A%20%20%20%20%20%20%20%20%20%20%20%20%20%20%20%20.addTo%28map_463a0c0190074e9b9e534a55e7c7e21c%29%3B%0A%20%20%20%20%20%20%20%20%7D%0A%20%20%20%20%20%20%20%20%20%20%20%20geo_json_857ce5748af7410ebe55fd4add709635_add%28%7B%22features%22%3A%20%5B%7B%22geometry%22%3A%20%7B%22coordinates%22%3A%20%5B%5B%5B-92.98790492578902%2C%2044.69011915253822%5D%2C%20%5B-92.987955468236%2C%2044.69010118623254%5D%2C%20%5B-92.98810709557691%2C%2044.69010118623254%5D%2C%20%5B-92.98815763802388%2C%2044.69008321992686%5D%2C%20%5B-92.98818290924737%2C%2044.69008321992686%5D%2C%20%5B-92.98818290924737%2C%2044.69002932100981%5D%2C%20%5B-92.98820818047085%2C%2044.68999338839845%5D%2C%20%5B-92.98820818047085%2C%2044.68832252196999%5D%2C%20%5B-92.98818290924737%2C%2044.68828658935862%5D%2C%20%5B-92.98818290924737%2C%2044.68825065674726%5D%2C%20%5B-92.9881323668004%2C%2044.68823269044157%5D%2C%20%5B-92.98777856967159%2C%2044.68823269044157%5D%2C%20%5B-92.98772802722462%2C%2044.68821472413589%5D%2C%20%5B-92.98762694233066%2C%2044.68821472413589%5D%2C%20%5B-92.9875763998837%2C%2044.68823269044157%5D%2C%20%5B-92.98656555094423%2C%2044.68823269044157%5D%2C%20%5B-92.98651500849726%2C%2044.68821472413589%5D%2C%20%5B-92.98224417172807%2C%2044.68821472413589%5D%2C%20%5B-92.9821936292811%2C%2044.68823269044157%5D%2C%20%5B-92.9820167307167%2C%2044.68823269044157%5D%2C%20%5B-92.98194091704623%2C%2044.688268623052934%5D%2C%20%5B-92.98189037459926%2C%2044.6883045556643%5D%2C%20%5B-92.98186510337577%2C%2044.68834048827567%5D%2C%20%5B-92.98186510337577%2C%2044.68844828610976%5D%2C%20%5B-92.98189037459926%2C%2044.68848421872113%5D%2C%20%5B-92.98194091704623%2C%2044.688538117638174%5D%2C%20%5B-92.9819914594932%2C%2044.688574050249535%5D%2C%20%5B-92.98204200194017%2C%2044.68862794916659%5D%2C%20%5B-92.98209254438714%2C%2044.68868184808363%5D%2C%20%5B-92.98214308683413%2C%2044.68873574700068%5D%2C%20%5B-92.9821936292811%2C%2044.68875371330636%5D%2C%20%5B-92.98226944295155%2C%2044.68878964591773%5D%2C%20%5B-92.98234525662201%2C%2044.68882557852909%5D%2C%20%5B-92.98239579906898%2C%2044.68886151114046%5D%2C%20%5B-92.98247161273945%2C%2044.68889744375182%5D%2C%20%5B-92.98254742640991%2C%2044.68893337636319%5D%2C%20%5B-92.98257269763339%2C%2044.68896930897455%5D%2C%20%5B-92.98259796885688%2C%2044.68900524158592%5D%2C%20%5B-92.98259796885688%2C%2044.68904117419728%5D%2C%20%5B-92.98262324008036%2C%2044.68907710680865%5D%2C%20%5B-92.98264851130385%2C%2044.68911303942001%5D%2C%20%5B-92.98262324008036%2C%2044.689148972031376%5D%2C%20%5B-92.98259796885688%2C%2044.68918490464274%5D%2C%20%5B-92.98259796885688%2C%2044.68927473617115%5D%2C%20%5B-92.98254742640991%2C%2044.6893286350882%5D%2C%20%5B-92.98254742640991%2C%2044.68947236553366%5D%2C%20%5B-92.98254742640991%2C%2044.689598129673435%5D%2C%20%5B-92.98252215518642%2C%2044.6896340622848%5D%2C%20%5B-92.98252215518642%2C%2044.68986762425867%5D%2C%20%5B-92.98249688396294%2C%2044.689903556870036%5D%2C%20%5B-92.98249688396294%2C%2044.68995745578708%5D%2C%20%5B-92.98254742640991%2C%2044.69001135470413%5D%2C%20%5B-92.98259796885688%2C%2044.690047287315494%5D%2C%20%5B-92.98264851130385%2C%2044.690047287315494%5D%2C%20%5B-92.98269905375082%2C%2044.69006525362118%5D%2C%20%5B-92.98280013864476%2C%2044.69006525362118%5D%2C%20%5B-92.98285068109175%2C%2044.69008321992686%5D%2C%20%5B-92.98317920699706%2C%2044.69008321992686%5D%2C%20%5B-92.98322974944404%2C%2044.69010118623254%5D%2C%20%5B-92.98568105812221%2C%2044.69010118623254%5D%2C%20%5B-92.9857316005692%2C%2044.69011915253822%5D%2C%20%5B-92.98787965456553%2C%2044.69011915253822%5D%2C%20%5B-92.98790492578902%2C%2044.69011915253822%5D%5D%5D%2C%20%22type%22%3A%20%22Polygon%22%7D%2C%20%22id%22%3A%20%220%22%2C%20%22type%22%3A%20%22Feature%22%7D%5D%2C%20%22type%22%3A%20%22FeatureCollection%22%7D%29%3B%0A%0A%20%20%20%20%20%20%20%20%0A%20%20%20%20%0A%20%20%20%20%20%20%20%20%20%20%20%20var%20layer_control_39500e193330441f95378245e8baa15e%20%3D%20%7B%0A%20%20%20%20%20%20%20%20%20%20%20%20%20%20%20%20base_layers%20%3A%20%7B%0A%20%20%20%20%20%20%20%20%20%20%20%20%20%20%20%20%20%20%20%20%22openstreetmap%22%20%3A%20tile_layer_e3360f4c48b647f39171eb68f1ccc847%2C%0A%20%20%20%20%20%20%20%20%20%20%20%20%20%20%20%20%7D%2C%0A%20%20%20%20%20%20%20%20%20%20%20%20%20%20%20%20overlays%20%3A%20%20%7B%0A%20%20%20%20%20%20%20%20%20%20%20%20%20%20%20%20%20%20%20%20%22Landsat%207%20SR-T1%20%282019-11-05%20-%20idx%3A%200%29%22%20%3A%20tile_layer_a4a06d9ecce643d2b017f7386032dc1d%2C%0A%20%20%20%20%20%20%20%20%20%20%20%20%20%20%20%20%20%20%20%20%22Landsat%207%20SR-T1%20%282020-05-15%20-%20idx%3A%201%29%22%20%3A%20tile_layer_4bbd9cde57f94a41acb0393dd501f6ba%2C%0A%20%20%20%20%20%20%20%20%20%20%20%20%20%20%20%20%20%20%20%20%22Landsat%207%20SR-T1%20%282019-11-12%20-%20idx%3A%202%29%22%20%3A%20tile_layer_1af213fc8c744acba77073116b88628e%2C%0A%20%20%20%20%20%20%20%20%20%20%20%20%20%20%20%20%20%20%20%20%22Landsat%207%20SR-T1%20%282020-04-20%20-%20idx%3A%203%29%22%20%3A%20tile_layer_6889fe468748461e946fd9d8af69d4b8%2C%0A%20%20%20%20%20%20%20%20%20%20%20%20%20%20%20%20%20%20%20%20%22Landsat%207%20SR-T1%20%282020-05-06%20-%20idx%3A%204%29%22%20%3A%20tile_layer_d00a84d987394c56b4b3cd7783a70936%2C%0A%20%20%20%20%20%20%20%20%20%20%20%20%20%20%20%20%20%20%20%20%22Landsat%208%20SR-T1%20%282020-03-20%20-%20idx%3A%200%29%22%20%3A%20tile_layer_cd5c1ebb46bb4095beaf057f62d9602d%2C%0A%20%20%20%20%20%20%20%20%20%20%20%20%20%20%20%20%20%20%20%20%22Landsat%208%20SR-T1%20%282020-04-05%20-%20idx%3A%201%29%22%20%3A%20tile_layer_d6fd869945d74598aca0948b704fdebf%2C%0A%20%20%20%20%20%20%20%20%20%20%20%20%20%20%20%20%20%20%20%20%22Landsat%208%20SR-T1%20%282020-04-21%20-%20idx%3A%202%29%22%20%3A%20tile_layer_6a80b16036b94155857f4b4bbaff2b34%2C%0A%20%20%20%20%20%20%20%20%20%20%20%20%20%20%20%20%20%20%20%20%22Landsat%208%20SR-T1%20%282020-05-30%20-%20idx%3A%203%29%22%20%3A%20tile_layer_936778b0aeb840e091b2da4ec3209160%2C%0A%20%20%20%20%20%20%20%20%20%20%20%20%20%20%20%20%20%20%20%20%22Sentinel-2%20L2A%20SR%20%282019-11-23%20-%20idx%3A%200%29%22%20%3A%20tile_layer_543f5d530ee7407e859e57f695453aed%2C%0A%20%20%20%20%20%20%20%20%20%20%20%20%20%20%20%20%20%20%20%20%22Sentinel-2%20L2A%20SR%20%282020-03-15%20-%20idx%3A%201%29%22%20%3A%20tile_layer_d48f8f34167c4851af677288870ca5d0%2C%0A%20%20%20%20%20%20%20%20%20%20%20%20%20%20%20%20%20%20%20%20%22Sentinel-2%20L2A%20SR%20%282020-03-17%20-%20idx%3A%202%29%22%20%3A%20tile_layer_f6873e9e6deb4eb68bc30a6e21bdbb8d%2C%0A%20%20%20%20%20%20%20%20%20%20%20%20%20%20%20%20%20%20%20%20%22Sentinel-2%20L2A%20SR%20%282020-03-20%20-%20idx%3A%203%29%22%20%3A%20tile_layer_e6cd80f9db674e43ac0d2f03de526d5f%2C%0A%20%20%20%20%20%20%20%20%20%20%20%20%20%20%20%20%20%20%20%20%22Sentinel-2%20L2A%20SR%20%282020-03-30%20-%20idx%3A%204%29%22%20%3A%20tile_layer_55872bfe0b7547098a86e0d67388088c%2C%0A%20%20%20%20%20%20%20%20%20%20%20%20%20%20%20%20%20%20%20%20%22Sentinel-2%20L2A%20SR%20%282020-04-01%20-%20idx%3A%205%29%22%20%3A%20tile_layer_fb36933e13924ea292f0e9a75dec20bb%2C%0A%20%20%20%20%20%20%20%20%20%20%20%20%20%20%20%20%20%20%20%20%22Sentinel-2%20L2A%20SR%20%282020-04-19%20-%20idx%3A%206%29%22%20%3A%20tile_layer_37de8f0228d4442aa60c044fc69db51b%2C%0A%20%20%20%20%20%20%20%20%20%20%20%20%20%20%20%20%20%20%20%20%22Sentinel-2%20L2A%20SR%20%282020-04-21%20-%20idx%3A%207%29%22%20%3A%20tile_layer_b4d69023b11b4ec5bc353d168b630964%2C%0A%20%20%20%20%20%20%20%20%20%20%20%20%20%20%20%20%20%20%20%20%22Sentinel-2%20L2A%20SR%20%282020-04-24%20-%20idx%3A%208%29%22%20%3A%20tile_layer_175a189638e84112ae6f7d590b90a40b%2C%0A%20%20%20%20%20%20%20%20%20%20%20%20%20%20%20%20%20%20%20%20%22Sentinel-2%20L2A%20SR%20%282020-04-26%20-%20idx%3A%209%29%22%20%3A%20tile_layer_7d1666de37ea4c7da68e201c3eaa3fbf%2C%0A%20%20%20%20%20%20%20%20%20%20%20%20%20%20%20%20%20%20%20%20%22Sentinel-2%20L2A%20SR%20%282020-05-09%20-%20idx%3A%2010%29%22%20%3A%20tile_layer_619afbf2cea34b9390371041051df795%2C%0A%20%20%20%20%20%20%20%20%20%20%20%20%20%20%20%20%20%20%20%20%22Sentinel-2%20L2A%20SR%20%282020-05-19%20-%20idx%3A%2011%29%22%20%3A%20tile_layer_80a7d252cd6040b7969bad5522c310d5%2C%0A%20%20%20%20%20%20%20%20%20%20%20%20%20%20%20%20%20%20%20%20%22Sentinel-2%20L2A%20SR%20%282020-05-24%20-%20idx%3A%2012%29%22%20%3A%20tile_layer_4d864364ceaa4de3be2d94b3992be51b%2C%0A%20%20%20%20%20%20%20%20%20%20%20%20%20%20%20%20%20%20%20%20%22Sentinel-2%20L2A%20SR%20%282020-05-26%20-%20idx%3A%2013%29%22%20%3A%20tile_layer_9918fbcd9e7346ff90af158938ba6c67%2C%0A%20%20%20%20%20%20%20%20%20%20%20%20%20%20%20%20%20%20%20%20%22Cropland%20USDA%20NASS%20%282020-01-01%29%22%20%3A%20tile_layer_de71677bbe114e0998c72496c91e3f9d%2C%0A%20%20%20%20%20%20%20%20%20%20%20%20%20%20%20%20%20%20%20%20%22Point%22%20%3A%20geo_json_a05cd8cab0384f339ac159db55883025%2C%0A%20%20%20%20%20%20%20%20%20%20%20%20%20%20%20%20%20%20%20%20%22Field%22%20%3A%20geo_json_857ce5748af7410ebe55fd4add709635%2C%0A%20%20%20%20%20%20%20%20%20%20%20%20%20%20%20%20%7D%2C%0A%20%20%20%20%20%20%20%20%20%20%20%20%7D%3B%0A%20%20%20%20%20%20%20%20%20%20%20%20L.control.layers%28%0A%20%20%20%20%20%20%20%20%20%20%20%20%20%20%20%20layer_control_39500e193330441f95378245e8baa15e.base_layers%2C%0A%20%20%20%20%20%20%20%20%20%20%20%20%20%20%20%20layer_control_39500e193330441f95378245e8baa15e.overlays%2C%0A%20%20%20%20%20%20%20%20%20%20%20%20%20%20%20%20%7B%22autoZIndex%22%3A%20true%2C%20%22collapsed%22%3A%20true%2C%20%22position%22%3A%20%22topright%22%7D%0A%20%20%20%20%20%20%20%20%20%20%20%20%29.addTo%28map_463a0c0190074e9b9e534a55e7c7e21c%29%3B%0A%20%20%20%20%20%20%20%20%20%20%20%20tile_layer_4bbd9cde57f94a41acb0393dd501f6ba.remove%28%29%3B%0A%20%20%20%20%20%20%20%20%20%20%20%20tile_layer_1af213fc8c744acba77073116b88628e.remove%28%29%3B%0A%20%20%20%20%20%20%20%20%20%20%20%20tile_layer_6889fe468748461e946fd9d8af69d4b8.remove%28%29%3B%0A%20%20%20%20%20%20%20%20%20%20%20%20tile_layer_d00a84d987394c56b4b3cd7783a70936.remove%28%29%3B%0A%20%20%20%20%20%20%20%20%20%20%20%20tile_layer_d6fd869945d74598aca0948b704fdebf.remove%28%29%3B%0A%20%20%20%20%20%20%20%20%20%20%20%20tile_layer_6a80b16036b94155857f4b4bbaff2b34.remove%28%29%3B%0A%20%20%20%20%20%20%20%20%20%20%20%20tile_layer_936778b0aeb840e091b2da4ec3209160.remove%28%29%3B%0A%20%20%20%20%20%20%20%20%20%20%20%20tile_layer_d48f8f34167c4851af677288870ca5d0.remove%28%29%3B%0A%20%20%20%20%20%20%20%20%20%20%20%20tile_layer_f6873e9e6deb4eb68bc30a6e21bdbb8d.remove%28%29%3B%0A%20%20%20%20%20%20%20%20%20%20%20%20tile_layer_e6cd80f9db674e43ac0d2f03de526d5f.remove%28%29%3B%0A%20%20%20%20%20%20%20%20%20%20%20%20tile_layer_55872bfe0b7547098a86e0d67388088c.remove%28%29%3B%0A%20%20%20%20%20%20%20%20%20%20%20%20tile_layer_fb36933e13924ea292f0e9a75dec20bb.remove%28%29%3B%0A%20%20%20%20%20%20%20%20%20%20%20%20tile_layer_37de8f0228d4442aa60c044fc69db51b.remove%28%29%3B%0A%20%20%20%20%20%20%20%20%20%20%20%20tile_layer_b4d69023b11b4ec5bc353d168b630964.remove%28%29%3B%0A%20%20%20%20%20%20%20%20%20%20%20%20tile_layer_175a189638e84112ae6f7d590b90a40b.remove%28%29%3B%0A%20%20%20%20%20%20%20%20%20%20%20%20tile_layer_7d1666de37ea4c7da68e201c3eaa3fbf.remove%28%29%3B%0A%20%20%20%20%20%20%20%20%20%20%20%20tile_layer_619afbf2cea34b9390371041051df795.remove%28%29%3B%0A%20%20%20%20%20%20%20%20%20%20%20%20tile_layer_80a7d252cd6040b7969bad5522c310d5.remove%28%29%3B%0A%20%20%20%20%20%20%20%20%20%20%20%20tile_layer_4d864364ceaa4de3be2d94b3992be51b.remove%28%29%3B%0A%20%20%20%20%20%20%20%20%20%20%20%20tile_layer_9918fbcd9e7346ff90af158938ba6c67.remove%28%29%3B%0A%20%20%20%20%20%20%20%20%0A%3C/script%3E onload=\"this.contentDocument.open();this.contentDocument.write(    decodeURIComponent(this.getAttribute('data-html')));this.contentDocument.close();\" allowfullscreen webkitallowfullscreen mozallowfullscreen></iframe></div></div>"
      ],
      "text/plain": [
       "<folium.folium.Map at 0x7fc4d85ad610>"
      ]
     },
     "metadata": {},
     "output_type": "display_data"
    }
   ],
   "source": [
    "# Show on map\n",
    "mp = create_map(coordinate=(field.lat, field.lng), zoom=14)\n",
    "mp = landsat7.add_to_map(mp, scheme='all')\n",
    "mp = landsat8.add_to_map(mp, scheme='all')\n",
    "mp = sentinel2.add_to_map(mp, scheme='all')\n",
    "mp = cropland.add_to_map(mp, scheme='first')\n",
    "mp = show_point(mp, point=ee.Geometry.Point(field.lng, field.lat))\n",
    "mp = show_polygon(mp, polygon=field_boundary, tag='Field')\n",
    "mp.add_child(folium.LayerControl())\n",
    "display(mp)"
   ]
  },
  {
   "cell_type": "code",
   "execution_count": 141,
   "id": "dcc54b0b",
   "metadata": {},
   "outputs": [
    {
     "name": "stderr",
     "output_type": "stream",
     "text": [
      "Sampling Landsat 7 SR-T1: 100%|██████████| 5/5 [00:02<00:00,  2.21it/s]\n",
      "Sampling Landsat 8 SR-T1: 100%|██████████| 4/4 [00:01<00:00,  2.26it/s]\n",
      "Sampling Sentinel-2 L2A SR: 100%|██████████| 14/14 [00:17<00:00,  1.26s/it]\n"
     ]
    }
   ],
   "source": [
    "s_landsat7 = landsat7.sample(\n",
    "    region=field_boundary,\n",
    ")\n",
    "s_landsat8 = landsat8.sample(\n",
    "    region=field_boundary,\n",
    ")\n",
    "s_sentinel2 = sentinel2.sample(\n",
    "    region=field_boundary,\n",
    ")"
   ]
  },
  {
   "cell_type": "code",
   "execution_count": null,
   "id": "70bcd510",
   "metadata": {},
   "outputs": [],
   "source": []
  },
  {
   "cell_type": "code",
   "execution_count": null,
   "id": "20d18b91",
   "metadata": {},
   "outputs": [],
   "source": []
  },
  {
   "cell_type": "code",
   "execution_count": 34,
   "id": "4ae2ed60",
   "metadata": {},
   "outputs": [],
   "source": [
    "# cloud_data = {'cloudy':{}, 'clear':{}}  # TODO: comment for precaution"
   ]
  },
  {
   "cell_type": "code",
   "execution_count": 145,
   "id": "d436ae6b",
   "metadata": {},
   "outputs": [
    {
     "data": {
      "text/plain": [
       "(38, 395)"
      ]
     },
     "execution_count": 145,
     "metadata": {},
     "output_type": "execute_result"
    }
   ],
   "source": [
    "# Add as clouds\n",
    "dataset = 'sentinel2'\n",
    "date = '2020-05-26'\n",
    "\n",
    "if dataset == 'landsat7':\n",
    "    samples = s_landsat7\n",
    "elif dataset == 'landsat8':\n",
    "    samples = s_landsat8\n",
    "elif dataset == 'sentinel2':\n",
    "    samples = s_sentinel2\n",
    "else:\n",
    "    raise Exception\n",
    "assert date in samples\n",
    "cloud_data['cloudy'][f\"{FIELD_ID}-{date}-{dataset}\"] = samples[date]\n",
    "\n",
    "len(cloud_data['cloudy']),len(cloud_data['clear'])"
   ]
  },
  {
   "cell_type": "code",
   "execution_count": 146,
   "id": "f1960635",
   "metadata": {},
   "outputs": [
    {
     "data": {
      "text/plain": [
       "(38, 414)"
      ]
     },
     "execution_count": 146,
     "metadata": {},
     "output_type": "execute_result"
    }
   ],
   "source": [
    "# Add all the others as none-clouds\n",
    "for dataset in ('landsat7', 'landsat8', 'sentinel2'):\n",
    "    if dataset == 'landsat7':\n",
    "        samples = s_landsat7\n",
    "    elif dataset == 'landsat8':\n",
    "        samples = s_landsat8\n",
    "    elif dataset == 'sentinel2':\n",
    "        samples = s_sentinel2\n",
    "    for date, sample in samples.items():\n",
    "        if f\"{FIELD_ID}-{date}-{dataset}\" in cloud_data['cloudy']: continue\n",
    "        cloud_data['clear'][f\"{FIELD_ID}-{date}-{dataset}\"] = sample\n",
    "    \n",
    "len(cloud_data['cloudy']),len(cloud_data['clear'])"
   ]
  },
  {
   "cell_type": "code",
   "execution_count": 147,
   "id": "9b0c62a1",
   "metadata": {},
   "outputs": [],
   "source": [
    "with open(Path.cwd() / 'data/cloud_data.json', 'w') as f:\n",
    "    json.dump(cloud_data, f)"
   ]
  },
  {
   "cell_type": "code",
   "execution_count": null,
   "id": "8b8b889b",
   "metadata": {},
   "outputs": [],
   "source": []
  }
 ],
 "metadata": {
  "hide_input": false,
  "kernelspec": {
   "display_name": "Python 3",
   "language": "python",
   "name": "python3"
  },
  "language_info": {
   "codemirror_mode": {
    "name": "ipython",
    "version": 3
   },
   "file_extension": ".py",
   "mimetype": "text/x-python",
   "name": "python",
   "nbconvert_exporter": "python",
   "pygments_lexer": "ipython3",
   "version": "3.8.8"
  }
 },
 "nbformat": 4,
 "nbformat_minor": 5
}
