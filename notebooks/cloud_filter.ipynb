{
 "cells": [
  {
   "cell_type": "code",
   "execution_count": 1,
   "id": "55ec3917",
   "metadata": {},
   "outputs": [],
   "source": [
    "%load_ext autoreload\n",
    "%autoreload 2"
   ]
  },
  {
   "cell_type": "code",
   "execution_count": 2,
   "id": "01532642",
   "metadata": {},
   "outputs": [
    {
     "name": "stdout",
     "output_type": "stream",
     "text": [
      "/Users/rubenbroekx/Documents/Projects/radix-co2-reduction\n"
     ]
    }
   ],
   "source": [
    "%cd .."
   ]
  },
  {
   "cell_type": "markdown",
   "id": "aadcd223",
   "metadata": {},
   "source": [
    "# Cloud Filter\n",
    "\n",
    "Algorithm to filter out cloudy images from the sampled pixel-values. A dataset of a limited amount of annotated \"cloudy vs clear\" images is found under `cloud_data.json`."
   ]
  },
  {
   "cell_type": "code",
   "execution_count": 3,
   "id": "d6dc60d4",
   "metadata": {},
   "outputs": [],
   "source": [
    "import json\n",
    "import seaborn as sns\n",
    "import matplotlib.pyplot as plt\n",
    "\n",
    "from tqdm import tqdm\n",
    "from pathlib import Path\n",
    "from collections import Counter\n",
    "from sklearn.metrics import confusion_matrix, f1_score\n",
    "\n",
    "from src.radix_co2_reduction.earth_engine.cloud_filter import CloudFilter"
   ]
  },
  {
   "cell_type": "code",
   "execution_count": 4,
   "id": "21729ba1",
   "metadata": {},
   "outputs": [
    {
     "data": {
      "text/plain": [
       "(38, 414)"
      ]
     },
     "execution_count": 4,
     "metadata": {},
     "output_type": "execute_result"
    }
   ],
   "source": [
    "# Load the data\n",
    "with open(Path.cwd() / 'data/cloud_data.json', 'r') as f:\n",
    "    cloud_data = json.load(f)\n",
    "\n",
    "data = {\n",
    "    'cloudy': list(cloud_data['cloudy'].values()),\n",
    "    'clear': list(cloud_data['clear'].values()),\n",
    "}\n",
    "len(data['cloudy']), len(data['clear'])"
   ]
  },
  {
   "cell_type": "code",
   "execution_count": 5,
   "id": "499e9ce0",
   "metadata": {},
   "outputs": [],
   "source": [
    "# Load in the cloud filter\n",
    "cloud_filter = CloudFilter(\n",
    "    model_path = Path.cwd() / 'models'\n",
    ")"
   ]
  },
  {
   "cell_type": "code",
   "execution_count": 6,
   "id": "5333af96",
   "metadata": {},
   "outputs": [],
   "source": [
    "# Train the classifier\n",
    "cloud_filter.train(data)"
   ]
  },
  {
   "cell_type": "code",
   "execution_count": 7,
   "id": "94a7f279",
   "metadata": {},
   "outputs": [
    {
     "name": "stdout",
     "output_type": "stream",
     "text": [
      "Best threshold for this data: 0.72\n"
     ]
    }
   ],
   "source": [
    "# Get the best possible threshold value\n",
    "thr = cloud_filter.calc_best_thr(data)\n",
    "cloud_filter.thr = thr\n",
    "print(f\"Best threshold for this data:\", thr)"
   ]
  },
  {
   "cell_type": "code",
   "execution_count": 10,
   "id": "825adab4",
   "metadata": {},
   "outputs": [
    {
     "name": "stderr",
     "output_type": "stream",
     "text": [
      "100%|██████████| 452/452 [02:12<00:00,  3.41it/s]\n"
     ]
    },
    {
     "ename": "TypeError",
     "evalue": "confusion_matrix() got an unexpected keyword argument 'normalise'",
     "output_type": "error",
     "traceback": [
      "\u001b[0;31m---------------------------------------------------------------------------\u001b[0m",
      "\u001b[0;31mTypeError\u001b[0m                                 Traceback (most recent call last)",
      "\u001b[0;32m<ipython-input-10-eaf3fa4ae232>\u001b[0m in \u001b[0;36m<module>\u001b[0;34m\u001b[0m\n\u001b[1;32m      7\u001b[0m \u001b[0;34m\u001b[0m\u001b[0m\n\u001b[1;32m      8\u001b[0m \u001b[0;31m# Show confusion matrix\u001b[0m\u001b[0;34m\u001b[0m\u001b[0;34m\u001b[0m\u001b[0;34m\u001b[0m\u001b[0m\n\u001b[0;32m----> 9\u001b[0;31m \u001b[0marr\u001b[0m \u001b[0;34m=\u001b[0m \u001b[0mconfusion_matrix\u001b[0m\u001b[0;34m(\u001b[0m\u001b[0mtrue\u001b[0m\u001b[0;34m,\u001b[0m \u001b[0mpreds\u001b[0m\u001b[0;34m,\u001b[0m \u001b[0mnormalise\u001b[0m\u001b[0;34m=\u001b[0m\u001b[0;34m'true'\u001b[0m\u001b[0;34m)\u001b[0m\u001b[0;34m\u001b[0m\u001b[0;34m\u001b[0m\u001b[0m\n\u001b[0m\u001b[1;32m     10\u001b[0m \u001b[0mplt\u001b[0m\u001b[0;34m.\u001b[0m\u001b[0mfigure\u001b[0m\u001b[0;34m(\u001b[0m\u001b[0mfigsize\u001b[0m\u001b[0;34m=\u001b[0m\u001b[0;34m(\u001b[0m\u001b[0;36m5\u001b[0m\u001b[0;34m,\u001b[0m \u001b[0;36m5\u001b[0m\u001b[0;34m)\u001b[0m\u001b[0;34m)\u001b[0m\u001b[0;34m\u001b[0m\u001b[0;34m\u001b[0m\u001b[0m\n\u001b[1;32m     11\u001b[0m \u001b[0msns\u001b[0m\u001b[0;34m.\u001b[0m\u001b[0mheatmap\u001b[0m\u001b[0;34m(\u001b[0m\u001b[0marr\u001b[0m\u001b[0;34m,\u001b[0m \u001b[0mannot\u001b[0m\u001b[0;34m=\u001b[0m\u001b[0;32mTrue\u001b[0m\u001b[0;34m,\u001b[0m \u001b[0mfmt\u001b[0m\u001b[0;34m=\u001b[0m\u001b[0;34m\".3f\"\u001b[0m\u001b[0;34m,\u001b[0m \u001b[0mvmin\u001b[0m\u001b[0;34m=\u001b[0m\u001b[0;36m0\u001b[0m\u001b[0;34m)\u001b[0m\u001b[0;34m\u001b[0m\u001b[0;34m\u001b[0m\u001b[0m\n",
      "\u001b[0;32m~/opt/miniconda3/envs/radix-co2-reduction-env/lib/python3.8/site-packages/sklearn/utils/validation.py\u001b[0m in \u001b[0;36minner_f\u001b[0;34m(*args, **kwargs)\u001b[0m\n\u001b[1;32m     61\u001b[0m             \u001b[0mextra_args\u001b[0m \u001b[0;34m=\u001b[0m \u001b[0mlen\u001b[0m\u001b[0;34m(\u001b[0m\u001b[0margs\u001b[0m\u001b[0;34m)\u001b[0m \u001b[0;34m-\u001b[0m \u001b[0mlen\u001b[0m\u001b[0;34m(\u001b[0m\u001b[0mall_args\u001b[0m\u001b[0;34m)\u001b[0m\u001b[0;34m\u001b[0m\u001b[0;34m\u001b[0m\u001b[0m\n\u001b[1;32m     62\u001b[0m             \u001b[0;32mif\u001b[0m \u001b[0mextra_args\u001b[0m \u001b[0;34m<=\u001b[0m \u001b[0;36m0\u001b[0m\u001b[0;34m:\u001b[0m\u001b[0;34m\u001b[0m\u001b[0;34m\u001b[0m\u001b[0m\n\u001b[0;32m---> 63\u001b[0;31m                 \u001b[0;32mreturn\u001b[0m \u001b[0mf\u001b[0m\u001b[0;34m(\u001b[0m\u001b[0;34m*\u001b[0m\u001b[0margs\u001b[0m\u001b[0;34m,\u001b[0m \u001b[0;34m**\u001b[0m\u001b[0mkwargs\u001b[0m\u001b[0;34m)\u001b[0m\u001b[0;34m\u001b[0m\u001b[0;34m\u001b[0m\u001b[0m\n\u001b[0m\u001b[1;32m     64\u001b[0m \u001b[0;34m\u001b[0m\u001b[0m\n\u001b[1;32m     65\u001b[0m             \u001b[0;31m# extra_args > 0\u001b[0m\u001b[0;34m\u001b[0m\u001b[0;34m\u001b[0m\u001b[0;34m\u001b[0m\u001b[0m\n",
      "\u001b[0;31mTypeError\u001b[0m: confusion_matrix() got an unexpected keyword argument 'normalise'"
     ]
    }
   ],
   "source": [
    "# Show the confusion matrix of the classifier\n",
    "eval_samples, true = zip(*[(s, True) for s in data['cloudy']] + [(s, False) for s in data['clear']])\n",
    "preds = []\n",
    "for sample in tqdm(eval_samples):\n",
    "    preds.append(cloud_filter(sample))\n",
    "assert len(true) == len(preds)\n",
    "\n",
    "# Show confusion matrix\n",
    "arr = confusion_matrix(true, preds, normalize='true')\n",
    "plt.figure(figsize=(5, 5))\n",
    "sns.heatmap(arr, annot=True, fmt=\".3f\", vmin=0)\n",
    "title = f\"Cloud Classifier (f1: {100*f1_score(true, preds):.2f}%)\"\n",
    "plt.title(title)\n",
    "plt.xlabel(\"Predicted\")\n",
    "plt.xticks([0.5, 1.5], ['Clear', 'Cloudy'])\n",
    "plt.ylabel(\"Actual\")\n",
    "plt.yticks([0.5, 1.5], ['Clear', 'Cloudy'])\n",
    "plt.show()"
   ]
  },
  {
   "cell_type": "code",
   "execution_count": 11,
   "id": "ee929af7",
   "metadata": {},
   "outputs": [
    {
     "data": {
      "image/png": "[encoded data removed]",
      "text/plain": [
       "<Figure size 360x360 with 2 Axes>"
      ]
     },
     "metadata": {
      "needs_background": "light"
     },
     "output_type": "display_data"
    }
   ],
   "source": [
    "# Show confusion matrix\n",
    "arr = confusion_matrix(true, preds, normalize='true')\n",
    "plt.figure(figsize=(5, 5))\n",
    "sns.heatmap(arr, annot=True, fmt=\".3f\", vmin=0)\n",
    "title = f\"Cloud Classifier (f1: {100*f1_score(true, preds):.2f}%)\"\n",
    "plt.title(title)\n",
    "plt.xlabel(\"Predicted\")\n",
    "plt.xticks([0.5, 1.5], ['Clear', 'Cloudy'])\n",
    "plt.ylabel(\"Actual\")\n",
    "plt.yticks([0.5, 1.5], ['Clear', 'Cloudy'])\n",
    "plt.show()"
   ]
  },
  {
   "cell_type": "code",
   "execution_count": 12,
   "id": "5f1a1c0c",
   "metadata": {},
   "outputs": [
    {
     "name": "stdout",
     "output_type": "stream",
     "text": [
      "Saved cloud-filter!\n"
     ]
    }
   ],
   "source": [
    "# Save the classifier\n",
    "cloud_filter.save()"
   ]
  },
  {
   "cell_type": "code",
   "execution_count": null,
   "id": "e390e92a",
   "metadata": {},
   "outputs": [],
   "source": []
  }
 ],
 "metadata": {
  "hide_input": false,
  "kernelspec": {
   "display_name": "Python 3",
   "language": "python",
   "name": "python3"
  },
  "language_info": {
   "codemirror_mode": {
    "name": "ipython",
    "version": 3
   },
   "file_extension": ".py",
   "mimetype": "text/x-python",
   "name": "python",
   "nbconvert_exporter": "python",
   "pygments_lexer": "ipython3",
   "version": "3.8.8"
  }
 },
 "nbformat": 4,
 "nbformat_minor": 5
}
