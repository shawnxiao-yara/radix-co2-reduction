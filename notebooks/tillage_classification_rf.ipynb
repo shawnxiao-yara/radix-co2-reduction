{
 "cells": [
  {
   "cell_type": "code",
   "execution_count": 1,
   "id": "0c1abfa8",
   "metadata": {},
   "outputs": [
    {
     "name": "stdout",
     "output_type": "stream",
     "text": [
      "/Users/rubenbroekx/Documents/Projects/radix-co2-reduction\n"
     ]
    }
   ],
   "source": [
    "%load_ext autoreload\n",
    "%autoreload 2\n",
    "\n",
    "%cd .."
   ]
  },
  {
   "cell_type": "markdown",
   "id": "904276fb",
   "metadata": {},
   "source": [
    "# Tillage Classification - Random Forest"
   ]
  },
  {
   "cell_type": "code",
   "execution_count": 2,
   "id": "f86efde3",
   "metadata": {},
   "outputs": [],
   "source": [
    "import json\n",
    "import pickle\n",
    "import seaborn as sns\n",
    "import matplotlib.pyplot as plt\n",
    "\n",
    "from tqdm import tqdm\n",
    "from glob import glob\n",
    "from collections import Counter\n",
    "from pathlib import Path\n",
    "from sklearn.metrics import confusion_matrix, f1_score\n",
    "from sklearn.model_selection import cross_val_score\n",
    "from sklearn.ensemble import RandomForestClassifier\n",
    "from imblearn.over_sampling import RandomOverSampler\n",
    "\n",
    "from src.radix_co2_reduction.tillage_detection.models import FieldRF\n",
    "from src.radix_co2_reduction.data import load_data, get_tillage_label"
   ]
  },
  {
   "cell_type": "markdown",
   "id": "d21caa86",
   "metadata": {},
   "source": [
    "## Load Data\n",
    "\n",
    "Load in all data used for the classification."
   ]
  },
  {
   "cell_type": "code",
   "execution_count": 3,
   "id": "620d88b5",
   "metadata": {},
   "outputs": [],
   "source": [
    "# Root data folder\n",
    "DATA = Path.home() / 'data/agoro/2021-05-19'"
   ]
  },
  {
   "cell_type": "code",
   "execution_count": 4,
   "id": "d7f5faaf",
   "metadata": {},
   "outputs": [],
   "source": [
    "# Fetch field-IDs\n",
    "all_ids = glob(str(DATA / '*/ndti.png'))\n",
    "all_ids = [int(i.split('/')[-2]) for i in all_ids]"
   ]
  },
  {
   "cell_type": "code",
   "execution_count": 5,
   "id": "5cd99a6b",
   "metadata": {},
   "outputs": [
    {
     "name": "stdout",
     "output_type": "stream",
     "text": [
      "Total number of data samples: 966\n",
      "Number of samples by class:\n",
      " - Conv.-Till: 666\n",
      " - No-Till: 300\n"
     ]
    }
   ],
   "source": [
    "# Load in all data\n",
    "meta_data = {}\n",
    "for i in all_ids:\n",
    "    with open(DATA / f\"{i}/meta.json\", 'r') as f:\n",
    "        meta_data[i] = json.load(f)\n",
    "        \n",
    "# Extract tillage types\n",
    "tillage_types = {k:v['tillage'] for k,v in meta_data.items()}\n",
    "\n",
    "# Get total number of fields\n",
    "print(f\"Total number of data samples:\", len(tillage_types))\n",
    "\n",
    "# Show classes\n",
    "print(f\"Number of samples by class:\")\n",
    "for k,v in Counter(tillage_types.values()).items():\n",
    "    print(f\" - {k}: {v}\")"
   ]
  },
  {
   "cell_type": "code",
   "execution_count": 6,
   "id": "8549dbb5",
   "metadata": {},
   "outputs": [
    {
     "name": "stdout",
     "output_type": "stream",
     "text": [
      "Test-size: 100\n",
      "Train-size: 866\n"
     ]
    }
   ],
   "source": [
    "N_TEST = 50\n",
    "\n",
    "# Split into training and testing\n",
    "no_till = [field_id for field_id,label in tillage_types.items() if label == 'No-Till']\n",
    "conv_till = [field_id for field_id,label in tillage_types.items() if label == 'Conv.-Till']\n",
    "\n",
    "# Test-set\n",
    "test = no_till[:N_TEST] + conv_till[:N_TEST]\n",
    "print(f\"Test-size: {len(test)}\")\n",
    "train = no_till[N_TEST:] + conv_till[N_TEST:]\n",
    "print(f\"Train-size: {len(train)}\")"
   ]
  },
  {
   "cell_type": "markdown",
   "id": "30a7679b",
   "metadata": {},
   "source": [
    "## Train the Classifier\n",
    "\n",
    "Train a Random Forest classifier on field-level data. "
   ]
  },
  {
   "cell_type": "code",
   "execution_count": 7,
   "id": "71987ae1",
   "metadata": {},
   "outputs": [
    {
     "name": "stdout",
     "output_type": "stream",
     "text": [
      "Loaded existing cloud-filter!\n"
     ]
    }
   ],
   "source": [
    "# Load in and initialise the model\n",
    "model = FieldRF(\n",
    "    models_path=Path.cwd() / 'models',\n",
    ")"
   ]
  },
  {
   "cell_type": "code",
   "execution_count": 10,
   "id": "591baaf9",
   "metadata": {},
   "outputs": [
    {
     "name": "stderr",
     "output_type": "stream",
     "text": [
      "Loading data: 100%|██████████| 866/866 [01:01<00:00, 14.04it/s]\n"
     ]
    }
   ],
   "source": [
    "# Initialise feature mask\n",
    "model.init_feature_mask()\n",
    "\n",
    "# Load in the features and corresponding labels\n",
    "features, labels = [], []\n",
    "for field_id in tqdm(train, desc='Loading data'):\n",
    "    data = load_data(DATA / f'{field_id}')\n",
    "    features.append(model.get_features(data))\n",
    "    labels.append(get_tillage_label(DATA / f'{field_id}'))\n",
    "\n",
    "# Train the model\n",
    "model.optimise_feature_mask(\n",
    "    features=features,\n",
    "    labels=labels,\n",
    ")"
   ]
  },
  {
   "cell_type": "code",
   "execution_count": 11,
   "id": "2ce18451",
   "metadata": {},
   "outputs": [
    {
     "name": "stderr",
     "output_type": "stream",
     "text": [
      "Loading data: 100%|██████████| 866/866 [01:01<00:00, 14.01it/s]\n"
     ]
    }
   ],
   "source": [
    "# Load in the features and corresponding labels\n",
    "features, labels = [], []\n",
    "for field_id in tqdm(train, desc='Loading data'):\n",
    "    data = load_data(DATA / f'{field_id}')\n",
    "    features.append(model.get_features(data))\n",
    "    labels.append(get_tillage_label(DATA / f'{field_id}'))\n",
    "\n",
    "# Train the model\n",
    "model.train(\n",
    "    features=features,\n",
    "    labels=labels,\n",
    ")"
   ]
  },
  {
   "cell_type": "code",
   "execution_count": 12,
   "id": "93205bf7",
   "metadata": {},
   "outputs": [
    {
     "name": "stderr",
     "output_type": "stream",
     "text": [
      "Loading data: 100%|██████████| 100/100 [00:08<00:00, 12.37it/s]\n"
     ]
    },
    {
     "name": "stdout",
     "output_type": "stream",
     "text": [
      "Accuracy: 0.79\n",
      "  Recall: 0.88\n",
      "F1-score: 0.8073394495412843\n"
     ]
    },
    {
     "data": {
      "image/png": "[encoded data removed]",
      "text/plain": [
       "<Figure size 360x360 with 2 Axes>"
      ]
     },
     "metadata": {
      "needs_background": "light"
     },
     "output_type": "display_data"
    },
    {
     "name": "stdout",
     "output_type": "stream",
     "text": [
      "Misclassified\n",
      " - 93785\n",
      " - 93912\n",
      " - 103046\n",
      " - 93915\n",
      " - 68546\n",
      " - 94509\n",
      " - 102791\n",
      " - 67951\n",
      " - 103478\n",
      " - 79608\n",
      " - 68114\n",
      " - 79299\n",
      " - 80333\n",
      " - 67950\n",
      " - 103810\n",
      " - 103874\n",
      " - 57935\n",
      " - 68149\n",
      " - 79434\n",
      " - 67993\n",
      " - 94994\n"
     ]
    }
   ],
   "source": [
    "# Load in the features and corresponding labels\n",
    "features, labels = [], []\n",
    "for field_id in tqdm(test, desc='Loading data'):\n",
    "    data = load_data(DATA / f'{field_id}')\n",
    "    features.append(model.get_features(data))\n",
    "    labels.append(get_tillage_label(DATA / f'{field_id}'))\n",
    "\n",
    "# Evaluate the model\n",
    "preds = model.eval(\n",
    "    features=features,\n",
    "    labels=labels,\n",
    ")\n",
    "\n",
    "# Show confusion matrix\n",
    "arr = confusion_matrix(labels, preds, normalize='true')\n",
    "plt.figure(figsize=(5, 5))\n",
    "sns.heatmap(arr, annot=True, fmt=\".3f\", vmin=0)\n",
    "title = f\"Tillage Classifier (f1: {100*f1_score(labels, preds):.2f}%)\"\n",
    "plt.title(title)\n",
    "plt.xlabel(\"Predicted\")\n",
    "plt.xticks([0.5, 1.5], ['No-Till', 'Conv.-Till'])\n",
    "plt.ylabel(\"Actual\")\n",
    "plt.yticks([0.5, 1.5], ['No-Till', 'Conv.-Till'])\n",
    "plt.show()\n",
    "\n",
    "# Print out the misclassified\n",
    "print(\"Misclassified\")\n",
    "for i,l,p in zip(test,labels,preds):\n",
    "    if l != p:\n",
    "        print(f\" - {i}\")"
   ]
  },
  {
   "cell_type": "code",
   "execution_count": 12,
   "id": "b9bb584e",
   "metadata": {},
   "outputs": [],
   "source": [
    "# Save the model\n",
    "model.save()"
   ]
  },
  {
   "cell_type": "code",
   "execution_count": 20,
   "id": "9012f306",
   "metadata": {},
   "outputs": [
    {
     "name": "stdout",
     "output_type": "stream",
     "text": [
      "Prediction on 104403 (should be False): False\n",
      "Prediction on 103077 (should be True): True\n"
     ]
    }
   ],
   "source": [
    "# Example on inference\n",
    "with open(Path.home() / 'data/agoro/2021-05-02/104403/samples/sentinel2.json', 'r') as f:\n",
    "    sample = json.load(f)\n",
    "print(f\"Prediction on 104403 (should be False):\", model(sample))\n",
    "\n",
    "with open(Path.home() / 'data/agoro/2021-05-02/103077/samples/sentinel2.json', 'r') as f:\n",
    "    sample = json.load(f)\n",
    "print(f\"Prediction on 103077 (should be True):\", model(sample))"
   ]
  },
  {
   "cell_type": "markdown",
   "id": "2ad3615e",
   "metadata": {},
   "source": [
    "## Cross Validation"
   ]
  },
  {
   "cell_type": "code",
   "execution_count": 13,
   "id": "4a8b5c53",
   "metadata": {},
   "outputs": [
    {
     "name": "stderr",
     "output_type": "stream",
     "text": [
      "Loading data: 100%|██████████| 966/966 [01:09<00:00, 13.94it/s]\n"
     ]
    }
   ],
   "source": [
    "# Load in the data\n",
    "features, labels = [], []\n",
    "for field_id in tqdm(all_ids, desc='Loading data'):\n",
    "    data = load_data(DATA / f'{field_id}')\n",
    "    features.append(model.get_features(data))\n",
    "    labels.append(get_tillage_label(DATA / f'{field_id}'))"
   ]
  },
  {
   "cell_type": "code",
   "execution_count": 14,
   "id": "d3f8cfe0",
   "metadata": {},
   "outputs": [],
   "source": [
    "# Balance\n",
    "sm = RandomOverSampler(random_state=42)\n",
    "features, labels = sm.fit_resample(features, labels)"
   ]
  },
  {
   "cell_type": "code",
   "execution_count": 15,
   "id": "175237dd",
   "metadata": {},
   "outputs": [
    {
     "data": {
      "text/plain": [
       "0.8941567401650193"
      ]
     },
     "execution_count": 15,
     "metadata": {},
     "output_type": "execute_result"
    }
   ],
   "source": [
    "# Cross Validation\n",
    "clf = RandomForestClassifier()\n",
    "scores = cross_val_score(\n",
    "    clf, \n",
    "    features, \n",
    "    labels, \n",
    "    cv=5,\n",
    ")\n",
    "sum(scores)/len(scores)"
   ]
  },
  {
   "cell_type": "code",
   "execution_count": null,
   "id": "f8ad97cc",
   "metadata": {},
   "outputs": [],
   "source": []
  }
 ],
 "metadata": {
  "hide_input": false,
  "kernelspec": {
   "display_name": "Python 3",
   "language": "python",
   "name": "python3"
  },
  "language_info": {
   "codemirror_mode": {
    "name": "ipython",
    "version": 3
   },
   "file_extension": ".py",
   "mimetype": "text/x-python",
   "name": "python",
   "nbconvert_exporter": "python",
   "pygments_lexer": "ipython3",
   "version": "3.8.8"
  }
 },
 "nbformat": 4,
 "nbformat_minor": 5
}
