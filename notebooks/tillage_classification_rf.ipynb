{
 "cells": [
  {
   "cell_type": "code",
   "execution_count": 1,
   "id": "0c1abfa8",
   "metadata": {},
   "outputs": [],
   "source": [
    "%load_ext autoreload\n",
    "%autoreload 2"
   ]
  },
  {
   "cell_type": "code",
   "execution_count": 2,
   "id": "dd32908e",
   "metadata": {},
   "outputs": [
    {
     "name": "stdout",
     "output_type": "stream",
     "text": [
      "/Users/rubenbroekx/Documents/Projects/radix-co2-reduction\n"
     ]
    }
   ],
   "source": [
    "%cd .."
   ]
  },
  {
   "cell_type": "markdown",
   "id": "904276fb",
   "metadata": {},
   "source": [
    "# Tillage Classification - Random Forest"
   ]
  },
  {
   "cell_type": "code",
   "execution_count": 3,
   "id": "f86efde3",
   "metadata": {},
   "outputs": [],
   "source": [
    "import json\n",
    "import pickle\n",
    "import seaborn as sns\n",
    "import matplotlib.pyplot as plt\n",
    "\n",
    "\n",
    "from glob import glob\n",
    "from collections import Counter\n",
    "from pathlib import Path\n",
    "from sklearn.metrics import confusion_matrix, f1_score\n",
    "\n",
    "from src.radix_co2_reduction.tillage_detection.models import FieldRF"
   ]
  },
  {
   "cell_type": "markdown",
   "id": "d21caa86",
   "metadata": {},
   "source": [
    "## Load Data\n",
    "\n",
    "Load in all data used for the classification."
   ]
  },
  {
   "cell_type": "code",
   "execution_count": 4,
   "id": "620d88b5",
   "metadata": {},
   "outputs": [],
   "source": [
    "# Root data folder\n",
    "DATA = Path.home() / 'data/agoro/2021-05-02'"
   ]
  },
  {
   "cell_type": "code",
   "execution_count": 5,
   "id": "d7f5faaf",
   "metadata": {},
   "outputs": [],
   "source": [
    "# Fetch field-IDs\n",
    "all_ids = glob(str(DATA / '*/ndti.png'))\n",
    "all_ids = [int(i.split('/')[-2]) for i in all_ids]"
   ]
  },
  {
   "cell_type": "code",
   "execution_count": 6,
   "id": "5cd99a6b",
   "metadata": {},
   "outputs": [
    {
     "name": "stdout",
     "output_type": "stream",
     "text": [
      "Total number of data samples: 628\n",
      "Number of samples by class:\n",
      " - Conv.-Till: 309\n",
      " - No-Till: 319\n"
     ]
    }
   ],
   "source": [
    "# Load in all data\n",
    "meta_data = {}\n",
    "for i in all_ids:\n",
    "    with open(DATA / f\"{i}/meta.json\", 'r') as f:\n",
    "        meta_data[i] = json.load(f)\n",
    "        \n",
    "# Extract tillage types\n",
    "tillage_types = {k:v['tillage'] for k,v in meta_data.items()}\n",
    "\n",
    "# Get total number of fields\n",
    "print(f\"Total number of data samples:\", len(tillage_types))\n",
    "\n",
    "# Show classes\n",
    "print(f\"Number of samples by class:\")\n",
    "for k,v in Counter(tillage_types.values()).items():\n",
    "    print(f\" - {k}: {v}\")"
   ]
  },
  {
   "cell_type": "code",
   "execution_count": 7,
   "id": "951f8230",
   "metadata": {},
   "outputs": [
    {
     "name": "stdout",
     "output_type": "stream",
     "text": [
      "Test-size: 100\n",
      "Train-size: 528\n"
     ]
    }
   ],
   "source": [
    "N_TEST = 50\n",
    "\n",
    "# Split into training and testing\n",
    "no_till = [field_id for field_id,label in tillage_types.items() if label == 'No-Till']\n",
    "conv_till = [field_id for field_id,label in tillage_types.items() if label == 'Conv.-Till']\n",
    "\n",
    "# Test-set\n",
    "test = no_till[:N_TEST] + conv_till[:N_TEST]\n",
    "print(f\"Test-size: {len(test)}\")\n",
    "train = no_till[N_TEST:] + conv_till[N_TEST:]\n",
    "print(f\"Train-size: {len(train)}\")"
   ]
  },
  {
   "cell_type": "markdown",
   "id": "ff8ff251",
   "metadata": {},
   "source": [
    "## Train the Classifier\n",
    "\n",
    "Train a Random Forest classifier on field-level data. "
   ]
  },
  {
   "cell_type": "code",
   "execution_count": 8,
   "id": "bd4f9821",
   "metadata": {},
   "outputs": [
    {
     "name": "stdout",
     "output_type": "stream",
     "text": [
      "Loaded existing cloud-filter!\n"
     ]
    }
   ],
   "source": [
    "# Load in and initialise the model\n",
    "model = FieldRF(\n",
    "    models_path=Path.cwd() / 'models',\n",
    ")"
   ]
  },
  {
   "cell_type": "code",
   "execution_count": null,
   "id": "cfbf469f",
   "metadata": {},
   "outputs": [
    {
     "name": "stderr",
     "output_type": "stream",
     "text": [
      "\r",
      "Processing:   0%|          | 0/528 [00:00<?, ?it/s]"
     ]
    }
   ],
   "source": [
    "# Train the model\n",
    "model.train(\n",
    "    field_ids=train,\n",
    "    data_path=Path.home() / 'data/agoro/2021-05-02'\n",
    ")"
   ]
  },
  {
   "cell_type": "code",
   "execution_count": null,
   "id": "31f00d78",
   "metadata": {},
   "outputs": [],
   "source": [
    "# Evaluate the model\n",
    "true, preds = model.eval(\n",
    "    field_ids=test,\n",
    "    data_path=Path.home() / 'data/agoro/2021-05-02'\n",
    ")\n",
    "\n",
    "# Show confusion matrix\n",
    "arr = confusion_matrix(true, preds, normalize='true')\n",
    "plt.figure(figsize=(5, 5))\n",
    "sns.heatmap(arr, annot=True, fmt=\".3f\", vmin=0)\n",
    "title = f\"Cloud Classifier (f1: {100*f1_score(true, preds):.2f}%)\"\n",
    "plt.title(title)\n",
    "plt.xlabel(\"Predicted\")\n",
    "plt.xticks([0.5, 1.5], ['No-Till', 'Conv.-Till'])\n",
    "plt.ylabel(\"Actual\")\n",
    "plt.yticks([0.5, 1.5], ['No-Till', 'Conv.-Till'])\n",
    "plt.show()\n",
    "\n",
    "# Print out the misclassified\n",
    "print(\"Misclassified\")\n",
    "for i,l,p in zip(test,true,preds):\n",
    "    if l != p:\n",
    "        print(f\" - {i}\")"
   ]
  },
  {
   "cell_type": "code",
   "execution_count": null,
   "id": "2a444803",
   "metadata": {},
   "outputs": [],
   "source": [
    "# Save the model\n",
    "model.save()"
   ]
  },
  {
   "cell_type": "code",
   "execution_count": null,
   "id": "7697e59d",
   "metadata": {},
   "outputs": [],
   "source": [
    "# Example on inference\n",
    "with open(Path.home() / 'data/agoro/2021-05-02/104403/samples/sentinel2.json', 'r') as f:\n",
    "    sample = json.load(f)\n",
    "print(f\"Prediction on 104403 (should be False):\", model(sample))\n",
    "\n",
    "with open(Path.home() / 'data/agoro/2021-05-02/103077/samples/sentinel2.json', 'r') as f:\n",
    "    sample = json.load(f)\n",
    "print(f\"Prediction on 103077 (should be True):\", model(sample))"
   ]
  },
  {
   "cell_type": "code",
   "execution_count": null,
   "id": "f5cb8157",
   "metadata": {},
   "outputs": [],
   "source": []
  }
 ],
 "metadata": {
  "hide_input": false,
  "kernelspec": {
   "display_name": "Python 3",
   "language": "python",
   "name": "python3"
  },
  "language_info": {
   "codemirror_mode": {
    "name": "ipython",
    "version": 3
   },
   "file_extension": ".py",
   "mimetype": "text/x-python",
   "name": "python",
   "nbconvert_exporter": "python",
   "pygments_lexer": "ipython3",
   "version": "3.8.8"
  }
 },
 "nbformat": 4,
 "nbformat_minor": 5
}
