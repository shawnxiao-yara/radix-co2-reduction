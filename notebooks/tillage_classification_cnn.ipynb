{
 "cells": [
  {
   "cell_type": "code",
   "execution_count": 1,
   "id": "0c1abfa8",
   "metadata": {},
   "outputs": [],
   "source": [
    "%load_ext autoreload\n",
    "%autoreload 2"
   ]
  },
  {
   "cell_type": "code",
   "execution_count": 2,
   "id": "dd32908e",
   "metadata": {},
   "outputs": [
    {
     "name": "stdout",
     "output_type": "stream",
     "text": [
      "/Users/rubenbroekx/Documents/Projects/radix-co2-reduction\n"
     ]
    }
   ],
   "source": [
    "%cd .."
   ]
  },
  {
   "cell_type": "markdown",
   "id": "904276fb",
   "metadata": {},
   "source": [
    "# Tillage Classification - CNN\n",
    "\n",
    "Tillage classification using a 1-dimensional CNN."
   ]
  },
  {
   "cell_type": "code",
   "execution_count": 3,
   "id": "f86efde3",
   "metadata": {},
   "outputs": [],
   "source": [
    "import json\n",
    "\n",
    "from glob import glob\n",
    "from collections import Counter\n",
    "from pathlib import Path\n",
    "from sklearn.ensemble import RandomForestClassifier\n",
    "from sklearn.model_selection import cross_val_score"
   ]
  },
  {
   "cell_type": "markdown",
   "id": "d21caa86",
   "metadata": {},
   "source": [
    "## Load Data\n",
    "\n",
    "Load in all data used for the classification."
   ]
  },
  {
   "cell_type": "code",
   "execution_count": 4,
   "id": "620d88b5",
   "metadata": {},
   "outputs": [],
   "source": [
    "# Root data folder\n",
    "DATA = Path.home() / 'data/agoro/2021-05-01'"
   ]
  },
  {
   "cell_type": "code",
   "execution_count": 5,
   "id": "d7f5faaf",
   "metadata": {},
   "outputs": [],
   "source": [
    "# Fetch field-IDs\n",
    "all_ids = glob(str(DATA / '*/ndti.png'))\n",
    "all_ids = [int(i.split('/')[-2]) for i in all_ids]"
   ]
  },
  {
   "cell_type": "code",
   "execution_count": 6,
   "id": "5cd99a6b",
   "metadata": {},
   "outputs": [
    {
     "name": "stdout",
     "output_type": "stream",
     "text": [
      "Total number of data samples: 478\n",
      "Number of samples by class:\n",
      " - Conv.-Till: 237\n",
      " - No-Till: 241\n"
     ]
    }
   ],
   "source": [
    "# Load in all data\n",
    "meta_data = {}\n",
    "for i in all_ids:\n",
    "    with open(DATA / f\"{i}/meta.json\", 'r') as f:\n",
    "        meta_data[i] = json.load(f)\n",
    "        \n",
    "# Extract tillage types\n",
    "tillage_types = {k:v['tillage'] for k,v in meta_data.items()}\n",
    "\n",
    "# Get total number of fields\n",
    "print(f\"Total number of data samples:\", len(tillage_types))\n",
    "\n",
    "# Show classes\n",
    "print(f\"Number of samples by class:\")\n",
    "for k,v in Counter(tillage_types.values()).items():\n",
    "    print(f\" - {k}: {v}\")"
   ]
  },
  {
   "cell_type": "code",
   "execution_count": 53,
   "id": "542a3f28",
   "metadata": {},
   "outputs": [],
   "source": [
    "with open(DATA / '104403/samples/sentinel2.json', 'r') as f:\n",
    "    sample = json.load(f)"
   ]
  },
  {
   "cell_type": "code",
   "execution_count": 49,
   "id": "8527e73c",
   "metadata": {
    "scrolled": true
   },
   "outputs": [
    {
     "ename": "TypeError",
     "evalue": "_normalise() missing 1 required positional argument: 'ls'",
     "output_type": "error",
     "traceback": [
      "\u001b[0;31m---------------------------------------------------------------------------\u001b[0m",
      "\u001b[0;31mTypeError\u001b[0m                                 Traceback (most recent call last)",
      "\u001b[0;32m<ipython-input-49-b16f9070da46>\u001b[0m in \u001b[0;36m<module>\u001b[0;34m\u001b[0m\n\u001b[1;32m     23\u001b[0m     \u001b[0;32mreturn\u001b[0m \u001b[0mvectors\u001b[0m\u001b[0;34m\u001b[0m\u001b[0;34m\u001b[0m\u001b[0m\n\u001b[1;32m     24\u001b[0m \u001b[0;34m\u001b[0m\u001b[0m\n\u001b[0;32m---> 25\u001b[0;31m \u001b[0mvectors\u001b[0m \u001b[0;34m=\u001b[0m\u001b[0m_to_vector\u001b[0m\u001b[0;34m(\u001b[0m\u001b[0msample\u001b[0m\u001b[0;34m)\u001b[0m\u001b[0;34m\u001b[0m\u001b[0;34m\u001b[0m\u001b[0m\n\u001b[0m",
      "\u001b[0;32m<ipython-input-49-b16f9070da46>\u001b[0m in \u001b[0;36m_to_vector\u001b[0;34m(s)\u001b[0m\n\u001b[1;32m     19\u001b[0m         \u001b[0;32mfor\u001b[0m \u001b[0md\u001b[0m \u001b[0;32min\u001b[0m \u001b[0mdates\u001b[0m\u001b[0;34m:\u001b[0m\u001b[0;34m\u001b[0m\u001b[0;34m\u001b[0m\u001b[0m\n\u001b[1;32m     20\u001b[0m             \u001b[0;32mif\u001b[0m \u001b[0ms\u001b[0m\u001b[0;34m[\u001b[0m\u001b[0md\u001b[0m\u001b[0;34m]\u001b[0m\u001b[0;34m[\u001b[0m\u001b[0mBANDS\u001b[0m\u001b[0;34m[\u001b[0m\u001b[0;36m0\u001b[0m\u001b[0;34m]\u001b[0m\u001b[0;34m]\u001b[0m\u001b[0;34m[\u001b[0m\u001b[0mp_idx\u001b[0m\u001b[0;34m]\u001b[0m \u001b[0;32mis\u001b[0m \u001b[0;32mNone\u001b[0m\u001b[0;34m:\u001b[0m \u001b[0;32mcontinue\u001b[0m\u001b[0;34m\u001b[0m\u001b[0;34m\u001b[0m\u001b[0m\n\u001b[0;32m---> 21\u001b[0;31m             \u001b[0mv\u001b[0m\u001b[0;34m.\u001b[0m\u001b[0mappend\u001b[0m\u001b[0;34m(\u001b[0m\u001b[0;34m[\u001b[0m\u001b[0m_normalise\u001b[0m\u001b[0;34m(\u001b[0m\u001b[0ms\u001b[0m\u001b[0;34m[\u001b[0m\u001b[0md\u001b[0m\u001b[0;34m]\u001b[0m\u001b[0;34m[\u001b[0m\u001b[0mb\u001b[0m\u001b[0;34m]\u001b[0m\u001b[0;34m[\u001b[0m\u001b[0mp_idx\u001b[0m\u001b[0;34m]\u001b[0m\u001b[0;34m)\u001b[0m \u001b[0;32mfor\u001b[0m \u001b[0mb\u001b[0m \u001b[0;32min\u001b[0m \u001b[0mBANDS\u001b[0m\u001b[0;34m]\u001b[0m\u001b[0;34m)\u001b[0m\u001b[0;34m\u001b[0m\u001b[0;34m\u001b[0m\u001b[0m\n\u001b[0m\u001b[1;32m     22\u001b[0m         \u001b[0mvectors\u001b[0m\u001b[0;34m.\u001b[0m\u001b[0mappend\u001b[0m\u001b[0;34m(\u001b[0m\u001b[0mnp\u001b[0m\u001b[0;34m.\u001b[0m\u001b[0masarray\u001b[0m\u001b[0;34m(\u001b[0m\u001b[0mv\u001b[0m\u001b[0;34m,\u001b[0m \u001b[0mdtype\u001b[0m\u001b[0;34m=\u001b[0m\u001b[0mnp\u001b[0m\u001b[0;34m.\u001b[0m\u001b[0mfloat32\u001b[0m\u001b[0;34m)\u001b[0m\u001b[0;34m)\u001b[0m\u001b[0;34m\u001b[0m\u001b[0;34m\u001b[0m\u001b[0m\n\u001b[1;32m     23\u001b[0m     \u001b[0;32mreturn\u001b[0m \u001b[0mvectors\u001b[0m\u001b[0;34m\u001b[0m\u001b[0;34m\u001b[0m\u001b[0m\n",
      "\u001b[0;32m<ipython-input-49-b16f9070da46>\u001b[0m in \u001b[0;36m<listcomp>\u001b[0;34m(.0)\u001b[0m\n\u001b[1;32m     19\u001b[0m         \u001b[0;32mfor\u001b[0m \u001b[0md\u001b[0m \u001b[0;32min\u001b[0m \u001b[0mdates\u001b[0m\u001b[0;34m:\u001b[0m\u001b[0;34m\u001b[0m\u001b[0;34m\u001b[0m\u001b[0m\n\u001b[1;32m     20\u001b[0m             \u001b[0;32mif\u001b[0m \u001b[0ms\u001b[0m\u001b[0;34m[\u001b[0m\u001b[0md\u001b[0m\u001b[0;34m]\u001b[0m\u001b[0;34m[\u001b[0m\u001b[0mBANDS\u001b[0m\u001b[0;34m[\u001b[0m\u001b[0;36m0\u001b[0m\u001b[0;34m]\u001b[0m\u001b[0;34m]\u001b[0m\u001b[0;34m[\u001b[0m\u001b[0mp_idx\u001b[0m\u001b[0;34m]\u001b[0m \u001b[0;32mis\u001b[0m \u001b[0;32mNone\u001b[0m\u001b[0;34m:\u001b[0m \u001b[0;32mcontinue\u001b[0m\u001b[0;34m\u001b[0m\u001b[0;34m\u001b[0m\u001b[0m\n\u001b[0;32m---> 21\u001b[0;31m             \u001b[0mv\u001b[0m\u001b[0;34m.\u001b[0m\u001b[0mappend\u001b[0m\u001b[0;34m(\u001b[0m\u001b[0;34m[\u001b[0m\u001b[0m_normalise\u001b[0m\u001b[0;34m(\u001b[0m\u001b[0ms\u001b[0m\u001b[0;34m[\u001b[0m\u001b[0md\u001b[0m\u001b[0;34m]\u001b[0m\u001b[0;34m[\u001b[0m\u001b[0mb\u001b[0m\u001b[0;34m]\u001b[0m\u001b[0;34m[\u001b[0m\u001b[0mp_idx\u001b[0m\u001b[0;34m]\u001b[0m\u001b[0;34m)\u001b[0m \u001b[0;32mfor\u001b[0m \u001b[0mb\u001b[0m \u001b[0;32min\u001b[0m \u001b[0mBANDS\u001b[0m\u001b[0;34m]\u001b[0m\u001b[0;34m)\u001b[0m\u001b[0;34m\u001b[0m\u001b[0;34m\u001b[0m\u001b[0m\n\u001b[0m\u001b[1;32m     22\u001b[0m         \u001b[0mvectors\u001b[0m\u001b[0;34m.\u001b[0m\u001b[0mappend\u001b[0m\u001b[0;34m(\u001b[0m\u001b[0mnp\u001b[0m\u001b[0;34m.\u001b[0m\u001b[0masarray\u001b[0m\u001b[0;34m(\u001b[0m\u001b[0mv\u001b[0m\u001b[0;34m,\u001b[0m \u001b[0mdtype\u001b[0m\u001b[0;34m=\u001b[0m\u001b[0mnp\u001b[0m\u001b[0;34m.\u001b[0m\u001b[0mfloat32\u001b[0m\u001b[0;34m)\u001b[0m\u001b[0;34m)\u001b[0m\u001b[0;34m\u001b[0m\u001b[0;34m\u001b[0m\u001b[0m\n\u001b[1;32m     23\u001b[0m     \u001b[0;32mreturn\u001b[0m \u001b[0mvectors\u001b[0m\u001b[0;34m\u001b[0m\u001b[0;34m\u001b[0m\u001b[0m\n",
      "\u001b[0;31mTypeError\u001b[0m: _normalise() missing 1 required positional argument: 'ls'"
     ]
    }
   ],
   "source": [
    "import numpy as np\n",
    "from typing import List\n",
    "from src.radix_co2_reduction.tillage_detection.index import b,g,r,nir,swir1,swir2\n",
    "from src.radix_co2_reduction.tillage_detection.process import normalise_band\n",
    "\n",
    "def _normalise(x:int, ls:bool) -> float:\n",
    "    \"\"\"Normalise the band's value.\"\"\"\n",
    "    return min(max(x/(10_000 if ls else 20_000), 0), 1)\n",
    "    \n",
    "BANDS = ['B','G','R','NIR','SWIR1','SWIR2']\n",
    "\n",
    "def _to_vector(s) -> List[np.ndarray]:\n",
    "    \"\"\"Transform the sample to a list of spectral vectors for each of its pixels.\"\"\"\n",
    "    vectors = []\n",
    "    dates = sorted(s.keys())\n",
    "    n_pixels = len(s[dates[0]][BANDS[0]])\n",
    "    for p_idx in range(n_pixels):\n",
    "        v = []\n",
    "        for d in dates:\n",
    "            if s[d][BANDS[0]][p_idx] is None: continue\n",
    "            v.append([_normalise(s[d][b][p_idx]) for b in BANDS])\n",
    "        vectors.append(np.asarray(v, dtype=np.float32))\n",
    "    return vectors\n",
    "    \n",
    "vectors =_to_vector(sample)"
   ]
  },
  {
   "cell_type": "code",
   "execution_count": 37,
   "id": "397dbc82",
   "metadata": {},
   "outputs": [
    {
     "data": {
      "text/plain": [
       "array([0.1192, 0.1346, 0.1506, 0.3072, 0.4148, 0.3277], dtype=float32)"
      ]
     },
     "execution_count": 37,
     "metadata": {},
     "output_type": "execute_result"
    }
   ],
   "source": [
    "vectors[0][-1]"
   ]
  },
  {
   "cell_type": "code",
   "execution_count": 27,
   "id": "91ad0b91",
   "metadata": {},
   "outputs": [
    {
     "data": {
      "text/plain": [
       "['B', 'G', 'R', 'NIR', 'SWIR1', 'SWIR2']"
      ]
     },
     "execution_count": 27,
     "metadata": {},
     "output_type": "execute_result"
    }
   ],
   "source": [
    "BANDS"
   ]
  },
  {
   "cell_type": "code",
   "execution_count": 45,
   "id": "6eabfcf6",
   "metadata": {},
   "outputs": [],
   "source": [
    "r_ls = [x for x in sample2['2020-05-25']['R'] if x]"
   ]
  },
  {
   "cell_type": "code",
   "execution_count": 46,
   "id": "b2ec9038",
   "metadata": {},
   "outputs": [
    {
     "data": {
      "text/plain": [
       "1172.6161616161617"
      ]
     },
     "execution_count": 46,
     "metadata": {},
     "output_type": "execute_result"
    }
   ],
   "source": [
    "sum(r_ls)/len(r_ls)"
   ]
  },
  {
   "cell_type": "code",
   "execution_count": 57,
   "id": "42c978a0",
   "metadata": {},
   "outputs": [
    {
     "data": {
      "text/plain": [
       "dict_keys(['2019-11-07', '2019-12-25', '2020-02-27', '2020-03-30', '2020-05-01'])"
      ]
     },
     "execution_count": 57,
     "metadata": {},
     "output_type": "execute_result"
    }
   ],
   "source": [
    "sample3.keys()"
   ]
  },
  {
   "cell_type": "code",
   "execution_count": 58,
   "id": "085998ef",
   "metadata": {},
   "outputs": [
    {
     "data": {
      "text/plain": [
       "dict_keys(['2020-01-02', '2020-02-19', '2020-03-06', '2020-05-09', '2020-05-25'])"
      ]
     },
     "execution_count": 58,
     "metadata": {},
     "output_type": "execute_result"
    }
   ],
   "source": [
    "sample2.keys()"
   ]
  },
  {
   "cell_type": "code",
   "execution_count": 56,
   "id": "a72d7530",
   "metadata": {},
   "outputs": [
    {
     "data": {
      "text/plain": [
       "dict_keys(['2019-11-05', '2019-12-05', '2019-12-10', '2019-12-25', '2020-01-09', '2020-02-18', '2020-03-04', '2020-04-08', '2020-04-18', '2020-05-23'])"
      ]
     },
     "execution_count": 56,
     "metadata": {},
     "output_type": "execute_result"
    }
   ],
   "source": [
    "sample.keys()"
   ]
  },
  {
   "cell_type": "code",
   "execution_count": 55,
   "id": "1005d42c",
   "metadata": {},
   "outputs": [
    {
     "data": {
      "text/plain": [
       "10"
      ]
     },
     "execution_count": 55,
     "metadata": {},
     "output_type": "execute_result"
    }
   ],
   "source": [
    "len(sample)"
   ]
  },
  {
   "cell_type": "code",
   "execution_count": 47,
   "id": "e81a2aa1",
   "metadata": {
    "scrolled": false
   },
   "outputs": [],
   "source": [
    "r_s = [x for x in sample['2020-05-23']['R'] if x]"
   ]
  },
  {
   "cell_type": "code",
   "execution_count": 48,
   "id": "caae1171",
   "metadata": {},
   "outputs": [
    {
     "data": {
      "text/plain": [
       "2113.070707070707"
      ]
     },
     "execution_count": 48,
     "metadata": {},
     "output_type": "execute_result"
    }
   ],
   "source": [
    "sum(r_s)/len(r_s)"
   ]
  },
  {
   "cell_type": "code",
   "execution_count": null,
   "id": "aeb80bf6",
   "metadata": {},
   "outputs": [],
   "source": []
  },
  {
   "cell_type": "code",
   "execution_count": null,
   "id": "01eab06f",
   "metadata": {},
   "outputs": [],
   "source": []
  },
  {
   "cell_type": "code",
   "execution_count": null,
   "id": "0346cddd",
   "metadata": {},
   "outputs": [],
   "source": []
  },
  {
   "cell_type": "code",
   "execution_count": null,
   "id": "474bd6b2",
   "metadata": {},
   "outputs": [],
   "source": []
  },
  {
   "cell_type": "code",
   "execution_count": null,
   "id": "ede01359",
   "metadata": {},
   "outputs": [],
   "source": []
  },
  {
   "cell_type": "code",
   "execution_count": 19,
   "id": "576f04b3",
   "metadata": {},
   "outputs": [
    {
     "name": "stdout",
     "output_type": "stream",
     "text": [
      "Loaded existing cloud-filter!\n"
     ]
    },
    {
     "name": "stderr",
     "output_type": "stream",
     "text": [
      "/Users/rubenbroekx/opt/miniconda3/envs/radix-co2-reduction-env/lib/python3.8/site-packages/sklearn/base.py:310: UserWarning: Trying to unpickle estimator SVC from version 0.24.1 when using version 0.24.2. This might lead to breaking code or invalid results. Use at your own risk.\n",
      "  warnings.warn(\n"
     ]
    }
   ],
   "source": [
    "# Load in the cloud filter\n",
    "cloud_filter = CloudFilter(\n",
    "    model_path = Path.cwd() / 'models'\n",
    ")"
   ]
  },
  {
   "cell_type": "code",
   "execution_count": 20,
   "id": "b65aac07",
   "metadata": {},
   "outputs": [
    {
     "name": "stderr",
     "output_type": "stream",
     "text": [
      "Loading in data: 100%|██████████| 333/333 [00:01<00:00, 332.88it/s]\n"
     ]
    }
   ],
   "source": [
    "# Load in the dataset (containing field-samples)\n",
    "dataset = Dataset(\n",
    "    ids=all_ids,\n",
    "    data_path=DATA,\n",
    "    cloud_filter=cloud_filter,\n",
    "    datasets=('landsat7', 'landsat8'),\n",
    ")\n",
    "ids, x, y = dataset.get_data()"
   ]
  },
  {
   "cell_type": "code",
   "execution_count": 21,
   "id": "ea5e1d30",
   "metadata": {},
   "outputs": [
    {
     "name": "stdout",
     "output_type": "stream",
     "text": [
      "Score: 78.11%\n",
      "Standard deviation: 6.38%\n"
     ]
    }
   ],
   "source": [
    "clf = RandomForestClassifier()\n",
    "scores = cross_val_score(\n",
    "    clf,\n",
    "    x,\n",
    "    y,\n",
    "    cv=5,\n",
    ")\n",
    "print(f\"Score: {100*scores.mean():.2f}%\")\n",
    "print(f\"Standard deviation: {100*scores.std():.2f}%\")"
   ]
  },
  {
   "cell_type": "code",
   "execution_count": 22,
   "id": "795f6a6a",
   "metadata": {},
   "outputs": [
    {
     "name": "stdout",
     "output_type": "stream",
     "text": [
      "Field 94148 - Target: Conv.-Till, predicted: No-Till\n",
      "Field 94294 - Target: No-Till, predicted: Conv.-Till\n",
      "Field 103458 - Target: No-Till, predicted: Conv.-Till\n",
      "Field 103810 - Target: No-Till, predicted: Conv.-Till\n",
      "Field 93912 - Target: No-Till, predicted: Conv.-Till\n",
      "Field 102818 - Target: No-Till, predicted: Conv.-Till\n",
      "Field 103915 - Target: Conv.-Till, predicted: No-Till\n",
      "Field 102969 - Target: No-Till, predicted: Conv.-Till\n",
      "Field 94076 - Target: Conv.-Till, predicted: No-Till\n",
      "Field 102999 - Target: Conv.-Till, predicted: No-Till\n",
      "Field 103725 - Target: No-Till, predicted: Conv.-Till\n",
      "Field 103046 - Target: No-Till, predicted: Conv.-Till\n",
      "Field 93731 - Target: Conv.-Till, predicted: No-Till\n",
      "Field 102953 - Target: Conv.-Till, predicted: No-Till\n",
      "Field 93781 - Target: No-Till, predicted: Conv.-Till\n",
      "Field 102843 - Target: Conv.-Till, predicted: No-Till\n",
      "Field 103593 - Target: Conv.-Till, predicted: No-Till\n",
      "Field 103438 - Target: Conv.-Till, predicted: No-Till\n",
      "Field 94801 - Target: No-Till, predicted: Conv.-Till\n",
      "Field 94100 - Target: Conv.-Till, predicted: No-Till\n",
      "Field 79652 - Target: No-Till, predicted: Conv.-Till\n",
      "Field 102755 - Target: Conv.-Till, predicted: No-Till\n",
      "Field 103362 - Target: No-Till, predicted: Conv.-Till\n",
      "Field 103540 - Target: Conv.-Till, predicted: No-Till\n",
      "Field 103752 - Target: Conv.-Till, predicted: No-Till\n",
      "Field 94487 - Target: Conv.-Till, predicted: No-Till\n",
      "Field 103828 - Target: Conv.-Till, predicted: No-Till\n",
      "Field 103209 - Target: Conv.-Till, predicted: No-Till\n",
      "Field 103245 - Target: Conv.-Till, predicted: No-Till\n",
      "Field 94513 - Target: Conv.-Till, predicted: No-Till\n",
      "Field 103207 - Target: No-Till, predicted: Conv.-Till\n",
      "Field 102904 - Target: Conv.-Till, predicted: No-Till\n",
      "Field 102909 - Target: Conv.-Till, predicted: No-Till\n",
      "Field 93896 - Target: Conv.-Till, predicted: No-Till\n",
      "Field 103553 - Target: No-Till, predicted: Conv.-Till\n",
      "Field 103813 - Target: Conv.-Till, predicted: No-Till\n",
      "Field 94410 - Target: No-Till, predicted: Conv.-Till\n",
      "Field 103549 - Target: Conv.-Till, predicted: No-Till\n",
      "Field 103407 - Target: No-Till, predicted: Conv.-Till\n",
      "Field 102780 - Target: Conv.-Till, predicted: No-Till\n",
      "Field 102881 - Target: No-Till, predicted: Conv.-Till\n",
      "Field 95047 - Target: Conv.-Till, predicted: No-Till\n",
      "Field 102991 - Target: Conv.-Till, predicted: No-Till\n",
      "Field 94183 - Target: Conv.-Till, predicted: No-Till\n",
      "Field 103573 - Target: Conv.-Till, predicted: No-Till\n",
      "Field 93754 - Target: Conv.-Till, predicted: No-Till\n",
      "Field 103032 - Target: Conv.-Till, predicted: No-Till\n",
      "Field 103639 - Target: No-Till, predicted: Conv.-Till\n",
      "Field 102803 - Target: Conv.-Till, predicted: No-Till\n",
      "Field 80314 - Target: No-Till, predicted: Conv.-Till\n",
      "Field 94430 - Target: No-Till, predicted: Conv.-Till\n",
      "Field 103858 - Target: No-Till, predicted: Conv.-Till\n",
      "Field 103572 - Target: Conv.-Till, predicted: No-Till\n",
      "Field 94537 - Target: Conv.-Till, predicted: No-Till\n",
      "Field 94509 - Target: No-Till, predicted: Conv.-Till\n",
      "Field 103244 - Target: Conv.-Till, predicted: No-Till\n",
      "Field 102954 - Target: Conv.-Till, predicted: No-Till\n",
      "\n",
      "Total of 57 misclassified samples (21.51%)\n"
     ]
    }
   ],
   "source": [
    "# Print out misclassified field IDs\n",
    "frac = round(1./5. * (len(y)-1))\n",
    "c = 0\n",
    "for i in range(5):\n",
    "    x_train, x_test = x[:i*frac] + x[(i+1)*frac:], x[i*frac:(i+1)*frac]\n",
    "    y_train, y_test = y[:i*frac] + y[(i+1)*frac:], y[i*frac:(i+1)*frac]\n",
    "    ids_test = dataset.ids[i*frac:(i+1)*frac]\n",
    "    clf.fit(x_train, y_train)\n",
    "    pred = clf.predict(x_test)\n",
    "    for a,b,i in zip(pred, y_test, ids_test):\n",
    "        if a != b: \n",
    "            print(f\"Field {i} - Target: {b}, predicted: {a}\")\n",
    "            c += 1\n",
    "print(f\"\\nTotal of {c} misclassified samples ({100*c/len(y):.2f}%)\")"
   ]
  },
  {
   "cell_type": "code",
   "execution_count": 24,
   "id": "37475ec6",
   "metadata": {},
   "outputs": [],
   "source": [
    "import pickle\n",
    "\n",
    "# Store the classifier as pickled object\n",
    "with open(Path.cwd() / 'models/till_clf_rf.pickle', 'wb') as f:\n",
    "    pickle.dump(clf, f)"
   ]
  },
  {
   "cell_type": "code",
   "execution_count": null,
   "id": "8b78d165",
   "metadata": {},
   "outputs": [],
   "source": []
  }
 ],
 "metadata": {
  "hide_input": false,
  "kernelspec": {
   "display_name": "Python 3",
   "language": "python",
   "name": "python3"
  },
  "language_info": {
   "codemirror_mode": {
    "name": "ipython",
    "version": 3
   },
   "file_extension": ".py",
   "mimetype": "text/x-python",
   "name": "python",
   "nbconvert_exporter": "python",
   "pygments_lexer": "ipython3",
   "version": "3.8.8"
  }
 },
 "nbformat": 4,
 "nbformat_minor": 5
}
