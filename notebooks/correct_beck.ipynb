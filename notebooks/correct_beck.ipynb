{
 "cells": [
  {
   "cell_type": "code",
   "execution_count": 1,
   "id": "fac1c765",
   "metadata": {},
   "outputs": [
    {
     "name": "stdout",
     "output_type": "stream",
     "text": [
      "/Users/rubenbroekx/Documents/Projects/radix-co2-reduction\n"
     ]
    }
   ],
   "source": [
    "%load_ext autoreload\n",
    "%autoreload 2\n",
    "\n",
    "%cd .."
   ]
  },
  {
   "cell_type": "markdown",
   "id": "905343c8",
   "metadata": {},
   "source": [
    "# Correct Beck\n",
    "\n",
    "Correct the Beck's field dataset."
   ]
  },
  {
   "cell_type": "code",
   "execution_count": 2,
   "id": "d8c85d02",
   "metadata": {},
   "outputs": [],
   "source": [
    "import re\n",
    "import pandas as pd\n",
    "\n",
    "from pathlib import Path\n",
    "from datetime import datetime\n",
    "from typing import Optional"
   ]
  },
  {
   "cell_type": "code",
   "execution_count": 3,
   "id": "92e03471",
   "metadata": {},
   "outputs": [
    {
     "name": "stdout",
     "output_type": "stream",
     "text": [
      "Number of samples: 2488\n"
     ]
    },
    {
     "data": {
      "text/html": [
       "<div>\n",
       "<style scoped>\n",
       "    .dataframe tbody tr th:only-of-type {\n",
       "        vertical-align: middle;\n",
       "    }\n",
       "\n",
       "    .dataframe tbody tr th {\n",
       "        vertical-align: top;\n",
       "    }\n",
       "\n",
       "    .dataframe thead th {\n",
       "        text-align: right;\n",
       "    }\n",
       "</style>\n",
       "<table border=\"1\" class=\"dataframe\">\n",
       "  <thead>\n",
       "    <tr style=\"text-align: right;\">\n",
       "      <th></th>\n",
       "      <th>harvest_date</th>\n",
       "      <th>id</th>\n",
       "      <th>lat</th>\n",
       "      <th>lng</th>\n",
       "      <th>pdf</th>\n",
       "      <th>planted_date</th>\n",
       "      <th>tillage</th>\n",
       "      <th>year</th>\n",
       "    </tr>\n",
       "  </thead>\n",
       "  <tbody>\n",
       "    <tr>\n",
       "      <th>0</th>\n",
       "      <td>HARVESTED: 10/01/2017</td>\n",
       "      <td>67968.0</td>\n",
       "      <td>35.288577</td>\n",
       "      <td>-86.214094</td>\n",
       "      <td>67968.pdf</td>\n",
       "      <td>PLANTED: 04/14/2017</td>\n",
       "      <td>TILLAGE: No-Till</td>\n",
       "      <td>2017.0</td>\n",
       "    </tr>\n",
       "    <tr>\n",
       "      <th>1</th>\n",
       "      <td>HARVESTED: 09/30/2017</td>\n",
       "      <td>67971.0</td>\n",
       "      <td>35.246390</td>\n",
       "      <td>-87.093086</td>\n",
       "      <td>67971.pdf</td>\n",
       "      <td>PLANTED: 04/25/2017</td>\n",
       "      <td>TILLAGE: No-Till</td>\n",
       "      <td>2017.0</td>\n",
       "    </tr>\n",
       "    <tr>\n",
       "      <th>2</th>\n",
       "      <td>HARVESTED: 10/28/2017</td>\n",
       "      <td>67946.0</td>\n",
       "      <td>42.078668</td>\n",
       "      <td>-95.574360</td>\n",
       "      <td>67946.pdf</td>\n",
       "      <td>PLANTED: 04/23/2017\\n\\nHARVESTED: 10/28/2017 S...</td>\n",
       "      <td>TILLAGE: Field Cultivation</td>\n",
       "      <td>2017.0</td>\n",
       "    </tr>\n",
       "    <tr>\n",
       "      <th>3</th>\n",
       "      <td>HARVESTED: 10/30/2017</td>\n",
       "      <td>71032.0</td>\n",
       "      <td>40.614919</td>\n",
       "      <td>-88.539258</td>\n",
       "      <td>71032.pdf</td>\n",
       "      <td>PLANTED: 04/24/2017</td>\n",
       "      <td>TILLAGE: Strip-Till</td>\n",
       "      <td>2017.0</td>\n",
       "    </tr>\n",
       "    <tr>\n",
       "      <th>4</th>\n",
       "      <td>HARVESTED: 12/04/2017</td>\n",
       "      <td>68073.0</td>\n",
       "      <td>38.813362</td>\n",
       "      <td>-83.577890</td>\n",
       "      <td>68073.pdf</td>\n",
       "      <td>PLANTED: 04/26/2017</td>\n",
       "      <td>TILLAGE: No-Till</td>\n",
       "      <td>2017.0</td>\n",
       "    </tr>\n",
       "    <tr>\n",
       "      <th>...</th>\n",
       "      <td>...</td>\n",
       "      <td>...</td>\n",
       "      <td>...</td>\n",
       "      <td>...</td>\n",
       "      <td>...</td>\n",
       "      <td>...</td>\n",
       "      <td>...</td>\n",
       "      <td>...</td>\n",
       "    </tr>\n",
       "    <tr>\n",
       "      <th>2483</th>\n",
       "      <td>HARVESTED: 10/20/2020</td>\n",
       "      <td>102983.0</td>\n",
       "      <td>40.570445</td>\n",
       "      <td>-93.066438</td>\n",
       "      <td>102983.pdf</td>\n",
       "      <td>PLANTED: 04/30/2020</td>\n",
       "      <td>TILLAGE: No-Till</td>\n",
       "      <td>2020.0</td>\n",
       "    </tr>\n",
       "    <tr>\n",
       "      <th>2484</th>\n",
       "      <td>HARVESTED: 09/27/2020</td>\n",
       "      <td>102860.0</td>\n",
       "      <td>44.686568</td>\n",
       "      <td>-95.178946</td>\n",
       "      <td>102860.pdf</td>\n",
       "      <td>PLANTED: 04/23/2020</td>\n",
       "      <td>TILLAGE: Conv.-Till / Disk-Rip</td>\n",
       "      <td>2020.0</td>\n",
       "    </tr>\n",
       "    <tr>\n",
       "      <th>2485</th>\n",
       "      <td>HARVESTED: 09/24/2020</td>\n",
       "      <td>102797.0</td>\n",
       "      <td>38.251729</td>\n",
       "      <td>-87.496576</td>\n",
       "      <td>102797.pdf</td>\n",
       "      <td>PLANTED: 04/02/2020</td>\n",
       "      <td>TILLAGE: Chisel / Field Cultivation</td>\n",
       "      <td>2020.0</td>\n",
       "    </tr>\n",
       "    <tr>\n",
       "      <th>2486</th>\n",
       "      <td>HARVESTED: 10/01/2020</td>\n",
       "      <td>103511.0</td>\n",
       "      <td>40.628187</td>\n",
       "      <td>-89.453044</td>\n",
       "      <td>103511.pdf</td>\n",
       "      <td>PLANTED: 06/01/2020</td>\n",
       "      <td>TILLAGE: Field Cultivation</td>\n",
       "      <td>2020.0</td>\n",
       "    </tr>\n",
       "    <tr>\n",
       "      <th>2487</th>\n",
       "      <td>HARVESTED: 10/28/2020</td>\n",
       "      <td>102876.0</td>\n",
       "      <td>41.287111</td>\n",
       "      <td>-88.882005</td>\n",
       "      <td>102876.pdf</td>\n",
       "      <td>PLANTED: 04/21/2020</td>\n",
       "      <td>TILLAGE: Field Cultivation</td>\n",
       "      <td>2020.0</td>\n",
       "    </tr>\n",
       "  </tbody>\n",
       "</table>\n",
       "<p>2488 rows × 8 columns</p>\n",
       "</div>"
      ],
      "text/plain": [
       "                harvest_date        id        lat        lng         pdf  \\\n",
       "0     HARVESTED: 10/01/2017    67968.0  35.288577 -86.214094   67968.pdf   \n",
       "1     HARVESTED: 09/30/2017    67971.0  35.246390 -87.093086   67971.pdf   \n",
       "2     HARVESTED: 10/28/2017    67946.0  42.078668 -95.574360   67946.pdf   \n",
       "3     HARVESTED: 10/30/2017    71032.0  40.614919 -88.539258   71032.pdf   \n",
       "4     HARVESTED: 12/04/2017    68073.0  38.813362 -83.577890   68073.pdf   \n",
       "...                      ...       ...        ...        ...         ...   \n",
       "2483  HARVESTED: 10/20/2020   102983.0  40.570445 -93.066438  102983.pdf   \n",
       "2484  HARVESTED: 09/27/2020   102860.0  44.686568 -95.178946  102860.pdf   \n",
       "2485  HARVESTED: 09/24/2020   102797.0  38.251729 -87.496576  102797.pdf   \n",
       "2486  HARVESTED: 10/01/2020   103511.0  40.628187 -89.453044  103511.pdf   \n",
       "2487  HARVESTED: 10/28/2020   102876.0  41.287111 -88.882005  102876.pdf   \n",
       "\n",
       "                                           planted_date  \\\n",
       "0                                  PLANTED: 04/14/2017    \n",
       "1                                  PLANTED: 04/25/2017    \n",
       "2     PLANTED: 04/23/2017\\n\\nHARVESTED: 10/28/2017 S...   \n",
       "3                                  PLANTED: 04/24/2017    \n",
       "4                                  PLANTED: 04/26/2017    \n",
       "...                                                 ...   \n",
       "2483                               PLANTED: 04/30/2020    \n",
       "2484                               PLANTED: 04/23/2020    \n",
       "2485                               PLANTED: 04/02/2020    \n",
       "2486                               PLANTED: 06/01/2020    \n",
       "2487                               PLANTED: 04/21/2020    \n",
       "\n",
       "                                  tillage    year  \n",
       "0                        TILLAGE: No-Till  2017.0  \n",
       "1                        TILLAGE: No-Till  2017.0  \n",
       "2              TILLAGE: Field Cultivation  2017.0  \n",
       "3                     TILLAGE: Strip-Till  2017.0  \n",
       "4                        TILLAGE: No-Till  2017.0  \n",
       "...                                   ...     ...  \n",
       "2483                     TILLAGE: No-Till  2020.0  \n",
       "2484       TILLAGE: Conv.-Till / Disk-Rip  2020.0  \n",
       "2485  TILLAGE: Chisel / Field Cultivation  2020.0  \n",
       "2486           TILLAGE: Field Cultivation  2020.0  \n",
       "2487           TILLAGE: Field Cultivation  2020.0  \n",
       "\n",
       "[2488 rows x 8 columns]"
      ]
     },
     "execution_count": 3,
     "metadata": {},
     "output_type": "execute_result"
    }
   ],
   "source": [
    "beck = pd.read_csv(Path.cwd() / 'data/beck_corn_data.csv', index_col=0)\n",
    "beck.drop(columns=['Unnamed: 0.1'], inplace=True)\n",
    "print(f\"Number of samples:\", len(beck))\n",
    "beck"
   ]
  },
  {
   "cell_type": "markdown",
   "id": "b545f307",
   "metadata": {},
   "source": [
    "## PDF column\n",
    "\n",
    "Unnecessary, so drop it."
   ]
  },
  {
   "cell_type": "code",
   "execution_count": 4,
   "id": "e8894953",
   "metadata": {},
   "outputs": [
    {
     "name": "stdout",
     "output_type": "stream",
     "text": [
      "Number of samples: 2488\n"
     ]
    }
   ],
   "source": [
    "beck.drop(columns=['pdf'], inplace=True)\n",
    "print(f\"Number of samples:\", len(beck))"
   ]
  },
  {
   "cell_type": "markdown",
   "id": "550d17df",
   "metadata": {},
   "source": [
    "## Dates\n",
    "\n",
    "Fix the planted and harvest dates."
   ]
  },
  {
   "cell_type": "code",
   "execution_count": 5,
   "id": "e2c38ceb",
   "metadata": {},
   "outputs": [
    {
     "name": "stdout",
     "output_type": "stream",
     "text": [
      "Number of samples: 2432\n"
     ]
    }
   ],
   "source": [
    "def extract_harvest_date(d: str) -> Optional[str]:\n",
    "    \"\"\"Parse out the harvest date.\"\"\"\n",
    "    d = re.sub(r\"[\\n]+\", \" \", d)[11:21]\n",
    "    try:\n",
    "        return datetime.strptime(d, \"%m/%d/%Y\").strftime(\"%Y-%m-%d\")\n",
    "    except ValueError:\n",
    "        return None\n",
    "    \n",
    "beck['harvest_date'] = [extract_harvest_date(d) for d in beck.harvest_date]\n",
    "beck.dropna(subset=['harvest_date'], inplace=True)\n",
    "print(f\"Number of samples:\", len(beck))"
   ]
  },
  {
   "cell_type": "code",
   "execution_count": 6,
   "id": "d4baa0d9",
   "metadata": {},
   "outputs": [
    {
     "name": "stdout",
     "output_type": "stream",
     "text": [
      "Number of samples: 2430\n"
     ]
    }
   ],
   "source": [
    "def extract_planting_date(d: str) -> Optional[str]:\n",
    "    \"\"\"Parse out the harvest date.\"\"\"\n",
    "    d = re.sub(r\"[\\n]+\", \" \", d)[9:19]\n",
    "    try:\n",
    "        return datetime.strptime(d, \"%m/%d/%Y\").strftime(\"%Y-%m-%d\")\n",
    "    except ValueError:\n",
    "        return None\n",
    "    \n",
    "beck['planted_date'] = [extract_planting_date(d) for d in beck.planted_date]\n",
    "beck.dropna(subset=['planted_date'], inplace=True)\n",
    "print(f\"Number of samples:\", len(beck))"
   ]
  },
  {
   "cell_type": "markdown",
   "id": "b5236d2c",
   "metadata": {},
   "source": [
    "## Typing\n",
    "\n",
    "Ensure correct typing in dataset."
   ]
  },
  {
   "cell_type": "code",
   "execution_count": 7,
   "id": "99477a8d",
   "metadata": {},
   "outputs": [
    {
     "name": "stdout",
     "output_type": "stream",
     "text": [
      "Number of samples: 2430\n"
     ]
    }
   ],
   "source": [
    "beck['id'] = [int(i) for i in beck.id]\n",
    "beck['year'] = [int(i) for i in beck.year]\n",
    "print(f\"Number of samples:\", len(beck))"
   ]
  },
  {
   "cell_type": "markdown",
   "id": "cd13497f",
   "metadata": {},
   "source": [
    "## Tillage\n",
    "\n",
    "Correct the tillage.\n",
    "\n",
    "**NOTE: Currently, only 'Conv.-Till', 'No-Till', and 'Field Cultivation' are kept.**"
   ]
  },
  {
   "cell_type": "code",
   "execution_count": 8,
   "id": "04cfaa93",
   "metadata": {},
   "outputs": [],
   "source": [
    "# from collections import Counter\n",
    "# sorted(Counter(beck.tillage).items(), key=lambda x: -x[1])"
   ]
  },
  {
   "cell_type": "code",
   "execution_count": 9,
   "id": "d1e12237",
   "metadata": {},
   "outputs": [],
   "source": [
    "TILLAGE_TYPES = (\n",
    "    'Conv.-Till',\n",
    "    'No-Till',\n",
    ")"
   ]
  },
  {
   "cell_type": "code",
   "execution_count": 10,
   "id": "529396cb",
   "metadata": {},
   "outputs": [
    {
     "name": "stdout",
     "output_type": "stream",
     "text": [
      "Number of samples: 1591\n"
     ]
    }
   ],
   "source": [
    "def extract_tillage(t: str) -> Optional[str]:\n",
    "    \"\"\"Parse out the tillage type.\"\"\"\n",
    "    if t == 'TILLAGE: Conv.-Till':\n",
    "        return 'Conv.-Till'\n",
    "    elif t == 'TILLAGE: No-Till':\n",
    "        return 'No-Till'\n",
    "    elif t == 'TILLAGE: Field Cultivation' or t == 'TILLAGE: Chisel / Field Cultivation':\n",
    "        return 'Conv.-Till'\n",
    "    else:\n",
    "        return None\n",
    "    \n",
    "beck['tillage'] = [extract_tillage(d) for d in beck.tillage]\n",
    "beck.dropna(subset=['tillage'], inplace=True)\n",
    "print(f\"Number of samples:\", len(beck))"
   ]
  },
  {
   "cell_type": "code",
   "execution_count": 11,
   "id": "db75863e",
   "metadata": {},
   "outputs": [
    {
     "name": "stdout",
     "output_type": "stream",
     "text": [
      "Corrected 0 samples\n",
      "Number of samples: 1591\n"
     ]
    }
   ],
   "source": [
    "# Manual correction\n",
    "TILLAGE = {\n",
    "}\n",
    "\n",
    "print(f\"Corrected {len(TILLAGE)} samples\")\n",
    "for k,v in TILLAGE.items():\n",
    "    assert v in TILLAGE_TYPES\n",
    "    beck.at[beck[beck.id == k].index, 'tillage'] = v\n",
    "print(f\"Number of samples:\", len(beck))"
   ]
  },
  {
   "cell_type": "markdown",
   "id": "52e530b8",
   "metadata": {},
   "source": [
    "## Cover Crop\n",
    "\n",
    "Add information about cover crops (manually checked)."
   ]
  },
  {
   "cell_type": "code",
   "execution_count": 12,
   "id": "6baa4b85",
   "metadata": {},
   "outputs": [],
   "source": [
    "beck['cover_crop'] = None"
   ]
  },
  {
   "cell_type": "code",
   "execution_count": 13,
   "id": "be5085f2",
   "metadata": {},
   "outputs": [
    {
     "name": "stdout",
     "output_type": "stream",
     "text": [
      "Annotated 69 samples\n",
      "Number of samples: 1591\n"
     ]
    }
   ],
   "source": [
    "COVER_CROP = {\n",
    "    94546: True,\n",
    "    103524: True,\n",
    "    103476: True,\n",
    "    103293: True,\n",
    "    103036: True,\n",
    "    103154: True,\n",
    "    103038: True,\n",
    "    94546: True,\n",
    "    103423: True,\n",
    "    103256: True,\n",
    "    103249: True,\n",
    "    103536: True,\n",
    "    94114: True,\n",
    "    103688: True,\n",
    "    57901: True,\n",
    "    103071: True,\n",
    "    94513: True,\n",
    "    103639: True,\n",
    "    102834: True,\n",
    "    102784: True,\n",
    "    93836: True,\n",
    "    68001: True,\n",
    "    102919: True,\n",
    "    103424: True,\n",
    "    104133: True,\n",
    "    94523: True,\n",
    "    94625: True,\n",
    "    93727: True,\n",
    "    69422: True,\n",
    "    70781: True,\n",
    "    70782: True,\n",
    "    80077: True,\n",
    "    103420: True,\n",
    "    71025: True,\n",
    "    93837: True,\n",
    "    70432: True,\n",
    "    80080: True,\n",
    "    79661: True,\n",
    "    103088: True,\n",
    "    103514: True,\n",
    "    69399: True,\n",
    "    68286: True,\n",
    "    79391: True,\n",
    "    68170: True,\n",
    "    103575: True,\n",
    "    102777: True,\n",
    "    103698: False,\n",
    "    103810: False,\n",
    "    104403: False,\n",
    "    104394: False,\n",
    "    104353: False,\n",
    "    104312: False,\n",
    "    79482: False,\n",
    "    68364: False,\n",
    "    103408: False,\n",
    "    104551: False,\n",
    "    104354: False,\n",
    "    103671: False,\n",
    "    103910: False,\n",
    "    80304: False,\n",
    "    79981: False,\n",
    "    103916: False,\n",
    "    103837: False,\n",
    "    102922: False,\n",
    "    93796: False,\n",
    "    79239: False,\n",
    "    93741: False,\n",
    "    93783: False,\n",
    "    103569: False,\n",
    "    103352: False,\n",
    "}\n",
    "\n",
    "print(f\"Annotated {len(COVER_CROP)} samples\")\n",
    "for k,v in COVER_CROP.items():\n",
    "    beck.at[beck[beck.id == k].index, 'cover_crop'] = v\n",
    "print(f\"Number of samples:\", len(beck))"
   ]
  },
  {
   "cell_type": "markdown",
   "id": "23b24675",
   "metadata": {},
   "source": [
    "## Save\n",
    "\n",
    "Save the adjusted dataset."
   ]
  },
  {
   "cell_type": "code",
   "execution_count": 14,
   "id": "725d0055",
   "metadata": {},
   "outputs": [],
   "source": [
    "beck.to_csv(Path.cwd() / 'data/beck_corrected.csv', index=False)"
   ]
  },
  {
   "cell_type": "code",
   "execution_count": null,
   "id": "bbd0532d",
   "metadata": {},
   "outputs": [],
   "source": []
  }
 ],
 "metadata": {
  "hide_input": false,
  "kernelspec": {
   "display_name": "Python 3",
   "language": "python",
   "name": "python3"
  },
  "language_info": {
   "codemirror_mode": {
    "name": "ipython",
    "version": 3
   },
   "file_extension": ".py",
   "mimetype": "text/x-python",
   "name": "python",
   "nbconvert_exporter": "python",
   "pygments_lexer": "ipython3",
   "version": "3.8.8"
  }
 },
 "nbformat": 4,
 "nbformat_minor": 5
}
